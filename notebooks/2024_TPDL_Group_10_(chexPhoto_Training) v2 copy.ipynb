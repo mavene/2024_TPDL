{
  "cells": [
    {
      "cell_type": "markdown",
      "metadata": {
        "id": "P7Wnon2hSjX4"
      },
      "source": [
        "# 50.039 Theory and Practice of Deep Learning Project 2024"
      ]
    },
    {
      "cell_type": "markdown",
      "metadata": {
        "id": "8pDddTCFTJ5e"
      },
      "source": [
        "Group 10\n",
        "- Issac Jose Ignatius (1004999)\n",
        "- Mahima Sharma (1006106)\n",
        "- Dian Maisara (1006377)\n"
      ]
    },
    {
      "cell_type": "markdown",
      "metadata": {
        "id": "dYA9XwWzT1eq"
      },
      "source": [
        "## Motivation"
      ]
    },
    {
      "cell_type": "markdown",
      "metadata": {
        "id": "Jym9IzWeTp_t"
      },
      "source": [
        "Chest radiography is an essential diagnostic tool used in medical imaging to visualise structures and organs within the chest cavity. It is crucial for diagnosing various respiratory and heart-related conditions. However, with the increased demand for radiological reports within shorter timeframes to detect and treat illnesses, there have been insufficient radiologists available to perform such tasks at scale. Therefore, automated chest radiograph interpretation could provide substantial benefits supporting large-scale screening and population health initiatives. Deep-learning algorithms can be used to bridge this gap. They have been used for image classification, anomaly detection, organ segmentation, and disease progression prediction.\n",
        "<br><br>\n",
        "\n",
        "*In this project, we aim to train a deep neural network to perform multi-label image classification on a wide array of chest radiograph images that exhibit various pathologies.*<br><br>\n",
        "\n",
        "\n",
        "\n",
        "---\n",
        "\n",
        "\n"
      ]
    },
    {
      "cell_type": "markdown",
      "metadata": {
        "id": "vca9P0PG41JP"
      },
      "source": [
        "## Import all relevant libraries"
      ]
    },
    {
      "cell_type": "code",
      "execution_count": 1,
      "metadata": {
        "colab": {
          "base_uri": "https://localhost:8080/"
        },
        "id": "zhwXTMVh444O",
        "outputId": "28cb2533-408a-4b7a-d599-3297f016ce03"
      },
      "outputs": [
        {
          "name": "stdout",
          "output_type": "stream",
          "text": [
            "0.17.2+cu121\n"
          ]
        }
      ],
      "source": [
        "# Numpy\n",
        "import numpy as np\n",
        "# Pandas\n",
        "import pandas as pd\n",
        "\n",
        "# Torch\n",
        "import torch\n",
        "import torch.nn as nn\n",
        "import torch.nn.functional as F\n",
        "from torch.utils.data import Dataset, DataLoader, WeightedRandomSampler, RandomSampler\n",
        "import torchvision\n",
        "import torchvision.transforms as T\n",
        "from torchvision.transforms import v2\n",
        "from torchvision.io import read_image, ImageReadMode\n",
        "from torchmetrics.classification import MulticlassAccuracy\n",
        "\n",
        "\n",
        "# File Operations\n",
        "import os\n",
        "\n",
        "# Helper scripts\n",
        "from tqdm.notebook import tqdm, tnrange\n",
        "import math\n",
        "# import sys\n",
        "# sys.path.insert(0, '../src')\n",
        "# from saver_loader import *\n",
        "# %reload_ext autoreload\n",
        "# %autoreload 2\n",
        "\n",
        "print(torchvision.__version__)"
      ]
    },
    {
      "cell_type": "code",
      "execution_count": 2,
      "metadata": {
        "colab": {
          "base_uri": "https://localhost:8080/"
        },
        "id": "xIVnsm3EBTSi",
        "outputId": "9387f0c6-6c1c-4f10-ff27-7375e56b3196"
      },
      "outputs": [
        {
          "name": "stdout",
          "output_type": "stream",
          "text": [
            "cuda\n"
          ]
        }
      ],
      "source": [
        "# Use GPU if available, else use CPU\n",
        "device = torch.device(\"cuda\" if torch.cuda.is_available() else \"cpu\")\n",
        "# device = torch.device(\"cpu\") \n",
        "print(device)"
      ]
    },
    {
      "cell_type": "markdown",
      "metadata": {
        "id": "Z12EVXOwUKsx"
      },
      "source": [
        "## Data Loading"
      ]
    },
    {
      "cell_type": "markdown",
      "metadata": {
        "id": "Zr9mlGP5UNb_"
      },
      "source": [
        "The training and validation datasets are from the **CheXphoto dataset** (Philips et al., 2020). <br><br> CheXphoto comprises a training set of natural photos and synthetic transformations of 10,507 X-ray images from 3,000 unique patients (32,521 data points) sampled at random from the CheXpert training dataset and an accompanying validation set of natural and synthetic transformations applied to all 234 X-ray images from 200 patients with an additional 200 cell phone photos of x-ray films from another 200 unique patients (952 data points)."
      ]
    },
    {
      "cell_type": "markdown",
      "metadata": {
        "id": "4t_Fw1lG_ouA"
      },
      "source": [
        "### Retrieving dataset from Google Cloud Storage (GCS)\n",
        "\n",
        "\n"
      ]
    },
    {
      "cell_type": "code",
      "execution_count": 3,
      "metadata": {
        "colab": {
          "base_uri": "https://localhost:8080/"
        },
        "id": "7VPAB3GgF5n3",
        "outputId": "8db567de-4e7b-4835-a2d3-24d6b0f014dd"
      },
      "outputs": [],
      "source": [
        "# # Connect to GCS to access data\n",
        "# from google.colab import auth\n",
        "# auth.authenticate_user() # TODO: everyone to send me gmail so I can have you authed for bucket access\n",
        "\n",
        "# project_id = 'tpdl-414711'\n",
        "# bucket_name = 'chexphoto-v1'\n",
        "# !gcloud config set project {project_id}\n",
        "\n",
        "# # Install Cloud Storage FUSE.\n",
        "# !echo \"deb https://packages.cloud.google.com/apt gcsfuse-`lsb_release -c -s` main\" | sudo tee /etc/apt/sources.list.d/gcsfuse.list\n",
        "# !curl https://packages.cloud.google.com/apt/doc/apt-key.gpg | sudo apt-key add -\n",
        "# !apt -qq update && apt -qq install gcsfuse\n",
        "\n",
        "# # Mount a Cloud Storage bucket or location, without the gs:// prefix.\n",
        "# mount_path = \"chexphoto-v1\"  # or a location like \"my-bucket/path/to/mount\"\n",
        "# local_path = f\"/mnt/gs/{mount_path}\"\n",
        "\n",
        "# !mkdir -p {local_path}\n",
        "# !gcsfuse --implicit-dirs {mount_path} {local_path}"
      ]
    },
    {
      "cell_type": "markdown",
      "metadata": {},
      "source": [
        "### Setup environment variables\n"
      ]
    },
    {
      "cell_type": "code",
      "execution_count": 4,
      "metadata": {},
      "outputs": [
        {
          "name": "stdout",
          "output_type": "stream",
          "text": [
            "c:\\Users\\User\\Desktop\\50.039 TPDL\\2024_TPDL\\notebooks\\../ChexPhoto/chexphoto-v1\n"
          ]
        }
      ],
      "source": [
        "data_path = os.path.join(os.path.abspath(''), \"../ChexPhoto/chexphoto-v1\")\n",
        "print(data_path)"
      ]
    },
    {
      "cell_type": "markdown",
      "metadata": {
        "id": "5UoygSwiKB48"
      },
      "source": [
        "### Loading dataset (image and labels)"
      ]
    },
    {
      "cell_type": "code",
      "execution_count": 5,
      "metadata": {},
      "outputs": [],
      "source": [
        "# Bug in Path present in training dataset\n",
        "def fix_error_paths(row):\n",
        "    row = row.replace(\"//\", \"/\")\n",
        "    return row\n",
        "\n",
        "def str_to_array(row):\n",
        "    ndarray = np.fromstring(\n",
        "                row.replace('\\n','')\n",
        "                    .replace('[','')\n",
        "                    .replace(']','')\n",
        "                    .replace('  ',' '), \n",
        "                    sep=' ')\n",
        "    return ndarray"
      ]
    },
    {
      "cell_type": "code",
      "execution_count": 6,
      "metadata": {
        "colab": {
          "base_uri": "https://localhost:8080/",
          "height": 1000
        },
        "id": "ctE0vG2isE6n",
        "outputId": "3c4be188-19b1-4e93-a5b7-bd585c5086ba"
      },
      "outputs": [
        {
          "name": "stdout",
          "output_type": "stream",
          "text": [
            "13 Index(['Enlarged Cardiomediastinum', 'Cardiomegaly', 'Lung Opacity',\n",
            "       'Lung Lesion', 'Edema', 'Consolidation', 'Pneumonia', 'Atelectasis',\n",
            "       'Pneumothorax', 'Pleural Effusion', 'Pleural Other', 'Fracture',\n",
            "       'Support Devices'],\n",
            "      dtype='object')\n"
          ]
        }
      ],
      "source": [
        "train_df = pd.read_csv(\"../data/processed/train_one_hot_encoded.csv\", index_col=False)\n",
        "labels = train_df.columns[1:]\n",
        "print(len(labels), labels)"
      ]
    },
    {
      "cell_type": "code",
      "execution_count": 7,
      "metadata": {},
      "outputs": [
        {
          "data": {
            "text/html": [
              "<div>\n",
              "<style scoped>\n",
              "    .dataframe tbody tr th:only-of-type {\n",
              "        vertical-align: middle;\n",
              "    }\n",
              "\n",
              "    .dataframe tbody tr th {\n",
              "        vertical-align: top;\n",
              "    }\n",
              "\n",
              "    .dataframe thead th {\n",
              "        text-align: right;\n",
              "    }\n",
              "</style>\n",
              "<table border=\"1\" class=\"dataframe\">\n",
              "  <thead>\n",
              "    <tr style=\"text-align: right;\">\n",
              "      <th></th>\n",
              "      <th>Path</th>\n",
              "      <th>Enlarged Cardiomediastinum</th>\n",
              "      <th>Cardiomegaly</th>\n",
              "      <th>Lung Opacity</th>\n",
              "      <th>Lung Lesion</th>\n",
              "      <th>Edema</th>\n",
              "      <th>Consolidation</th>\n",
              "      <th>Pneumonia</th>\n",
              "      <th>Atelectasis</th>\n",
              "      <th>Pneumothorax</th>\n",
              "      <th>Pleural Effusion</th>\n",
              "      <th>Pleural Other</th>\n",
              "      <th>Fracture</th>\n",
              "      <th>Support Devices</th>\n",
              "    </tr>\n",
              "  </thead>\n",
              "  <tbody>\n",
              "    <tr>\n",
              "      <th>0</th>\n",
              "      <td>CheXphoto-v1.0/train/synthetic/digital/patient...</td>\n",
              "      <td>[0.0, 1.0, 0.0]</td>\n",
              "      <td>[0.0, 0.0, 0.0]</td>\n",
              "      <td>[0.0, 0.0, 0.0]</td>\n",
              "      <td>[0.0, 0.0, 0.0]</td>\n",
              "      <td>[0.0, 0.0, 0.0]</td>\n",
              "      <td>[0.0, 1.0, 0.0]</td>\n",
              "      <td>[0.0, 0.0, 0.0]</td>\n",
              "      <td>[0.0, 0.0, 0.0]</td>\n",
              "      <td>[0.0, 0.0, 0.0]</td>\n",
              "      <td>[0.0, 1.0, 0.0]</td>\n",
              "      <td>[0.0, 0.0, 0.0]</td>\n",
              "      <td>[0.0, 0.0, 0.0]</td>\n",
              "      <td>[0.0, 0.0, 0.0]</td>\n",
              "    </tr>\n",
              "    <tr>\n",
              "      <th>1</th>\n",
              "      <td>CheXphoto-v1.0/train/synthetic/digital/patient...</td>\n",
              "      <td>[0.0, 1.0, 0.0]</td>\n",
              "      <td>[0.0, 0.0, 0.0]</td>\n",
              "      <td>[0.0, 0.0, 0.0]</td>\n",
              "      <td>[0.0, 0.0, 0.0]</td>\n",
              "      <td>[0.0, 0.0, 0.0]</td>\n",
              "      <td>[0.0, 1.0, 0.0]</td>\n",
              "      <td>[0.0, 0.0, 0.0]</td>\n",
              "      <td>[0.0, 0.0, 0.0]</td>\n",
              "      <td>[0.0, 0.0, 0.0]</td>\n",
              "      <td>[0.0, 1.0, 0.0]</td>\n",
              "      <td>[0.0, 0.0, 0.0]</td>\n",
              "      <td>[0.0, 0.0, 0.0]</td>\n",
              "      <td>[0.0, 0.0, 0.0]</td>\n",
              "    </tr>\n",
              "    <tr>\n",
              "      <th>2</th>\n",
              "      <td>CheXphoto-v1.0/train/synthetic/digital/patient...</td>\n",
              "      <td>[0.0, 0.0, 0.0]</td>\n",
              "      <td>[0.0, 0.0, 0.0]</td>\n",
              "      <td>[0.0, 0.0, 0.0]</td>\n",
              "      <td>[0.0, 0.0, 1.0]</td>\n",
              "      <td>[0.0, 0.0, 0.0]</td>\n",
              "      <td>[0.0, 0.0, 0.0]</td>\n",
              "      <td>[0.0, 0.0, 0.0]</td>\n",
              "      <td>[0.0, 0.0, 0.0]</td>\n",
              "      <td>[0.0, 1.0, 0.0]</td>\n",
              "      <td>[0.0, 0.0, 0.0]</td>\n",
              "      <td>[0.0, 0.0, 0.0]</td>\n",
              "      <td>[0.0, 0.0, 0.0]</td>\n",
              "      <td>[0.0, 0.0, 0.0]</td>\n",
              "    </tr>\n",
              "    <tr>\n",
              "      <th>3</th>\n",
              "      <td>CheXphoto-v1.0/train/synthetic/digital/patient...</td>\n",
              "      <td>[0.0, 0.0, 0.0]</td>\n",
              "      <td>[0.0, 0.0, 0.0]</td>\n",
              "      <td>[0.0, 0.0, 0.0]</td>\n",
              "      <td>[0.0, 0.0, 1.0]</td>\n",
              "      <td>[0.0, 0.0, 0.0]</td>\n",
              "      <td>[0.0, 0.0, 0.0]</td>\n",
              "      <td>[0.0, 0.0, 0.0]</td>\n",
              "      <td>[0.0, 0.0, 0.0]</td>\n",
              "      <td>[0.0, 1.0, 0.0]</td>\n",
              "      <td>[0.0, 0.0, 0.0]</td>\n",
              "      <td>[0.0, 0.0, 0.0]</td>\n",
              "      <td>[0.0, 0.0, 0.0]</td>\n",
              "      <td>[0.0, 0.0, 0.0]</td>\n",
              "    </tr>\n",
              "    <tr>\n",
              "      <th>4</th>\n",
              "      <td>CheXphoto-v1.0/train/synthetic/digital/patient...</td>\n",
              "      <td>[0.0, 0.0, 0.0]</td>\n",
              "      <td>[0.0, 0.0, 1.0]</td>\n",
              "      <td>[0.0, 0.0, 1.0]</td>\n",
              "      <td>[0.0, 0.0, 1.0]</td>\n",
              "      <td>[0.0, 0.0, 0.0]</td>\n",
              "      <td>[0.0, 0.0, 0.0]</td>\n",
              "      <td>[0.0, 0.0, 0.0]</td>\n",
              "      <td>[0.0, 0.0, 1.0]</td>\n",
              "      <td>[0.0, 0.0, 1.0]</td>\n",
              "      <td>[0.0, 0.0, 1.0]</td>\n",
              "      <td>[0.0, 0.0, 0.0]</td>\n",
              "      <td>[0.0, 0.0, 0.0]</td>\n",
              "      <td>[0.0, 1.0, 0.0]</td>\n",
              "    </tr>\n",
              "    <tr>\n",
              "      <th>...</th>\n",
              "      <td>...</td>\n",
              "      <td>...</td>\n",
              "      <td>...</td>\n",
              "      <td>...</td>\n",
              "      <td>...</td>\n",
              "      <td>...</td>\n",
              "      <td>...</td>\n",
              "      <td>...</td>\n",
              "      <td>...</td>\n",
              "      <td>...</td>\n",
              "      <td>...</td>\n",
              "      <td>...</td>\n",
              "      <td>...</td>\n",
              "      <td>...</td>\n",
              "    </tr>\n",
              "    <tr>\n",
              "      <th>32516</th>\n",
              "      <td>CheXphoto-v1.0/train/natural/nokia/patient6446...</td>\n",
              "      <td>[0.0, 0.0, 0.0]</td>\n",
              "      <td>[0.0, 0.0, 0.0]</td>\n",
              "      <td>[0.0, 0.0, 1.0]</td>\n",
              "      <td>[0.0, 0.0, 0.0]</td>\n",
              "      <td>[0.0, 0.0, 0.0]</td>\n",
              "      <td>[0.0, 0.0, 0.0]</td>\n",
              "      <td>[1.0, 0.0, 0.0]</td>\n",
              "      <td>[0.0, 0.0, 0.0]</td>\n",
              "      <td>[0.0, 0.0, 0.0]</td>\n",
              "      <td>[0.0, 0.0, 1.0]</td>\n",
              "      <td>[0.0, 0.0, 0.0]</td>\n",
              "      <td>[0.0, 0.0, 0.0]</td>\n",
              "      <td>[0.0, 0.0, 0.0]</td>\n",
              "    </tr>\n",
              "    <tr>\n",
              "      <th>32517</th>\n",
              "      <td>CheXphoto-v1.0/train/natural/nokia/patient6446...</td>\n",
              "      <td>[0.0, 0.0, 0.0]</td>\n",
              "      <td>[0.0, 0.0, 0.0]</td>\n",
              "      <td>[0.0, 0.0, 1.0]</td>\n",
              "      <td>[0.0, 0.0, 0.0]</td>\n",
              "      <td>[0.0, 0.0, 0.0]</td>\n",
              "      <td>[0.0, 0.0, 0.0]</td>\n",
              "      <td>[1.0, 0.0, 0.0]</td>\n",
              "      <td>[1.0, 0.0, 0.0]</td>\n",
              "      <td>[0.0, 0.0, 0.0]</td>\n",
              "      <td>[0.0, 0.0, 1.0]</td>\n",
              "      <td>[0.0, 0.0, 0.0]</td>\n",
              "      <td>[0.0, 0.0, 0.0]</td>\n",
              "      <td>[0.0, 0.0, 0.0]</td>\n",
              "    </tr>\n",
              "    <tr>\n",
              "      <th>32518</th>\n",
              "      <td>CheXphoto-v1.0/train/natural/nokia/patient6446...</td>\n",
              "      <td>[0.0, 0.0, 0.0]</td>\n",
              "      <td>[0.0, 0.0, 0.0]</td>\n",
              "      <td>[0.0, 0.0, 1.0]</td>\n",
              "      <td>[0.0, 0.0, 0.0]</td>\n",
              "      <td>[0.0, 0.0, 0.0]</td>\n",
              "      <td>[1.0, 0.0, 0.0]</td>\n",
              "      <td>[0.0, 0.0, 0.0]</td>\n",
              "      <td>[1.0, 0.0, 0.0]</td>\n",
              "      <td>[0.0, 0.0, 0.0]</td>\n",
              "      <td>[0.0, 0.0, 1.0]</td>\n",
              "      <td>[0.0, 0.0, 0.0]</td>\n",
              "      <td>[0.0, 0.0, 0.0]</td>\n",
              "      <td>[0.0, 0.0, 0.0]</td>\n",
              "    </tr>\n",
              "    <tr>\n",
              "      <th>32519</th>\n",
              "      <td>CheXphoto-v1.0/train/natural/nokia/patient6446...</td>\n",
              "      <td>[0.0, 0.0, 0.0]</td>\n",
              "      <td>[0.0, 0.0, 0.0]</td>\n",
              "      <td>[0.0, 0.0, 1.0]</td>\n",
              "      <td>[0.0, 0.0, 0.0]</td>\n",
              "      <td>[0.0, 0.0, 0.0]</td>\n",
              "      <td>[0.0, 0.0, 0.0]</td>\n",
              "      <td>[0.0, 0.0, 0.0]</td>\n",
              "      <td>[0.0, 0.0, 0.0]</td>\n",
              "      <td>[0.0, 0.0, 0.0]</td>\n",
              "      <td>[0.0, 0.0, 1.0]</td>\n",
              "      <td>[0.0, 0.0, 0.0]</td>\n",
              "      <td>[0.0, 0.0, 0.0]</td>\n",
              "      <td>[0.0, 0.0, 0.0]</td>\n",
              "    </tr>\n",
              "    <tr>\n",
              "      <th>32520</th>\n",
              "      <td>CheXphoto-v1.0/train/natural/nokia/patient6452...</td>\n",
              "      <td>[0.0, 0.0, 0.0]</td>\n",
              "      <td>[0.0, 1.0, 0.0]</td>\n",
              "      <td>[0.0, 1.0, 0.0]</td>\n",
              "      <td>[0.0, 0.0, 0.0]</td>\n",
              "      <td>[0.0, 0.0, 0.0]</td>\n",
              "      <td>[0.0, 0.0, 0.0]</td>\n",
              "      <td>[0.0, 0.0, 0.0]</td>\n",
              "      <td>[0.0, 0.0, 0.0]</td>\n",
              "      <td>[0.0, 1.0, 0.0]</td>\n",
              "      <td>[0.0, 1.0, 0.0]</td>\n",
              "      <td>[0.0, 0.0, 0.0]</td>\n",
              "      <td>[0.0, 0.0, 0.0]</td>\n",
              "      <td>[0.0, 1.0, 0.0]</td>\n",
              "    </tr>\n",
              "  </tbody>\n",
              "</table>\n",
              "<p>32521 rows × 14 columns</p>\n",
              "</div>"
            ],
            "text/plain": [
              "                                                    Path  \\\n",
              "0      CheXphoto-v1.0/train/synthetic/digital/patient...   \n",
              "1      CheXphoto-v1.0/train/synthetic/digital/patient...   \n",
              "2      CheXphoto-v1.0/train/synthetic/digital/patient...   \n",
              "3      CheXphoto-v1.0/train/synthetic/digital/patient...   \n",
              "4      CheXphoto-v1.0/train/synthetic/digital/patient...   \n",
              "...                                                  ...   \n",
              "32516  CheXphoto-v1.0/train/natural/nokia/patient6446...   \n",
              "32517  CheXphoto-v1.0/train/natural/nokia/patient6446...   \n",
              "32518  CheXphoto-v1.0/train/natural/nokia/patient6446...   \n",
              "32519  CheXphoto-v1.0/train/natural/nokia/patient6446...   \n",
              "32520  CheXphoto-v1.0/train/natural/nokia/patient6452...   \n",
              "\n",
              "      Enlarged Cardiomediastinum     Cardiomegaly     Lung Opacity  \\\n",
              "0                [0.0, 1.0, 0.0]  [0.0, 0.0, 0.0]  [0.0, 0.0, 0.0]   \n",
              "1                [0.0, 1.0, 0.0]  [0.0, 0.0, 0.0]  [0.0, 0.0, 0.0]   \n",
              "2                [0.0, 0.0, 0.0]  [0.0, 0.0, 0.0]  [0.0, 0.0, 0.0]   \n",
              "3                [0.0, 0.0, 0.0]  [0.0, 0.0, 0.0]  [0.0, 0.0, 0.0]   \n",
              "4                [0.0, 0.0, 0.0]  [0.0, 0.0, 1.0]  [0.0, 0.0, 1.0]   \n",
              "...                          ...              ...              ...   \n",
              "32516            [0.0, 0.0, 0.0]  [0.0, 0.0, 0.0]  [0.0, 0.0, 1.0]   \n",
              "32517            [0.0, 0.0, 0.0]  [0.0, 0.0, 0.0]  [0.0, 0.0, 1.0]   \n",
              "32518            [0.0, 0.0, 0.0]  [0.0, 0.0, 0.0]  [0.0, 0.0, 1.0]   \n",
              "32519            [0.0, 0.0, 0.0]  [0.0, 0.0, 0.0]  [0.0, 0.0, 1.0]   \n",
              "32520            [0.0, 0.0, 0.0]  [0.0, 1.0, 0.0]  [0.0, 1.0, 0.0]   \n",
              "\n",
              "           Lung Lesion            Edema    Consolidation        Pneumonia  \\\n",
              "0      [0.0, 0.0, 0.0]  [0.0, 0.0, 0.0]  [0.0, 1.0, 0.0]  [0.0, 0.0, 0.0]   \n",
              "1      [0.0, 0.0, 0.0]  [0.0, 0.0, 0.0]  [0.0, 1.0, 0.0]  [0.0, 0.0, 0.0]   \n",
              "2      [0.0, 0.0, 1.0]  [0.0, 0.0, 0.0]  [0.0, 0.0, 0.0]  [0.0, 0.0, 0.0]   \n",
              "3      [0.0, 0.0, 1.0]  [0.0, 0.0, 0.0]  [0.0, 0.0, 0.0]  [0.0, 0.0, 0.0]   \n",
              "4      [0.0, 0.0, 1.0]  [0.0, 0.0, 0.0]  [0.0, 0.0, 0.0]  [0.0, 0.0, 0.0]   \n",
              "...                ...              ...              ...              ...   \n",
              "32516  [0.0, 0.0, 0.0]  [0.0, 0.0, 0.0]  [0.0, 0.0, 0.0]  [1.0, 0.0, 0.0]   \n",
              "32517  [0.0, 0.0, 0.0]  [0.0, 0.0, 0.0]  [0.0, 0.0, 0.0]  [1.0, 0.0, 0.0]   \n",
              "32518  [0.0, 0.0, 0.0]  [0.0, 0.0, 0.0]  [1.0, 0.0, 0.0]  [0.0, 0.0, 0.0]   \n",
              "32519  [0.0, 0.0, 0.0]  [0.0, 0.0, 0.0]  [0.0, 0.0, 0.0]  [0.0, 0.0, 0.0]   \n",
              "32520  [0.0, 0.0, 0.0]  [0.0, 0.0, 0.0]  [0.0, 0.0, 0.0]  [0.0, 0.0, 0.0]   \n",
              "\n",
              "           Atelectasis     Pneumothorax Pleural Effusion    Pleural Other  \\\n",
              "0      [0.0, 0.0, 0.0]  [0.0, 0.0, 0.0]  [0.0, 1.0, 0.0]  [0.0, 0.0, 0.0]   \n",
              "1      [0.0, 0.0, 0.0]  [0.0, 0.0, 0.0]  [0.0, 1.0, 0.0]  [0.0, 0.0, 0.0]   \n",
              "2      [0.0, 0.0, 0.0]  [0.0, 1.0, 0.0]  [0.0, 0.0, 0.0]  [0.0, 0.0, 0.0]   \n",
              "3      [0.0, 0.0, 0.0]  [0.0, 1.0, 0.0]  [0.0, 0.0, 0.0]  [0.0, 0.0, 0.0]   \n",
              "4      [0.0, 0.0, 1.0]  [0.0, 0.0, 1.0]  [0.0, 0.0, 1.0]  [0.0, 0.0, 0.0]   \n",
              "...                ...              ...              ...              ...   \n",
              "32516  [0.0, 0.0, 0.0]  [0.0, 0.0, 0.0]  [0.0, 0.0, 1.0]  [0.0, 0.0, 0.0]   \n",
              "32517  [1.0, 0.0, 0.0]  [0.0, 0.0, 0.0]  [0.0, 0.0, 1.0]  [0.0, 0.0, 0.0]   \n",
              "32518  [1.0, 0.0, 0.0]  [0.0, 0.0, 0.0]  [0.0, 0.0, 1.0]  [0.0, 0.0, 0.0]   \n",
              "32519  [0.0, 0.0, 0.0]  [0.0, 0.0, 0.0]  [0.0, 0.0, 1.0]  [0.0, 0.0, 0.0]   \n",
              "32520  [0.0, 0.0, 0.0]  [0.0, 1.0, 0.0]  [0.0, 1.0, 0.0]  [0.0, 0.0, 0.0]   \n",
              "\n",
              "              Fracture  Support Devices  \n",
              "0      [0.0, 0.0, 0.0]  [0.0, 0.0, 0.0]  \n",
              "1      [0.0, 0.0, 0.0]  [0.0, 0.0, 0.0]  \n",
              "2      [0.0, 0.0, 0.0]  [0.0, 0.0, 0.0]  \n",
              "3      [0.0, 0.0, 0.0]  [0.0, 0.0, 0.0]  \n",
              "4      [0.0, 0.0, 0.0]  [0.0, 1.0, 0.0]  \n",
              "...                ...              ...  \n",
              "32516  [0.0, 0.0, 0.0]  [0.0, 0.0, 0.0]  \n",
              "32517  [0.0, 0.0, 0.0]  [0.0, 0.0, 0.0]  \n",
              "32518  [0.0, 0.0, 0.0]  [0.0, 0.0, 0.0]  \n",
              "32519  [0.0, 0.0, 0.0]  [0.0, 0.0, 0.0]  \n",
              "32520  [0.0, 0.0, 0.0]  [0.0, 1.0, 0.0]  \n",
              "\n",
              "[32521 rows x 14 columns]"
            ]
          },
          "metadata": {},
          "output_type": "display_data"
        },
        {
          "data": {
            "text/html": [
              "<div>\n",
              "<style scoped>\n",
              "    .dataframe tbody tr th:only-of-type {\n",
              "        vertical-align: middle;\n",
              "    }\n",
              "\n",
              "    .dataframe tbody tr th {\n",
              "        vertical-align: top;\n",
              "    }\n",
              "\n",
              "    .dataframe thead th {\n",
              "        text-align: right;\n",
              "    }\n",
              "</style>\n",
              "<table border=\"1\" class=\"dataframe\">\n",
              "  <thead>\n",
              "    <tr style=\"text-align: right;\">\n",
              "      <th></th>\n",
              "      <th>Path</th>\n",
              "      <th>Enlarged Cardiomediastinum</th>\n",
              "      <th>Cardiomegaly</th>\n",
              "      <th>Lung Opacity</th>\n",
              "      <th>Lung Lesion</th>\n",
              "      <th>Edema</th>\n",
              "      <th>Consolidation</th>\n",
              "      <th>Pneumonia</th>\n",
              "      <th>Atelectasis</th>\n",
              "      <th>Pneumothorax</th>\n",
              "      <th>Pleural Effusion</th>\n",
              "      <th>Pleural Other</th>\n",
              "      <th>Fracture</th>\n",
              "      <th>Support Devices</th>\n",
              "    </tr>\n",
              "  </thead>\n",
              "  <tbody>\n",
              "    <tr>\n",
              "      <th>0</th>\n",
              "      <td>CheXphoto-v1.0/valid/synthetic/digital/patient...</td>\n",
              "      <td>[0.0, 0.0, 1.0]</td>\n",
              "      <td>[0.0, 0.0, 1.0]</td>\n",
              "      <td>[0.0, 0.0, 1.0]</td>\n",
              "      <td>[0.0, 1.0, 0.0]</td>\n",
              "      <td>[0.0, 1.0, 0.0]</td>\n",
              "      <td>[0.0, 1.0, 0.0]</td>\n",
              "      <td>[0.0, 1.0, 0.0]</td>\n",
              "      <td>[0.0, 1.0, 0.0]</td>\n",
              "      <td>[0.0, 1.0, 0.0]</td>\n",
              "      <td>[0.0, 1.0, 0.0]</td>\n",
              "      <td>[0.0, 1.0, 0.0]</td>\n",
              "      <td>[0.0, 1.0, 0.0]</td>\n",
              "      <td>[0.0, 1.0, 0.0]</td>\n",
              "    </tr>\n",
              "    <tr>\n",
              "      <th>1</th>\n",
              "      <td>CheXphoto-v1.0/valid/synthetic/digital/patient...</td>\n",
              "      <td>[0.0, 1.0, 0.0]</td>\n",
              "      <td>[0.0, 1.0, 0.0]</td>\n",
              "      <td>[0.0, 1.0, 0.0]</td>\n",
              "      <td>[0.0, 1.0, 0.0]</td>\n",
              "      <td>[0.0, 1.0, 0.0]</td>\n",
              "      <td>[0.0, 1.0, 0.0]</td>\n",
              "      <td>[0.0, 1.0, 0.0]</td>\n",
              "      <td>[0.0, 1.0, 0.0]</td>\n",
              "      <td>[0.0, 1.0, 0.0]</td>\n",
              "      <td>[0.0, 1.0, 0.0]</td>\n",
              "      <td>[0.0, 1.0, 0.0]</td>\n",
              "      <td>[0.0, 1.0, 0.0]</td>\n",
              "      <td>[0.0, 0.0, 1.0]</td>\n",
              "    </tr>\n",
              "    <tr>\n",
              "      <th>2</th>\n",
              "      <td>CheXphoto-v1.0/valid/synthetic/digital/patient...</td>\n",
              "      <td>[0.0, 1.0, 0.0]</td>\n",
              "      <td>[0.0, 1.0, 0.0]</td>\n",
              "      <td>[0.0, 1.0, 0.0]</td>\n",
              "      <td>[0.0, 1.0, 0.0]</td>\n",
              "      <td>[0.0, 1.0, 0.0]</td>\n",
              "      <td>[0.0, 1.0, 0.0]</td>\n",
              "      <td>[0.0, 1.0, 0.0]</td>\n",
              "      <td>[0.0, 1.0, 0.0]</td>\n",
              "      <td>[0.0, 1.0, 0.0]</td>\n",
              "      <td>[0.0, 1.0, 0.0]</td>\n",
              "      <td>[0.0, 1.0, 0.0]</td>\n",
              "      <td>[0.0, 1.0, 0.0]</td>\n",
              "      <td>[0.0, 0.0, 1.0]</td>\n",
              "    </tr>\n",
              "    <tr>\n",
              "      <th>3</th>\n",
              "      <td>CheXphoto-v1.0/valid/synthetic/digital/patient...</td>\n",
              "      <td>[0.0, 0.0, 1.0]</td>\n",
              "      <td>[0.0, 1.0, 0.0]</td>\n",
              "      <td>[0.0, 0.0, 1.0]</td>\n",
              "      <td>[0.0, 1.0, 0.0]</td>\n",
              "      <td>[0.0, 0.0, 1.0]</td>\n",
              "      <td>[0.0, 1.0, 0.0]</td>\n",
              "      <td>[0.0, 1.0, 0.0]</td>\n",
              "      <td>[0.0, 1.0, 0.0]</td>\n",
              "      <td>[0.0, 1.0, 0.0]</td>\n",
              "      <td>[0.0, 1.0, 0.0]</td>\n",
              "      <td>[0.0, 1.0, 0.0]</td>\n",
              "      <td>[0.0, 1.0, 0.0]</td>\n",
              "      <td>[0.0, 1.0, 0.0]</td>\n",
              "    </tr>\n",
              "    <tr>\n",
              "      <th>4</th>\n",
              "      <td>CheXphoto-v1.0/valid/synthetic/digital/patient...</td>\n",
              "      <td>[0.0, 1.0, 0.0]</td>\n",
              "      <td>[0.0, 1.0, 0.0]</td>\n",
              "      <td>[0.0, 1.0, 0.0]</td>\n",
              "      <td>[0.0, 1.0, 0.0]</td>\n",
              "      <td>[0.0, 1.0, 0.0]</td>\n",
              "      <td>[0.0, 1.0, 0.0]</td>\n",
              "      <td>[0.0, 1.0, 0.0]</td>\n",
              "      <td>[0.0, 1.0, 0.0]</td>\n",
              "      <td>[0.0, 1.0, 0.0]</td>\n",
              "      <td>[0.0, 1.0, 0.0]</td>\n",
              "      <td>[0.0, 1.0, 0.0]</td>\n",
              "      <td>[0.0, 1.0, 0.0]</td>\n",
              "      <td>[0.0, 1.0, 0.0]</td>\n",
              "    </tr>\n",
              "    <tr>\n",
              "      <th>...</th>\n",
              "      <td>...</td>\n",
              "      <td>...</td>\n",
              "      <td>...</td>\n",
              "      <td>...</td>\n",
              "      <td>...</td>\n",
              "      <td>...</td>\n",
              "      <td>...</td>\n",
              "      <td>...</td>\n",
              "      <td>...</td>\n",
              "      <td>...</td>\n",
              "      <td>...</td>\n",
              "      <td>...</td>\n",
              "      <td>...</td>\n",
              "      <td>...</td>\n",
              "    </tr>\n",
              "    <tr>\n",
              "      <th>697</th>\n",
              "      <td>CheXphoto-v1.0/valid/natural/oneplus/patient64...</td>\n",
              "      <td>[0.0, 1.0, 0.0]</td>\n",
              "      <td>[0.0, 1.0, 0.0]</td>\n",
              "      <td>[0.0, 1.0, 0.0]</td>\n",
              "      <td>[0.0, 1.0, 0.0]</td>\n",
              "      <td>[0.0, 1.0, 0.0]</td>\n",
              "      <td>[0.0, 1.0, 0.0]</td>\n",
              "      <td>[0.0, 1.0, 0.0]</td>\n",
              "      <td>[0.0, 1.0, 0.0]</td>\n",
              "      <td>[0.0, 1.0, 0.0]</td>\n",
              "      <td>[0.0, 1.0, 0.0]</td>\n",
              "      <td>[0.0, 1.0, 0.0]</td>\n",
              "      <td>[0.0, 1.0, 0.0]</td>\n",
              "      <td>[0.0, 0.0, 1.0]</td>\n",
              "    </tr>\n",
              "    <tr>\n",
              "      <th>698</th>\n",
              "      <td>CheXphoto-v1.0/valid/natural/oneplus/patient64...</td>\n",
              "      <td>[0.0, 1.0, 0.0]</td>\n",
              "      <td>[0.0, 1.0, 0.0]</td>\n",
              "      <td>[0.0, 1.0, 0.0]</td>\n",
              "      <td>[0.0, 1.0, 0.0]</td>\n",
              "      <td>[0.0, 1.0, 0.0]</td>\n",
              "      <td>[0.0, 1.0, 0.0]</td>\n",
              "      <td>[0.0, 1.0, 0.0]</td>\n",
              "      <td>[0.0, 1.0, 0.0]</td>\n",
              "      <td>[0.0, 1.0, 0.0]</td>\n",
              "      <td>[0.0, 1.0, 0.0]</td>\n",
              "      <td>[0.0, 1.0, 0.0]</td>\n",
              "      <td>[0.0, 1.0, 0.0]</td>\n",
              "      <td>[0.0, 0.0, 1.0]</td>\n",
              "    </tr>\n",
              "    <tr>\n",
              "      <th>699</th>\n",
              "      <td>CheXphoto-v1.0/valid/natural/oneplus/patient64...</td>\n",
              "      <td>[0.0, 0.0, 1.0]</td>\n",
              "      <td>[0.0, 0.0, 1.0]</td>\n",
              "      <td>[0.0, 0.0, 1.0]</td>\n",
              "      <td>[0.0, 1.0, 0.0]</td>\n",
              "      <td>[0.0, 0.0, 1.0]</td>\n",
              "      <td>[0.0, 1.0, 0.0]</td>\n",
              "      <td>[0.0, 1.0, 0.0]</td>\n",
              "      <td>[0.0, 1.0, 0.0]</td>\n",
              "      <td>[0.0, 1.0, 0.0]</td>\n",
              "      <td>[0.0, 1.0, 0.0]</td>\n",
              "      <td>[0.0, 1.0, 0.0]</td>\n",
              "      <td>[0.0, 1.0, 0.0]</td>\n",
              "      <td>[0.0, 0.0, 1.0]</td>\n",
              "    </tr>\n",
              "    <tr>\n",
              "      <th>700</th>\n",
              "      <td>CheXphoto-v1.0/valid/natural/oneplus/patient64...</td>\n",
              "      <td>[0.0, 0.0, 1.0]</td>\n",
              "      <td>[0.0, 1.0, 0.0]</td>\n",
              "      <td>[0.0, 1.0, 0.0]</td>\n",
              "      <td>[0.0, 1.0, 0.0]</td>\n",
              "      <td>[0.0, 1.0, 0.0]</td>\n",
              "      <td>[0.0, 1.0, 0.0]</td>\n",
              "      <td>[0.0, 1.0, 0.0]</td>\n",
              "      <td>[0.0, 1.0, 0.0]</td>\n",
              "      <td>[0.0, 1.0, 0.0]</td>\n",
              "      <td>[0.0, 1.0, 0.0]</td>\n",
              "      <td>[0.0, 1.0, 0.0]</td>\n",
              "      <td>[0.0, 1.0, 0.0]</td>\n",
              "      <td>[0.0, 1.0, 0.0]</td>\n",
              "    </tr>\n",
              "    <tr>\n",
              "      <th>701</th>\n",
              "      <td>CheXphoto-v1.0/valid/natural/oneplus/patient64...</td>\n",
              "      <td>[0.0, 0.0, 1.0]</td>\n",
              "      <td>[0.0, 1.0, 0.0]</td>\n",
              "      <td>[0.0, 0.0, 1.0]</td>\n",
              "      <td>[0.0, 1.0, 0.0]</td>\n",
              "      <td>[0.0, 1.0, 0.0]</td>\n",
              "      <td>[0.0, 1.0, 0.0]</td>\n",
              "      <td>[0.0, 1.0, 0.0]</td>\n",
              "      <td>[0.0, 0.0, 1.0]</td>\n",
              "      <td>[0.0, 1.0, 0.0]</td>\n",
              "      <td>[0.0, 0.0, 1.0]</td>\n",
              "      <td>[0.0, 1.0, 0.0]</td>\n",
              "      <td>[0.0, 1.0, 0.0]</td>\n",
              "      <td>[0.0, 1.0, 0.0]</td>\n",
              "    </tr>\n",
              "  </tbody>\n",
              "</table>\n",
              "<p>702 rows × 14 columns</p>\n",
              "</div>"
            ],
            "text/plain": [
              "                                                  Path  \\\n",
              "0    CheXphoto-v1.0/valid/synthetic/digital/patient...   \n",
              "1    CheXphoto-v1.0/valid/synthetic/digital/patient...   \n",
              "2    CheXphoto-v1.0/valid/synthetic/digital/patient...   \n",
              "3    CheXphoto-v1.0/valid/synthetic/digital/patient...   \n",
              "4    CheXphoto-v1.0/valid/synthetic/digital/patient...   \n",
              "..                                                 ...   \n",
              "697  CheXphoto-v1.0/valid/natural/oneplus/patient64...   \n",
              "698  CheXphoto-v1.0/valid/natural/oneplus/patient64...   \n",
              "699  CheXphoto-v1.0/valid/natural/oneplus/patient64...   \n",
              "700  CheXphoto-v1.0/valid/natural/oneplus/patient64...   \n",
              "701  CheXphoto-v1.0/valid/natural/oneplus/patient64...   \n",
              "\n",
              "    Enlarged Cardiomediastinum     Cardiomegaly     Lung Opacity  \\\n",
              "0              [0.0, 0.0, 1.0]  [0.0, 0.0, 1.0]  [0.0, 0.0, 1.0]   \n",
              "1              [0.0, 1.0, 0.0]  [0.0, 1.0, 0.0]  [0.0, 1.0, 0.0]   \n",
              "2              [0.0, 1.0, 0.0]  [0.0, 1.0, 0.0]  [0.0, 1.0, 0.0]   \n",
              "3              [0.0, 0.0, 1.0]  [0.0, 1.0, 0.0]  [0.0, 0.0, 1.0]   \n",
              "4              [0.0, 1.0, 0.0]  [0.0, 1.0, 0.0]  [0.0, 1.0, 0.0]   \n",
              "..                         ...              ...              ...   \n",
              "697            [0.0, 1.0, 0.0]  [0.0, 1.0, 0.0]  [0.0, 1.0, 0.0]   \n",
              "698            [0.0, 1.0, 0.0]  [0.0, 1.0, 0.0]  [0.0, 1.0, 0.0]   \n",
              "699            [0.0, 0.0, 1.0]  [0.0, 0.0, 1.0]  [0.0, 0.0, 1.0]   \n",
              "700            [0.0, 0.0, 1.0]  [0.0, 1.0, 0.0]  [0.0, 1.0, 0.0]   \n",
              "701            [0.0, 0.0, 1.0]  [0.0, 1.0, 0.0]  [0.0, 0.0, 1.0]   \n",
              "\n",
              "         Lung Lesion            Edema    Consolidation        Pneumonia  \\\n",
              "0    [0.0, 1.0, 0.0]  [0.0, 1.0, 0.0]  [0.0, 1.0, 0.0]  [0.0, 1.0, 0.0]   \n",
              "1    [0.0, 1.0, 0.0]  [0.0, 1.0, 0.0]  [0.0, 1.0, 0.0]  [0.0, 1.0, 0.0]   \n",
              "2    [0.0, 1.0, 0.0]  [0.0, 1.0, 0.0]  [0.0, 1.0, 0.0]  [0.0, 1.0, 0.0]   \n",
              "3    [0.0, 1.0, 0.0]  [0.0, 0.0, 1.0]  [0.0, 1.0, 0.0]  [0.0, 1.0, 0.0]   \n",
              "4    [0.0, 1.0, 0.0]  [0.0, 1.0, 0.0]  [0.0, 1.0, 0.0]  [0.0, 1.0, 0.0]   \n",
              "..               ...              ...              ...              ...   \n",
              "697  [0.0, 1.0, 0.0]  [0.0, 1.0, 0.0]  [0.0, 1.0, 0.0]  [0.0, 1.0, 0.0]   \n",
              "698  [0.0, 1.0, 0.0]  [0.0, 1.0, 0.0]  [0.0, 1.0, 0.0]  [0.0, 1.0, 0.0]   \n",
              "699  [0.0, 1.0, 0.0]  [0.0, 0.0, 1.0]  [0.0, 1.0, 0.0]  [0.0, 1.0, 0.0]   \n",
              "700  [0.0, 1.0, 0.0]  [0.0, 1.0, 0.0]  [0.0, 1.0, 0.0]  [0.0, 1.0, 0.0]   \n",
              "701  [0.0, 1.0, 0.0]  [0.0, 1.0, 0.0]  [0.0, 1.0, 0.0]  [0.0, 1.0, 0.0]   \n",
              "\n",
              "         Atelectasis     Pneumothorax Pleural Effusion    Pleural Other  \\\n",
              "0    [0.0, 1.0, 0.0]  [0.0, 1.0, 0.0]  [0.0, 1.0, 0.0]  [0.0, 1.0, 0.0]   \n",
              "1    [0.0, 1.0, 0.0]  [0.0, 1.0, 0.0]  [0.0, 1.0, 0.0]  [0.0, 1.0, 0.0]   \n",
              "2    [0.0, 1.0, 0.0]  [0.0, 1.0, 0.0]  [0.0, 1.0, 0.0]  [0.0, 1.0, 0.0]   \n",
              "3    [0.0, 1.0, 0.0]  [0.0, 1.0, 0.0]  [0.0, 1.0, 0.0]  [0.0, 1.0, 0.0]   \n",
              "4    [0.0, 1.0, 0.0]  [0.0, 1.0, 0.0]  [0.0, 1.0, 0.0]  [0.0, 1.0, 0.0]   \n",
              "..               ...              ...              ...              ...   \n",
              "697  [0.0, 1.0, 0.0]  [0.0, 1.0, 0.0]  [0.0, 1.0, 0.0]  [0.0, 1.0, 0.0]   \n",
              "698  [0.0, 1.0, 0.0]  [0.0, 1.0, 0.0]  [0.0, 1.0, 0.0]  [0.0, 1.0, 0.0]   \n",
              "699  [0.0, 1.0, 0.0]  [0.0, 1.0, 0.0]  [0.0, 1.0, 0.0]  [0.0, 1.0, 0.0]   \n",
              "700  [0.0, 1.0, 0.0]  [0.0, 1.0, 0.0]  [0.0, 1.0, 0.0]  [0.0, 1.0, 0.0]   \n",
              "701  [0.0, 0.0, 1.0]  [0.0, 1.0, 0.0]  [0.0, 0.0, 1.0]  [0.0, 1.0, 0.0]   \n",
              "\n",
              "            Fracture  Support Devices  \n",
              "0    [0.0, 1.0, 0.0]  [0.0, 1.0, 0.0]  \n",
              "1    [0.0, 1.0, 0.0]  [0.0, 0.0, 1.0]  \n",
              "2    [0.0, 1.0, 0.0]  [0.0, 0.0, 1.0]  \n",
              "3    [0.0, 1.0, 0.0]  [0.0, 1.0, 0.0]  \n",
              "4    [0.0, 1.0, 0.0]  [0.0, 1.0, 0.0]  \n",
              "..               ...              ...  \n",
              "697  [0.0, 1.0, 0.0]  [0.0, 0.0, 1.0]  \n",
              "698  [0.0, 1.0, 0.0]  [0.0, 0.0, 1.0]  \n",
              "699  [0.0, 1.0, 0.0]  [0.0, 0.0, 1.0]  \n",
              "700  [0.0, 1.0, 0.0]  [0.0, 1.0, 0.0]  \n",
              "701  [0.0, 1.0, 0.0]  [0.0, 1.0, 0.0]  \n",
              "\n",
              "[702 rows x 14 columns]"
            ]
          },
          "metadata": {},
          "output_type": "display_data"
        }
      ],
      "source": [
        "train_df[\"Path\"] = train_df[\"Path\"].apply(fix_error_paths)\n",
        "\n",
        "valid_df = pd.read_csv(\"../data/processed/valid_one_hot_encoded.csv\", index_col=False)\n",
        "#test_df = pd.read_csv(\"../data/processed/test_one_hot_encoded.csv\", index_col=False)\n",
        "\n",
        "for label in labels:\n",
        "    train_df[label] = train_df[label].apply(str_to_array)\n",
        "    valid_df[label] = valid_df[label].apply(str_to_array)\n",
        "    #test_df[label] = test_df[label].apply(str_to_array)\n",
        "\n",
        "display(train_df)\n",
        "display(valid_df)\n",
        "#display(test_df)"
      ]
    },
    {
      "cell_type": "markdown",
      "metadata": {
        "id": "cMYxGyYA6WGk"
      },
      "source": [
        "### Subsetting dataset (Binary Classification for Pleural Effusion)\n"
      ]
    },
    {
      "cell_type": "code",
      "execution_count": 8,
      "metadata": {},
      "outputs": [],
      "source": [
        "def keep_observations(df, cols):\n",
        "    return df[cols].copy()"
      ]
    },
    {
      "cell_type": "code",
      "execution_count": 9,
      "metadata": {
        "colab": {
          "base_uri": "https://localhost:8080/",
          "height": 617
        },
        "id": "eavvCrVu6pzh",
        "outputId": "e1490ab7-e1c4-47c1-bad7-7b425b84ed6c"
      },
      "outputs": [],
      "source": [
        "# Drop all other labels\n",
        "cols = [\"Path\", \"Pleural Effusion\", \"Cardiomegaly\"]\n",
        "df_train = keep_observations(train_df, cols)\n",
        "df_valid = keep_observations(valid_df, cols)\n",
        "# df_test = keep_observations(test_df, cols)"
      ]
    },
    {
      "cell_type": "code",
      "execution_count": 10,
      "metadata": {},
      "outputs": [],
      "source": [
        "def ohe_to_class(row):\n",
        "    if np.sum(row) > 0:\n",
        "        return np.argmax(row)\n",
        "    else:\n",
        "        return -100\n",
        "\n",
        "df_train[\"Class_pEff\"] = df_train[\"Pleural Effusion\"].apply(ohe_to_class)\n",
        "df_train[\"Class_Cardio\"] = df_train[\"Cardiomegaly\"].apply(ohe_to_class)\n",
        "\n",
        "df_valid[\"Class_pEff\"] = df_valid[\"Pleural Effusion\"].apply(ohe_to_class)\n",
        "df_valid[\"Class_Cardio\"] = df_valid[\"Cardiomegaly\"].apply(ohe_to_class)"
      ]
    },
    {
      "cell_type": "code",
      "execution_count": 11,
      "metadata": {},
      "outputs": [
        {
          "data": {
            "text/html": [
              "<div>\n",
              "<style scoped>\n",
              "    .dataframe tbody tr th:only-of-type {\n",
              "        vertical-align: middle;\n",
              "    }\n",
              "\n",
              "    .dataframe tbody tr th {\n",
              "        vertical-align: top;\n",
              "    }\n",
              "\n",
              "    .dataframe thead th {\n",
              "        text-align: right;\n",
              "    }\n",
              "</style>\n",
              "<table border=\"1\" class=\"dataframe\">\n",
              "  <thead>\n",
              "    <tr style=\"text-align: right;\">\n",
              "      <th></th>\n",
              "      <th>Path</th>\n",
              "      <th>Pleural Effusion</th>\n",
              "      <th>Cardiomegaly</th>\n",
              "      <th>Class_pEff</th>\n",
              "      <th>Class_Cardio</th>\n",
              "    </tr>\n",
              "  </thead>\n",
              "  <tbody>\n",
              "    <tr>\n",
              "      <th>0</th>\n",
              "      <td>CheXphoto-v1.0/train/synthetic/digital/patient...</td>\n",
              "      <td>[0.0, 1.0, 0.0]</td>\n",
              "      <td>[0.0, 0.0, 0.0]</td>\n",
              "      <td>1</td>\n",
              "      <td>-100</td>\n",
              "    </tr>\n",
              "    <tr>\n",
              "      <th>1</th>\n",
              "      <td>CheXphoto-v1.0/train/synthetic/digital/patient...</td>\n",
              "      <td>[0.0, 1.0, 0.0]</td>\n",
              "      <td>[0.0, 0.0, 0.0]</td>\n",
              "      <td>1</td>\n",
              "      <td>-100</td>\n",
              "    </tr>\n",
              "    <tr>\n",
              "      <th>2</th>\n",
              "      <td>CheXphoto-v1.0/train/synthetic/digital/patient...</td>\n",
              "      <td>[0.0, 0.0, 0.0]</td>\n",
              "      <td>[0.0, 0.0, 0.0]</td>\n",
              "      <td>-100</td>\n",
              "      <td>-100</td>\n",
              "    </tr>\n",
              "    <tr>\n",
              "      <th>3</th>\n",
              "      <td>CheXphoto-v1.0/train/synthetic/digital/patient...</td>\n",
              "      <td>[0.0, 0.0, 0.0]</td>\n",
              "      <td>[0.0, 0.0, 0.0]</td>\n",
              "      <td>-100</td>\n",
              "      <td>-100</td>\n",
              "    </tr>\n",
              "    <tr>\n",
              "      <th>4</th>\n",
              "      <td>CheXphoto-v1.0/train/synthetic/digital/patient...</td>\n",
              "      <td>[0.0, 0.0, 1.0]</td>\n",
              "      <td>[0.0, 0.0, 1.0]</td>\n",
              "      <td>2</td>\n",
              "      <td>2</td>\n",
              "    </tr>\n",
              "    <tr>\n",
              "      <th>...</th>\n",
              "      <td>...</td>\n",
              "      <td>...</td>\n",
              "      <td>...</td>\n",
              "      <td>...</td>\n",
              "      <td>...</td>\n",
              "    </tr>\n",
              "    <tr>\n",
              "      <th>32516</th>\n",
              "      <td>CheXphoto-v1.0/train/natural/nokia/patient6446...</td>\n",
              "      <td>[0.0, 0.0, 1.0]</td>\n",
              "      <td>[0.0, 0.0, 0.0]</td>\n",
              "      <td>2</td>\n",
              "      <td>-100</td>\n",
              "    </tr>\n",
              "    <tr>\n",
              "      <th>32517</th>\n",
              "      <td>CheXphoto-v1.0/train/natural/nokia/patient6446...</td>\n",
              "      <td>[0.0, 0.0, 1.0]</td>\n",
              "      <td>[0.0, 0.0, 0.0]</td>\n",
              "      <td>2</td>\n",
              "      <td>-100</td>\n",
              "    </tr>\n",
              "    <tr>\n",
              "      <th>32518</th>\n",
              "      <td>CheXphoto-v1.0/train/natural/nokia/patient6446...</td>\n",
              "      <td>[0.0, 0.0, 1.0]</td>\n",
              "      <td>[0.0, 0.0, 0.0]</td>\n",
              "      <td>2</td>\n",
              "      <td>-100</td>\n",
              "    </tr>\n",
              "    <tr>\n",
              "      <th>32519</th>\n",
              "      <td>CheXphoto-v1.0/train/natural/nokia/patient6446...</td>\n",
              "      <td>[0.0, 0.0, 1.0]</td>\n",
              "      <td>[0.0, 0.0, 0.0]</td>\n",
              "      <td>2</td>\n",
              "      <td>-100</td>\n",
              "    </tr>\n",
              "    <tr>\n",
              "      <th>32520</th>\n",
              "      <td>CheXphoto-v1.0/train/natural/nokia/patient6452...</td>\n",
              "      <td>[0.0, 1.0, 0.0]</td>\n",
              "      <td>[0.0, 1.0, 0.0]</td>\n",
              "      <td>1</td>\n",
              "      <td>1</td>\n",
              "    </tr>\n",
              "  </tbody>\n",
              "</table>\n",
              "<p>32521 rows × 5 columns</p>\n",
              "</div>"
            ],
            "text/plain": [
              "                                                    Path Pleural Effusion  \\\n",
              "0      CheXphoto-v1.0/train/synthetic/digital/patient...  [0.0, 1.0, 0.0]   \n",
              "1      CheXphoto-v1.0/train/synthetic/digital/patient...  [0.0, 1.0, 0.0]   \n",
              "2      CheXphoto-v1.0/train/synthetic/digital/patient...  [0.0, 0.0, 0.0]   \n",
              "3      CheXphoto-v1.0/train/synthetic/digital/patient...  [0.0, 0.0, 0.0]   \n",
              "4      CheXphoto-v1.0/train/synthetic/digital/patient...  [0.0, 0.0, 1.0]   \n",
              "...                                                  ...              ...   \n",
              "32516  CheXphoto-v1.0/train/natural/nokia/patient6446...  [0.0, 0.0, 1.0]   \n",
              "32517  CheXphoto-v1.0/train/natural/nokia/patient6446...  [0.0, 0.0, 1.0]   \n",
              "32518  CheXphoto-v1.0/train/natural/nokia/patient6446...  [0.0, 0.0, 1.0]   \n",
              "32519  CheXphoto-v1.0/train/natural/nokia/patient6446...  [0.0, 0.0, 1.0]   \n",
              "32520  CheXphoto-v1.0/train/natural/nokia/patient6452...  [0.0, 1.0, 0.0]   \n",
              "\n",
              "          Cardiomegaly  Class_pEff  Class_Cardio  \n",
              "0      [0.0, 0.0, 0.0]           1          -100  \n",
              "1      [0.0, 0.0, 0.0]           1          -100  \n",
              "2      [0.0, 0.0, 0.0]        -100          -100  \n",
              "3      [0.0, 0.0, 0.0]        -100          -100  \n",
              "4      [0.0, 0.0, 1.0]           2             2  \n",
              "...                ...         ...           ...  \n",
              "32516  [0.0, 0.0, 0.0]           2          -100  \n",
              "32517  [0.0, 0.0, 0.0]           2          -100  \n",
              "32518  [0.0, 0.0, 0.0]           2          -100  \n",
              "32519  [0.0, 0.0, 0.0]           2          -100  \n",
              "32520  [0.0, 1.0, 0.0]           1             1  \n",
              "\n",
              "[32521 rows x 5 columns]"
            ]
          },
          "metadata": {},
          "output_type": "display_data"
        },
        {
          "data": {
            "text/html": [
              "<div>\n",
              "<style scoped>\n",
              "    .dataframe tbody tr th:only-of-type {\n",
              "        vertical-align: middle;\n",
              "    }\n",
              "\n",
              "    .dataframe tbody tr th {\n",
              "        vertical-align: top;\n",
              "    }\n",
              "\n",
              "    .dataframe thead th {\n",
              "        text-align: right;\n",
              "    }\n",
              "</style>\n",
              "<table border=\"1\" class=\"dataframe\">\n",
              "  <thead>\n",
              "    <tr style=\"text-align: right;\">\n",
              "      <th></th>\n",
              "      <th>Path</th>\n",
              "      <th>Pleural Effusion</th>\n",
              "      <th>Cardiomegaly</th>\n",
              "      <th>Class_pEff</th>\n",
              "      <th>Class_Cardio</th>\n",
              "    </tr>\n",
              "  </thead>\n",
              "  <tbody>\n",
              "    <tr>\n",
              "      <th>0</th>\n",
              "      <td>CheXphoto-v1.0/valid/synthetic/digital/patient...</td>\n",
              "      <td>[0.0, 1.0, 0.0]</td>\n",
              "      <td>[0.0, 0.0, 1.0]</td>\n",
              "      <td>1</td>\n",
              "      <td>2</td>\n",
              "    </tr>\n",
              "    <tr>\n",
              "      <th>1</th>\n",
              "      <td>CheXphoto-v1.0/valid/synthetic/digital/patient...</td>\n",
              "      <td>[0.0, 1.0, 0.0]</td>\n",
              "      <td>[0.0, 1.0, 0.0]</td>\n",
              "      <td>1</td>\n",
              "      <td>1</td>\n",
              "    </tr>\n",
              "    <tr>\n",
              "      <th>2</th>\n",
              "      <td>CheXphoto-v1.0/valid/synthetic/digital/patient...</td>\n",
              "      <td>[0.0, 1.0, 0.0]</td>\n",
              "      <td>[0.0, 1.0, 0.0]</td>\n",
              "      <td>1</td>\n",
              "      <td>1</td>\n",
              "    </tr>\n",
              "    <tr>\n",
              "      <th>3</th>\n",
              "      <td>CheXphoto-v1.0/valid/synthetic/digital/patient...</td>\n",
              "      <td>[0.0, 1.0, 0.0]</td>\n",
              "      <td>[0.0, 1.0, 0.0]</td>\n",
              "      <td>1</td>\n",
              "      <td>1</td>\n",
              "    </tr>\n",
              "    <tr>\n",
              "      <th>4</th>\n",
              "      <td>CheXphoto-v1.0/valid/synthetic/digital/patient...</td>\n",
              "      <td>[0.0, 1.0, 0.0]</td>\n",
              "      <td>[0.0, 1.0, 0.0]</td>\n",
              "      <td>1</td>\n",
              "      <td>1</td>\n",
              "    </tr>\n",
              "    <tr>\n",
              "      <th>...</th>\n",
              "      <td>...</td>\n",
              "      <td>...</td>\n",
              "      <td>...</td>\n",
              "      <td>...</td>\n",
              "      <td>...</td>\n",
              "    </tr>\n",
              "    <tr>\n",
              "      <th>697</th>\n",
              "      <td>CheXphoto-v1.0/valid/natural/oneplus/patient64...</td>\n",
              "      <td>[0.0, 1.0, 0.0]</td>\n",
              "      <td>[0.0, 1.0, 0.0]</td>\n",
              "      <td>1</td>\n",
              "      <td>1</td>\n",
              "    </tr>\n",
              "    <tr>\n",
              "      <th>698</th>\n",
              "      <td>CheXphoto-v1.0/valid/natural/oneplus/patient64...</td>\n",
              "      <td>[0.0, 1.0, 0.0]</td>\n",
              "      <td>[0.0, 1.0, 0.0]</td>\n",
              "      <td>1</td>\n",
              "      <td>1</td>\n",
              "    </tr>\n",
              "    <tr>\n",
              "      <th>699</th>\n",
              "      <td>CheXphoto-v1.0/valid/natural/oneplus/patient64...</td>\n",
              "      <td>[0.0, 1.0, 0.0]</td>\n",
              "      <td>[0.0, 0.0, 1.0]</td>\n",
              "      <td>1</td>\n",
              "      <td>2</td>\n",
              "    </tr>\n",
              "    <tr>\n",
              "      <th>700</th>\n",
              "      <td>CheXphoto-v1.0/valid/natural/oneplus/patient64...</td>\n",
              "      <td>[0.0, 1.0, 0.0]</td>\n",
              "      <td>[0.0, 1.0, 0.0]</td>\n",
              "      <td>1</td>\n",
              "      <td>1</td>\n",
              "    </tr>\n",
              "    <tr>\n",
              "      <th>701</th>\n",
              "      <td>CheXphoto-v1.0/valid/natural/oneplus/patient64...</td>\n",
              "      <td>[0.0, 0.0, 1.0]</td>\n",
              "      <td>[0.0, 1.0, 0.0]</td>\n",
              "      <td>2</td>\n",
              "      <td>1</td>\n",
              "    </tr>\n",
              "  </tbody>\n",
              "</table>\n",
              "<p>702 rows × 5 columns</p>\n",
              "</div>"
            ],
            "text/plain": [
              "                                                  Path Pleural Effusion  \\\n",
              "0    CheXphoto-v1.0/valid/synthetic/digital/patient...  [0.0, 1.0, 0.0]   \n",
              "1    CheXphoto-v1.0/valid/synthetic/digital/patient...  [0.0, 1.0, 0.0]   \n",
              "2    CheXphoto-v1.0/valid/synthetic/digital/patient...  [0.0, 1.0, 0.0]   \n",
              "3    CheXphoto-v1.0/valid/synthetic/digital/patient...  [0.0, 1.0, 0.0]   \n",
              "4    CheXphoto-v1.0/valid/synthetic/digital/patient...  [0.0, 1.0, 0.0]   \n",
              "..                                                 ...              ...   \n",
              "697  CheXphoto-v1.0/valid/natural/oneplus/patient64...  [0.0, 1.0, 0.0]   \n",
              "698  CheXphoto-v1.0/valid/natural/oneplus/patient64...  [0.0, 1.0, 0.0]   \n",
              "699  CheXphoto-v1.0/valid/natural/oneplus/patient64...  [0.0, 1.0, 0.0]   \n",
              "700  CheXphoto-v1.0/valid/natural/oneplus/patient64...  [0.0, 1.0, 0.0]   \n",
              "701  CheXphoto-v1.0/valid/natural/oneplus/patient64...  [0.0, 0.0, 1.0]   \n",
              "\n",
              "        Cardiomegaly  Class_pEff  Class_Cardio  \n",
              "0    [0.0, 0.0, 1.0]           1             2  \n",
              "1    [0.0, 1.0, 0.0]           1             1  \n",
              "2    [0.0, 1.0, 0.0]           1             1  \n",
              "3    [0.0, 1.0, 0.0]           1             1  \n",
              "4    [0.0, 1.0, 0.0]           1             1  \n",
              "..               ...         ...           ...  \n",
              "697  [0.0, 1.0, 0.0]           1             1  \n",
              "698  [0.0, 1.0, 0.0]           1             1  \n",
              "699  [0.0, 0.0, 1.0]           1             2  \n",
              "700  [0.0, 1.0, 0.0]           1             1  \n",
              "701  [0.0, 1.0, 0.0]           2             1  \n",
              "\n",
              "[702 rows x 5 columns]"
            ]
          },
          "metadata": {},
          "output_type": "display_data"
        }
      ],
      "source": [
        "display(df_train)\n",
        "display(df_valid)\n",
        "# display(df_test)"
      ]
    },
    {
      "cell_type": "code",
      "execution_count": 12,
      "metadata": {},
      "outputs": [
        {
          "data": {
            "text/html": [
              "<div>\n",
              "<style scoped>\n",
              "    .dataframe tbody tr th:only-of-type {\n",
              "        vertical-align: middle;\n",
              "    }\n",
              "\n",
              "    .dataframe tbody tr th {\n",
              "        vertical-align: top;\n",
              "    }\n",
              "\n",
              "    .dataframe thead th {\n",
              "        text-align: right;\n",
              "    }\n",
              "</style>\n",
              "<table border=\"1\" class=\"dataframe\">\n",
              "  <thead>\n",
              "    <tr style=\"text-align: right;\">\n",
              "      <th></th>\n",
              "      <th>Path</th>\n",
              "      <th>Pleural Effusion</th>\n",
              "      <th>Cardiomegaly</th>\n",
              "      <th>Class_pEff</th>\n",
              "      <th>Class_Cardio</th>\n",
              "      <th>Pleural Effusion_sum</th>\n",
              "      <th>Cardiomegaly_sum</th>\n",
              "    </tr>\n",
              "  </thead>\n",
              "  <tbody>\n",
              "    <tr>\n",
              "      <th>0</th>\n",
              "      <td>CheXphoto-v1.0/train/synthetic/digital/patient...</td>\n",
              "      <td>[0.0, 1.0, 0.0]</td>\n",
              "      <td>[0.0, 0.0, 0.0]</td>\n",
              "      <td>1</td>\n",
              "      <td>-100</td>\n",
              "      <td>1.0</td>\n",
              "      <td>0.0</td>\n",
              "    </tr>\n",
              "    <tr>\n",
              "      <th>1</th>\n",
              "      <td>CheXphoto-v1.0/train/synthetic/digital/patient...</td>\n",
              "      <td>[0.0, 1.0, 0.0]</td>\n",
              "      <td>[0.0, 0.0, 0.0]</td>\n",
              "      <td>1</td>\n",
              "      <td>-100</td>\n",
              "      <td>1.0</td>\n",
              "      <td>0.0</td>\n",
              "    </tr>\n",
              "    <tr>\n",
              "      <th>2</th>\n",
              "      <td>CheXphoto-v1.0/train/synthetic/digital/patient...</td>\n",
              "      <td>[0.0, 0.0, 0.0]</td>\n",
              "      <td>[0.0, 0.0, 0.0]</td>\n",
              "      <td>-100</td>\n",
              "      <td>-100</td>\n",
              "      <td>0.0</td>\n",
              "      <td>0.0</td>\n",
              "    </tr>\n",
              "    <tr>\n",
              "      <th>3</th>\n",
              "      <td>CheXphoto-v1.0/train/synthetic/digital/patient...</td>\n",
              "      <td>[0.0, 0.0, 0.0]</td>\n",
              "      <td>[0.0, 0.0, 0.0]</td>\n",
              "      <td>-100</td>\n",
              "      <td>-100</td>\n",
              "      <td>0.0</td>\n",
              "      <td>0.0</td>\n",
              "    </tr>\n",
              "    <tr>\n",
              "      <th>4</th>\n",
              "      <td>CheXphoto-v1.0/train/synthetic/digital/patient...</td>\n",
              "      <td>[0.0, 0.0, 1.0]</td>\n",
              "      <td>[0.0, 0.0, 1.0]</td>\n",
              "      <td>2</td>\n",
              "      <td>2</td>\n",
              "      <td>1.0</td>\n",
              "      <td>1.0</td>\n",
              "    </tr>\n",
              "    <tr>\n",
              "      <th>...</th>\n",
              "      <td>...</td>\n",
              "      <td>...</td>\n",
              "      <td>...</td>\n",
              "      <td>...</td>\n",
              "      <td>...</td>\n",
              "      <td>...</td>\n",
              "      <td>...</td>\n",
              "    </tr>\n",
              "    <tr>\n",
              "      <th>32516</th>\n",
              "      <td>CheXphoto-v1.0/train/natural/nokia/patient6446...</td>\n",
              "      <td>[0.0, 0.0, 1.0]</td>\n",
              "      <td>[0.0, 0.0, 0.0]</td>\n",
              "      <td>2</td>\n",
              "      <td>-100</td>\n",
              "      <td>1.0</td>\n",
              "      <td>0.0</td>\n",
              "    </tr>\n",
              "    <tr>\n",
              "      <th>32517</th>\n",
              "      <td>CheXphoto-v1.0/train/natural/nokia/patient6446...</td>\n",
              "      <td>[0.0, 0.0, 1.0]</td>\n",
              "      <td>[0.0, 0.0, 0.0]</td>\n",
              "      <td>2</td>\n",
              "      <td>-100</td>\n",
              "      <td>1.0</td>\n",
              "      <td>0.0</td>\n",
              "    </tr>\n",
              "    <tr>\n",
              "      <th>32518</th>\n",
              "      <td>CheXphoto-v1.0/train/natural/nokia/patient6446...</td>\n",
              "      <td>[0.0, 0.0, 1.0]</td>\n",
              "      <td>[0.0, 0.0, 0.0]</td>\n",
              "      <td>2</td>\n",
              "      <td>-100</td>\n",
              "      <td>1.0</td>\n",
              "      <td>0.0</td>\n",
              "    </tr>\n",
              "    <tr>\n",
              "      <th>32519</th>\n",
              "      <td>CheXphoto-v1.0/train/natural/nokia/patient6446...</td>\n",
              "      <td>[0.0, 0.0, 1.0]</td>\n",
              "      <td>[0.0, 0.0, 0.0]</td>\n",
              "      <td>2</td>\n",
              "      <td>-100</td>\n",
              "      <td>1.0</td>\n",
              "      <td>0.0</td>\n",
              "    </tr>\n",
              "    <tr>\n",
              "      <th>32520</th>\n",
              "      <td>CheXphoto-v1.0/train/natural/nokia/patient6452...</td>\n",
              "      <td>[0.0, 1.0, 0.0]</td>\n",
              "      <td>[0.0, 1.0, 0.0]</td>\n",
              "      <td>1</td>\n",
              "      <td>1</td>\n",
              "      <td>1.0</td>\n",
              "      <td>1.0</td>\n",
              "    </tr>\n",
              "  </tbody>\n",
              "</table>\n",
              "<p>32521 rows × 7 columns</p>\n",
              "</div>"
            ],
            "text/plain": [
              "                                                    Path Pleural Effusion  \\\n",
              "0      CheXphoto-v1.0/train/synthetic/digital/patient...  [0.0, 1.0, 0.0]   \n",
              "1      CheXphoto-v1.0/train/synthetic/digital/patient...  [0.0, 1.0, 0.0]   \n",
              "2      CheXphoto-v1.0/train/synthetic/digital/patient...  [0.0, 0.0, 0.0]   \n",
              "3      CheXphoto-v1.0/train/synthetic/digital/patient...  [0.0, 0.0, 0.0]   \n",
              "4      CheXphoto-v1.0/train/synthetic/digital/patient...  [0.0, 0.0, 1.0]   \n",
              "...                                                  ...              ...   \n",
              "32516  CheXphoto-v1.0/train/natural/nokia/patient6446...  [0.0, 0.0, 1.0]   \n",
              "32517  CheXphoto-v1.0/train/natural/nokia/patient6446...  [0.0, 0.0, 1.0]   \n",
              "32518  CheXphoto-v1.0/train/natural/nokia/patient6446...  [0.0, 0.0, 1.0]   \n",
              "32519  CheXphoto-v1.0/train/natural/nokia/patient6446...  [0.0, 0.0, 1.0]   \n",
              "32520  CheXphoto-v1.0/train/natural/nokia/patient6452...  [0.0, 1.0, 0.0]   \n",
              "\n",
              "          Cardiomegaly  Class_pEff  Class_Cardio  Pleural Effusion_sum  \\\n",
              "0      [0.0, 0.0, 0.0]           1          -100                   1.0   \n",
              "1      [0.0, 0.0, 0.0]           1          -100                   1.0   \n",
              "2      [0.0, 0.0, 0.0]        -100          -100                   0.0   \n",
              "3      [0.0, 0.0, 0.0]        -100          -100                   0.0   \n",
              "4      [0.0, 0.0, 1.0]           2             2                   1.0   \n",
              "...                ...         ...           ...                   ...   \n",
              "32516  [0.0, 0.0, 0.0]           2          -100                   1.0   \n",
              "32517  [0.0, 0.0, 0.0]           2          -100                   1.0   \n",
              "32518  [0.0, 0.0, 0.0]           2          -100                   1.0   \n",
              "32519  [0.0, 0.0, 0.0]           2          -100                   1.0   \n",
              "32520  [0.0, 1.0, 0.0]           1             1                   1.0   \n",
              "\n",
              "       Cardiomegaly_sum  \n",
              "0                   0.0  \n",
              "1                   0.0  \n",
              "2                   0.0  \n",
              "3                   0.0  \n",
              "4                   1.0  \n",
              "...                 ...  \n",
              "32516               0.0  \n",
              "32517               0.0  \n",
              "32518               0.0  \n",
              "32519               0.0  \n",
              "32520               1.0  \n",
              "\n",
              "[32521 rows x 7 columns]"
            ]
          },
          "metadata": {},
          "output_type": "display_data"
        }
      ],
      "source": [
        "def sum_array(row):\n",
        "    return np.sum(row)\n",
        "\n",
        "df_train[\"Pleural Effusion_sum\"] = df_train[\"Pleural Effusion\"].apply(sum_array)\n",
        "df_train[\"Cardiomegaly_sum\"] = df_train[\"Cardiomegaly\"].apply(sum_array)\n",
        "\n",
        "display(df_train)"
      ]
    },
    {
      "cell_type": "code",
      "execution_count": 13,
      "metadata": {},
      "outputs": [
        {
          "data": {
            "text/html": [
              "<div>\n",
              "<style scoped>\n",
              "    .dataframe tbody tr th:only-of-type {\n",
              "        vertical-align: middle;\n",
              "    }\n",
              "\n",
              "    .dataframe tbody tr th {\n",
              "        vertical-align: top;\n",
              "    }\n",
              "\n",
              "    .dataframe thead th {\n",
              "        text-align: right;\n",
              "    }\n",
              "</style>\n",
              "<table border=\"1\" class=\"dataframe\">\n",
              "  <thead>\n",
              "    <tr style=\"text-align: right;\">\n",
              "      <th></th>\n",
              "      <th>Path</th>\n",
              "      <th>Pleural Effusion</th>\n",
              "      <th>Cardiomegaly</th>\n",
              "      <th>Class_pEff</th>\n",
              "      <th>Class_Cardio</th>\n",
              "    </tr>\n",
              "  </thead>\n",
              "  <tbody>\n",
              "    <tr>\n",
              "      <th>0</th>\n",
              "      <td>CheXphoto-v1.0/train/synthetic/digital/patient...</td>\n",
              "      <td>[0.0, 1.0, 0.0]</td>\n",
              "      <td>[0.0, 0.0, 0.0]</td>\n",
              "      <td>1</td>\n",
              "      <td>-100</td>\n",
              "    </tr>\n",
              "    <tr>\n",
              "      <th>1</th>\n",
              "      <td>CheXphoto-v1.0/train/synthetic/digital/patient...</td>\n",
              "      <td>[0.0, 1.0, 0.0]</td>\n",
              "      <td>[0.0, 0.0, 0.0]</td>\n",
              "      <td>1</td>\n",
              "      <td>-100</td>\n",
              "    </tr>\n",
              "    <tr>\n",
              "      <th>4</th>\n",
              "      <td>CheXphoto-v1.0/train/synthetic/digital/patient...</td>\n",
              "      <td>[0.0, 0.0, 1.0]</td>\n",
              "      <td>[0.0, 0.0, 1.0]</td>\n",
              "      <td>2</td>\n",
              "      <td>2</td>\n",
              "    </tr>\n",
              "    <tr>\n",
              "      <th>5</th>\n",
              "      <td>CheXphoto-v1.0/train/synthetic/digital/patient...</td>\n",
              "      <td>[0.0, 0.0, 1.0]</td>\n",
              "      <td>[0.0, 0.0, 0.0]</td>\n",
              "      <td>2</td>\n",
              "      <td>-100</td>\n",
              "    </tr>\n",
              "    <tr>\n",
              "      <th>8</th>\n",
              "      <td>CheXphoto-v1.0/train/synthetic/digital/patient...</td>\n",
              "      <td>[1.0, 0.0, 0.0]</td>\n",
              "      <td>[0.0, 0.0, 0.0]</td>\n",
              "      <td>0</td>\n",
              "      <td>-100</td>\n",
              "    </tr>\n",
              "    <tr>\n",
              "      <th>...</th>\n",
              "      <td>...</td>\n",
              "      <td>...</td>\n",
              "      <td>...</td>\n",
              "      <td>...</td>\n",
              "      <td>...</td>\n",
              "    </tr>\n",
              "    <tr>\n",
              "      <th>32516</th>\n",
              "      <td>CheXphoto-v1.0/train/natural/nokia/patient6446...</td>\n",
              "      <td>[0.0, 0.0, 1.0]</td>\n",
              "      <td>[0.0, 0.0, 0.0]</td>\n",
              "      <td>2</td>\n",
              "      <td>-100</td>\n",
              "    </tr>\n",
              "    <tr>\n",
              "      <th>32517</th>\n",
              "      <td>CheXphoto-v1.0/train/natural/nokia/patient6446...</td>\n",
              "      <td>[0.0, 0.0, 1.0]</td>\n",
              "      <td>[0.0, 0.0, 0.0]</td>\n",
              "      <td>2</td>\n",
              "      <td>-100</td>\n",
              "    </tr>\n",
              "    <tr>\n",
              "      <th>32518</th>\n",
              "      <td>CheXphoto-v1.0/train/natural/nokia/patient6446...</td>\n",
              "      <td>[0.0, 0.0, 1.0]</td>\n",
              "      <td>[0.0, 0.0, 0.0]</td>\n",
              "      <td>2</td>\n",
              "      <td>-100</td>\n",
              "    </tr>\n",
              "    <tr>\n",
              "      <th>32519</th>\n",
              "      <td>CheXphoto-v1.0/train/natural/nokia/patient6446...</td>\n",
              "      <td>[0.0, 0.0, 1.0]</td>\n",
              "      <td>[0.0, 0.0, 0.0]</td>\n",
              "      <td>2</td>\n",
              "      <td>-100</td>\n",
              "    </tr>\n",
              "    <tr>\n",
              "      <th>32520</th>\n",
              "      <td>CheXphoto-v1.0/train/natural/nokia/patient6452...</td>\n",
              "      <td>[0.0, 1.0, 0.0]</td>\n",
              "      <td>[0.0, 1.0, 0.0]</td>\n",
              "      <td>1</td>\n",
              "      <td>1</td>\n",
              "    </tr>\n",
              "  </tbody>\n",
              "</table>\n",
              "<p>21887 rows × 5 columns</p>\n",
              "</div>"
            ],
            "text/plain": [
              "                                                    Path Pleural Effusion  \\\n",
              "0      CheXphoto-v1.0/train/synthetic/digital/patient...  [0.0, 1.0, 0.0]   \n",
              "1      CheXphoto-v1.0/train/synthetic/digital/patient...  [0.0, 1.0, 0.0]   \n",
              "4      CheXphoto-v1.0/train/synthetic/digital/patient...  [0.0, 0.0, 1.0]   \n",
              "5      CheXphoto-v1.0/train/synthetic/digital/patient...  [0.0, 0.0, 1.0]   \n",
              "8      CheXphoto-v1.0/train/synthetic/digital/patient...  [1.0, 0.0, 0.0]   \n",
              "...                                                  ...              ...   \n",
              "32516  CheXphoto-v1.0/train/natural/nokia/patient6446...  [0.0, 0.0, 1.0]   \n",
              "32517  CheXphoto-v1.0/train/natural/nokia/patient6446...  [0.0, 0.0, 1.0]   \n",
              "32518  CheXphoto-v1.0/train/natural/nokia/patient6446...  [0.0, 0.0, 1.0]   \n",
              "32519  CheXphoto-v1.0/train/natural/nokia/patient6446...  [0.0, 0.0, 1.0]   \n",
              "32520  CheXphoto-v1.0/train/natural/nokia/patient6452...  [0.0, 1.0, 0.0]   \n",
              "\n",
              "          Cardiomegaly  Class_pEff  Class_Cardio  \n",
              "0      [0.0, 0.0, 0.0]           1          -100  \n",
              "1      [0.0, 0.0, 0.0]           1          -100  \n",
              "4      [0.0, 0.0, 1.0]           2             2  \n",
              "5      [0.0, 0.0, 0.0]           2          -100  \n",
              "8      [0.0, 0.0, 0.0]           0          -100  \n",
              "...                ...         ...           ...  \n",
              "32516  [0.0, 0.0, 0.0]           2          -100  \n",
              "32517  [0.0, 0.0, 0.0]           2          -100  \n",
              "32518  [0.0, 0.0, 0.0]           2          -100  \n",
              "32519  [0.0, 0.0, 0.0]           2          -100  \n",
              "32520  [0.0, 1.0, 0.0]           1             1  \n",
              "\n",
              "[21887 rows x 5 columns]"
            ]
          },
          "metadata": {},
          "output_type": "display_data"
        }
      ],
      "source": [
        "df_train = df_train[(df_train[\"Pleural Effusion_sum\"] > 0) | (df_train[\"Cardiomegaly_sum\"] > 0)]\n",
        "\n",
        "# filter out NaNs given that we feed class labels to CrossEntropyLoss\n",
        "cols = [\"Path\", \"Pleural Effusion\", \"Cardiomegaly\", \"Class_pEff\", \"Class_Cardio\"]\n",
        "df_train = df_train[cols]\n",
        "display(df_train)"
      ]
    },
    {
      "cell_type": "markdown",
      "metadata": {
        "id": "BVnD_Cpb3UyD"
      },
      "source": [
        "### Custom Dataset implementation"
      ]
    },
    {
      "cell_type": "code",
      "execution_count": 14,
      "metadata": {
        "id": "Xo1tiiMj3VJc"
      },
      "outputs": [],
      "source": [
        "# Implementation of Custom Dataset Class for CheXPhoto Dataset\n",
        "class CheXDataset(Dataset):\n",
        "    # Accepts dataframe object and str\n",
        "    def __init__(self, df: pd.DataFrame, px_size: int = 256):\n",
        "        self.dataframe = df.copy()\n",
        "        self.px_size = px_size\n",
        "\n",
        "    def __len__(self):\n",
        "        return len(self.dataframe)\n",
        "\n",
        "    def __getitem__(self, idx):\n",
        "        x_path = data_path + \"/\" + self.dataframe.iloc[idx, 0].split(\"CheXphoto-v1.0\", 1)[-1]\n",
        "        \n",
        "        transform = T.Compose([\n",
        "            v2.Resize((self.px_size, self.px_size), interpolation=T.InterpolationMode.BICUBIC)\n",
        "        ])\n",
        "\n",
        "        resized_x_tensor = transform(read_image(x_path, mode = ImageReadMode.RGB)) /255\n",
        "\n",
        "        # y = (torch.tensor(self.dataframe.iloc[idx, 1], dtype=torch.float32), torch.tensor(self.dataframe.iloc[idx, 2], dtype=torch.float32))\n",
        "\n",
        "        y = (torch.tensor(self.dataframe.iloc[idx, 3]).type(torch.LongTensor), torch.tensor(self.dataframe.iloc[idx, 4]).type(torch.LongTensor))\n",
        "        # y = torch.tensor(self.dataframe.iloc[idx, 3:]).type(torch.LongTensor)\n",
        "        return resized_x_tensor, y"
      ]
    },
    {
      "cell_type": "markdown",
      "metadata": {
        "id": "M-ohg_DNAyMy"
      },
      "source": [
        "### Custom Dataloader"
      ]
    },
    {
      "cell_type": "code",
      "execution_count": 15,
      "metadata": {
        "id": "vA_TOASfA4QQ"
      },
      "outputs": [],
      "source": [
        "# Load into custom Dataset\n",
        "train_data = CheXDataset(df_train)\n",
        "valid_data = CheXDataset(df_valid)\n",
        "# test_data = CheXDataset(df_test)\n",
        "\n",
        "# Prepare random sampler for training subset\n",
        "# train_sampler = RandomSampler(data_source=train_data, num_samples=int(0.1*len(pEff_train_data)))\n",
        "# train_sampler = WeightedRandomSampler([1873/19582, 4976/19582, 12733/19582], int(len(pEff_train_data)))\n",
        "\n",
        "# Load into DataLoader\n",
        "batch_size = 128\n",
        "# train_loader = DataLoader(train_data, batch_size, sampler=train_sampler)\n",
        "train_loader = DataLoader(train_data, batch_size, shuffle=True)\n",
        "valid_loader = DataLoader(valid_data, batch_size)\n",
        "# test_loader = DataLoader(test_data, batch_size)"
      ]
    },
    {
      "cell_type": "code",
      "execution_count": 16,
      "metadata": {},
      "outputs": [
        {
          "name": "stdout",
          "output_type": "stream",
          "text": [
            "tensor([[[0.0588, 0.0588, 0.0588,  ..., 0.0588, 0.0588, 0.0588],\n",
            "         [0.0588, 0.0588, 0.0588,  ..., 0.0588, 0.0588, 0.0588],\n",
            "         [0.0588, 0.0588, 0.0588,  ..., 0.0588, 0.0588, 0.0588],\n",
            "         ...,\n",
            "         [0.0588, 0.0588, 0.0588,  ..., 0.0588, 0.0588, 0.0588],\n",
            "         [0.0588, 0.0588, 0.0588,  ..., 0.0588, 0.0588, 0.0588],\n",
            "         [0.0588, 0.0588, 0.0588,  ..., 0.0588, 0.0588, 0.0588]],\n",
            "\n",
            "        [[0.0588, 0.0588, 0.0588,  ..., 0.0588, 0.0588, 0.0588],\n",
            "         [0.0588, 0.0588, 0.0588,  ..., 0.0588, 0.0588, 0.0588],\n",
            "         [0.0588, 0.0588, 0.0588,  ..., 0.0588, 0.0588, 0.0588],\n",
            "         ...,\n",
            "         [0.0588, 0.0588, 0.0588,  ..., 0.0588, 0.0588, 0.0588],\n",
            "         [0.0588, 0.0588, 0.0588,  ..., 0.0588, 0.0588, 0.0588],\n",
            "         [0.0588, 0.0588, 0.0588,  ..., 0.0588, 0.0588, 0.0588]],\n",
            "\n",
            "        [[0.0588, 0.0588, 0.0588,  ..., 0.0588, 0.0588, 0.0588],\n",
            "         [0.0588, 0.0588, 0.0588,  ..., 0.0588, 0.0588, 0.0588],\n",
            "         [0.0588, 0.0588, 0.0588,  ..., 0.0588, 0.0588, 0.0588],\n",
            "         ...,\n",
            "         [0.0588, 0.0588, 0.0588,  ..., 0.0588, 0.0588, 0.0588],\n",
            "         [0.0588, 0.0588, 0.0588,  ..., 0.0588, 0.0588, 0.0588],\n",
            "         [0.0588, 0.0588, 0.0588,  ..., 0.0588, 0.0588, 0.0588]]]) torch.Size([3, 256, 256]) torch.float32\n",
            "tensor(1) torch.Size([]) torch.int64\n",
            "tensor(-100) torch.Size([]) torch.int64\n"
          ]
        }
      ],
      "source": [
        "x, (y1, y2) = train_data[0]\n",
        "print(x, x.shape, x.dtype)\n",
        "print(y1, y1.shape, y1.dtype)\n",
        "print(y2, y2.shape, y2.dtype)"
      ]
    },
    {
      "cell_type": "markdown",
      "metadata": {
        "id": "HgoKCekkUx12"
      },
      "source": [
        "## Model Tuning"
      ]
    },
    {
      "cell_type": "markdown",
      "metadata": {
        "id": "ez8gTQhpVdsO"
      },
      "source": [
        "Our initial model is a simple feedforward neural network with multiple heads (2 heads) capable of classifying for both Cardiomegaly and Pleural Effusion. We will utilise the Cross-entropy loss function to optimise the model during training.\n",
        "\n",
        "**This is a TODO since it can change**\n"
      ]
    },
    {
      "cell_type": "markdown",
      "metadata": {
        "id": "QQwIQXo-X989"
      },
      "source": [
        "### First iteration - Simple Convolutional Neural Network"
      ]
    },
    {
      "cell_type": "markdown",
      "metadata": {
        "id": "dyJAs1zJYiRw"
      },
      "source": [
        "#### Model"
      ]
    },
    {
      "cell_type": "code",
      "execution_count": 17,
      "metadata": {},
      "outputs": [],
      "source": [
        "class ConvolutionBlock(nn.Module):\n",
        "    def __init__(self, in_channels: int, out_channels: int, kernel_size: int, stride: int, padding: int, pool_size: int = 2):\n",
        "        super(ConvolutionBlock, self).__init__()\n",
        "        \n",
        "        self.conv = nn.Conv2d(in_channels, out_channels, kernel_size, stride, padding)\n",
        "        self.bn = nn.BatchNorm2d(out_channels)\n",
        "        self.activation = nn.ReLU()\n",
        "        self.pooling = nn.MaxPool2d(pool_size, pool_size)\n",
        "    \n",
        "    def forward(self, x):\n",
        "        out = self.conv(x)\n",
        "        out = self.bn(out)\n",
        "        out = self.activation(out)\n",
        "        out = self.pooling(out)\n",
        "        return out"
      ]
    },
    {
      "cell_type": "code",
      "execution_count": 18,
      "metadata": {},
      "outputs": [],
      "source": [
        "class FCBlock(nn.Module):\n",
        "    def __init__(self, in_features: int, out_features: int, dropout_rate: int=0.2):\n",
        "        super(FCBlock, self).__init__()\n",
        "        \n",
        "        self.fc = nn.Linear(in_features, out_features, dtype=torch.float32)\n",
        "        self.activation = nn.ReLU()\n",
        "        self.dropout = nn.Dropout(dropout_rate)\n",
        "    \n",
        "    def forward(self, x):\n",
        "        out = self.fc(x)\n",
        "        out = self.activation(out)\n",
        "        out = self.dropout(out)\n",
        "        return out"
      ]
    },
    {
      "cell_type": "code",
      "execution_count": 19,
      "metadata": {},
      "outputs": [],
      "source": [
        "class ClassifierBlock(nn.Module):\n",
        "    def __init__(self, in_features: int, hidden_features: tuple[int], out_features: int, dropout_rate: int = 0.2):\n",
        "        super(ClassifierBlock, self).__init__()\n",
        "\n",
        "        self.inputs = FCBlock(in_features, hidden_features[0], dropout_rate)\n",
        "        self.layers = nn.Sequential(*[FCBlock(hidden_features[i], hidden_features[i+1], dropout_rate) for i in range(len(hidden_features)-1)])\n",
        "        self.linear = nn.Linear(hidden_features[-1], out_features, dtype=torch.float32)\n",
        "    \n",
        "    def forward(self, x):\n",
        "        out = self.inputs(x)\n",
        "        out = self.layers(out)\n",
        "        out = self.linear(out)\n",
        "        return out"
      ]
    },
    {
      "cell_type": "code",
      "execution_count": 20,
      "metadata": {
        "id": "8V4Db-KUYheY"
      },
      "outputs": [],
      "source": [
        "class ConvolutionalNN(nn.Module):\n",
        "    def __init__(self, channels: tuple[int], img_size: tuple[int], hidden_size: tuple[int], output_size: int, dropout_rate: int = 0.2):\n",
        "        super(ConvolutionalNN, self).__init__()\n",
        "        \n",
        "        # Hyperparameters for Convolutional Layers\n",
        "        self.kernel_size = 3\n",
        "        self.stride = 1\n",
        "        self.padding = 1\n",
        "        self.pool_size = 2\n",
        "\n",
        "        # Input size of Image\n",
        "        self.input_height, self.input_width = img_size\n",
        "\n",
        "        # Calculate Input Size of Classifier\n",
        "        for i in range(len(channels) - 1):\n",
        "            self.input_height = math.floor((self.input_height + 2 * self.padding - self.kernel_size)/ self.stride + 1) // self.pool_size\n",
        "            self.input_width =  math.floor((self.input_width  + 2 * self.padding - self.kernel_size)/ self.stride + 1) // self.pool_size\n",
        "        \n",
        "        self.classifier_size = channels[-1] * self.input_height * self.input_width\n",
        "        \n",
        "        # Model Layers\n",
        "        self.conv_layers = nn.Sequential(*[ConvolutionBlock(channels[i], channels[i+1], self.kernel_size, self.stride, self.padding, self.pool_size) for i in range(len(channels)-1)])\n",
        "        self.classifier1 = ClassifierBlock(self.classifier_size, hidden_size, output_size, dropout_rate)\n",
        "        self.classifier2 = ClassifierBlock(self.classifier_size, hidden_size, output_size, dropout_rate)\n",
        "\n",
        "\n",
        "    def forward(self,x):\n",
        "        # Convolutional Layers\n",
        "        out1 = self.conv_layers(x)\n",
        "\n",
        "        # keep batch size and flatten the rest\n",
        "        out2 = out1.view(out1.size(0), -1)\n",
        "\n",
        "        # Classifier Layers\n",
        "        out3 = self.classifier1(out2)\n",
        "        out4 = self.classifier2(out2)\n",
        "        return out3, out4"
      ]
    },
    {
      "cell_type": "code",
      "execution_count": 21,
      "metadata": {
        "id": "hZ6OTNv9zynY"
      },
      "outputs": [
        {
          "name": "stdout",
          "output_type": "stream",
          "text": [
            "ConvolutionalNN(\n",
            "  (conv_layers): Sequential(\n",
            "    (0): ConvolutionBlock(\n",
            "      (conv): Conv2d(3, 8, kernel_size=(3, 3), stride=(1, 1), padding=(1, 1))\n",
            "      (bn): BatchNorm2d(8, eps=1e-05, momentum=0.1, affine=True, track_running_stats=True)\n",
            "      (activation): ReLU()\n",
            "      (pooling): MaxPool2d(kernel_size=2, stride=2, padding=0, dilation=1, ceil_mode=False)\n",
            "    )\n",
            "    (1): ConvolutionBlock(\n",
            "      (conv): Conv2d(8, 16, kernel_size=(3, 3), stride=(1, 1), padding=(1, 1))\n",
            "      (bn): BatchNorm2d(16, eps=1e-05, momentum=0.1, affine=True, track_running_stats=True)\n",
            "      (activation): ReLU()\n",
            "      (pooling): MaxPool2d(kernel_size=2, stride=2, padding=0, dilation=1, ceil_mode=False)\n",
            "    )\n",
            "    (2): ConvolutionBlock(\n",
            "      (conv): Conv2d(16, 32, kernel_size=(3, 3), stride=(1, 1), padding=(1, 1))\n",
            "      (bn): BatchNorm2d(32, eps=1e-05, momentum=0.1, affine=True, track_running_stats=True)\n",
            "      (activation): ReLU()\n",
            "      (pooling): MaxPool2d(kernel_size=2, stride=2, padding=0, dilation=1, ceil_mode=False)\n",
            "    )\n",
            "    (3): ConvolutionBlock(\n",
            "      (conv): Conv2d(32, 64, kernel_size=(3, 3), stride=(1, 1), padding=(1, 1))\n",
            "      (bn): BatchNorm2d(64, eps=1e-05, momentum=0.1, affine=True, track_running_stats=True)\n",
            "      (activation): ReLU()\n",
            "      (pooling): MaxPool2d(kernel_size=2, stride=2, padding=0, dilation=1, ceil_mode=False)\n",
            "    )\n",
            "    (4): ConvolutionBlock(\n",
            "      (conv): Conv2d(64, 128, kernel_size=(3, 3), stride=(1, 1), padding=(1, 1))\n",
            "      (bn): BatchNorm2d(128, eps=1e-05, momentum=0.1, affine=True, track_running_stats=True)\n",
            "      (activation): ReLU()\n",
            "      (pooling): MaxPool2d(kernel_size=2, stride=2, padding=0, dilation=1, ceil_mode=False)\n",
            "    )\n",
            "    (5): ConvolutionBlock(\n",
            "      (conv): Conv2d(128, 256, kernel_size=(3, 3), stride=(1, 1), padding=(1, 1))\n",
            "      (bn): BatchNorm2d(256, eps=1e-05, momentum=0.1, affine=True, track_running_stats=True)\n",
            "      (activation): ReLU()\n",
            "      (pooling): MaxPool2d(kernel_size=2, stride=2, padding=0, dilation=1, ceil_mode=False)\n",
            "    )\n",
            "  )\n",
            "  (classifier1): ClassifierBlock(\n",
            "    (inputs): FCBlock(\n",
            "      (fc): Linear(in_features=4096, out_features=2048, bias=True)\n",
            "      (activation): ReLU()\n",
            "      (dropout): Dropout(p=0.2, inplace=False)\n",
            "    )\n",
            "    (layers): Sequential(\n",
            "      (0): FCBlock(\n",
            "        (fc): Linear(in_features=2048, out_features=256, bias=True)\n",
            "        (activation): ReLU()\n",
            "        (dropout): Dropout(p=0.2, inplace=False)\n",
            "      )\n",
            "    )\n",
            "    (linear): Linear(in_features=256, out_features=3, bias=True)\n",
            "  )\n",
            "  (classifier2): ClassifierBlock(\n",
            "    (inputs): FCBlock(\n",
            "      (fc): Linear(in_features=4096, out_features=2048, bias=True)\n",
            "      (activation): ReLU()\n",
            "      (dropout): Dropout(p=0.2, inplace=False)\n",
            "    )\n",
            "    (layers): Sequential(\n",
            "      (0): FCBlock(\n",
            "        (fc): Linear(in_features=2048, out_features=256, bias=True)\n",
            "        (activation): ReLU()\n",
            "        (dropout): Dropout(p=0.2, inplace=False)\n",
            "      )\n",
            "    )\n",
            "    (linear): Linear(in_features=256, out_features=3, bias=True)\n",
            "  )\n",
            ")\n"
          ]
        }
      ],
      "source": [
        "# Create Model\n",
        "channels = (3, 8, 16, 32, 64, 128, 256)\n",
        "input_size = (256, 256)\n",
        "hidden_size = (2048, 256) \n",
        "output_size = 3\n",
        "dropout_rate = 0.2\n",
        "\n",
        "model = ConvolutionalNN(channels, input_size, hidden_size, output_size, dropout_rate).to(device)\n",
        "print(model)"
      ]
    },
    {
      "cell_type": "markdown",
      "metadata": {
        "id": "55e5IbeGmhlI"
      },
      "source": [
        "#### Training"
      ]
    },
    {
      "cell_type": "code",
      "execution_count": 22,
      "metadata": {},
      "outputs": [],
      "source": [
        "def train_loop(model, train_loader, optimizer, loss_pEff, loss_cardio, lambda1, lambda2):\n",
        "    model.train()\n",
        "\n",
        "    train_loss = 0\n",
        "    train_total = 0\n",
        "\n",
        "    train_accuracy_pEff = 0\n",
        "    train_accuracy_cardio = 0\n",
        "\n",
        "    accuracy_pEff = MulticlassAccuracy(num_classes=3, ignore_index=-100).to(device)\n",
        "    accuracy_cardio = MulticlassAccuracy(num_classes=3, ignore_index=-100).to(device)\n",
        "\n",
        "    for inputs, outputs in tqdm(train_loader):\n",
        "        inputs_re, outputs_re_pEff, outputs_re_cardio = inputs.to(device), outputs[0].to(device), outputs[1].to(device)\n",
        "\n",
        "        optimizer.zero_grad()\n",
        "        preds = model(inputs_re)\n",
        "\n",
        "        # Compute loss\n",
        "        loss1 = loss_pEff(preds[0], outputs_re_pEff)\n",
        "        loss2 = loss_cardio(preds[1], outputs_re_cardio)\n",
        "        loss_value = lambda1*loss1 + lambda2*loss2\n",
        "        \n",
        "        # Backpropagation\n",
        "        loss_value.backward()\n",
        "        optimizer.step()\n",
        "\n",
        "        # Compute metric\n",
        "        train_loss += loss_value.item() * outputs[0].size(0)\n",
        "        train_total += outputs[0].size(0)\n",
        "        \n",
        "        accuracy_pEff.update(preds[0], outputs_re_pEff)\n",
        "        accuracy_cardio.update(preds[1], outputs_re_cardio)\n",
        "\n",
        "    train_loss /= train_total\n",
        "    train_accuracy_pEff = accuracy_pEff.compute() \n",
        "    train_accuracy_cardio = accuracy_cardio.compute()\n",
        "\n",
        "    return train_loss, train_accuracy_pEff, train_accuracy_cardio"
      ]
    },
    {
      "cell_type": "markdown",
      "metadata": {},
      "source": [
        "### TODO: Implementation Validation Loss"
      ]
    },
    {
      "cell_type": "code",
      "execution_count": 23,
      "metadata": {},
      "outputs": [],
      "source": [
        "def test_loop(model, valid_loader, loss_pEff, loss_cardio, lambda1, lambda2):\n",
        "    model.eval()\n",
        "    \n",
        "    val_loss = 0\n",
        "    val_total = 0\n",
        "\n",
        "    val_accuracy_pEff = 0\n",
        "    val_accuracy_cardio = 0\n",
        "\n",
        "    accuracy_pEff = MulticlassAccuracy(num_classes=3, ignore_index=-100).to(device)\n",
        "    accuracy_cardio = MulticlassAccuracy(num_classes=3, ignore_index=-100).to(device)\n",
        "\n",
        "    with torch.no_grad():\n",
        "        for inputs, outputs in tqdm(valid_loader):\n",
        "            outputs_pEff = outputs[0]\n",
        "            outputs_cardio = outputs[1]\n",
        "            inputs_re, outputs_re_pEff, outputs_re_cardio = inputs.to(device), outputs_pEff.to(device), outputs_cardio.to(device)\n",
        "            preds = model(inputs_re)\n",
        "\n",
        "            # Compute loss\n",
        "            loss1 = loss_pEff(preds[0], outputs_re_pEff)\n",
        "            loss2 = loss_cardio(preds[1], outputs_re_cardio)\n",
        "            loss_value = lambda1*loss1 + lambda2*loss2\n",
        "\n",
        "            # Compute metrics\n",
        "            val_loss += loss_value.item() * outputs[0].size(0)\n",
        "            val_total += outputs[0].size(0)\n",
        "\n",
        "            accuracy_pEff.update(preds[0], outputs_re_pEff)\n",
        "            accuracy_cardio.update(preds[1], outputs_re_cardio)\n",
        "\n",
        "    val_loss /= val_total\n",
        "    val_accuracy_pEff = accuracy_pEff.compute() \n",
        "    val_accuracy_cardio = accuracy_cardio.compute()\n",
        "\n",
        "    return val_loss, val_accuracy_pEff, val_accuracy_cardio"
      ]
    },
    {
      "cell_type": "code",
      "execution_count": 24,
      "metadata": {
        "id": "iycqcmqbuXDY"
      },
      "outputs": [],
      "source": [
        "def train(model, train_loader, valid_loader, epochs=10, lr=1e-3):\n",
        "    # Adam\n",
        "    optimizer = torch.optim.Adam(model.parameters(), lr=lr)\n",
        "\n",
        "    # loss hyperparameters - penalise minority class loss more\n",
        "    # lambda1 = (19582+6812)/19582\n",
        "    # lambda2 = (19582+6812)/6812\n",
        "\n",
        "    lambda1 = 1\n",
        "    lambda2 = 1\n",
        "\n",
        "    # lambda1 = 1 # 19582/19582\n",
        "    # lambda1 = 6812/19582\n",
        "    # lambda2 = 19582/6812\n",
        "    \n",
        "    # class weights\n",
        "    class_weights_pEff = torch.tensor([1873/19582, 4976/19582, 12733/19582]).to(device)\n",
        "    class_weights_cardio = torch.tensor([1149/6812, 1623/6812, 4040/6812]).to(device)\n",
        "\n",
        "    # loss function\n",
        "    loss_pEff = nn.CrossEntropyLoss(weight=class_weights_pEff, ignore_index=-100).to(device)\n",
        "    loss_cardio = nn.CrossEntropyLoss(weight=class_weights_cardio, ignore_index=-100).to(device)\n",
        "\n",
        "    #train_loss_values = []\n",
        "    #train_accuracy_values = []\n",
        "\n",
        "    for epoch in tnrange(epochs):\n",
        "        # Train loop\n",
        "        train_loss, train_accuracy_pEff, train_accuracy_cardio = train_loop(model, train_loader, optimizer, loss_pEff, loss_cardio, lambda1, lambda2)\n",
        "\n",
        "        # Test loop\n",
        "        val_loss, val_accuracy_pEff, val_accuracy_cardio = test_loop(model, valid_loader, loss_pEff, loss_cardio, lambda1, lambda2)\n",
        "\n",
        "        print(f\"--- Epoch {epoch+1}/{epochs}: ---\")\n",
        "        print(f\"Train loss: {train_loss:.4f}, Train accuracy (Pleural): {train_accuracy_pEff:.4f}, Train accuracy (Cardio): {train_accuracy_cardio:.4f}\")\n",
        "        print(f\"Validation loss: {val_loss:.4f}, Validation accuracy (Pleural): {val_accuracy_pEff:.4f}, Validation accuracy (Cardio): {val_accuracy_cardio:.4f}\")"
      ]
    },
    {
      "cell_type": "code",
      "execution_count": 25,
      "metadata": {},
      "outputs": [
        {
          "data": {
            "application/vnd.jupyter.widget-view+json": {
              "model_id": "5ae75d3a2b07447999b1c525520fb0d9",
              "version_major": 2,
              "version_minor": 0
            },
            "text/plain": [
              "  0%|          | 0/15 [00:00<?, ?it/s]"
            ]
          },
          "metadata": {},
          "output_type": "display_data"
        },
        {
          "data": {
            "application/vnd.jupyter.widget-view+json": {
              "model_id": "74b4517a782c47cb940d26224715836a",
              "version_major": 2,
              "version_minor": 0
            },
            "text/plain": [
              "  0%|          | 0/171 [00:00<?, ?it/s]"
            ]
          },
          "metadata": {},
          "output_type": "display_data"
        },
        {
          "data": {
            "application/vnd.jupyter.widget-view+json": {
              "model_id": "d8c3ce3db86b4dd48955a3ef75089f02",
              "version_major": 2,
              "version_minor": 0
            },
            "text/plain": [
              "  0%|          | 0/6 [00:00<?, ?it/s]"
            ]
          },
          "metadata": {},
          "output_type": "display_data"
        },
        {
          "name": "stdout",
          "output_type": "stream",
          "text": [
            "--- Epoch 1/15: ---\n",
            "Train loss: 1.2041, Train accuracy (Pleural): 0.3338, Train accuracy (Cardio): 0.3338\n",
            "Validation loss: 1.9324, Validation accuracy (Pleural): 0.5000, Validation accuracy (Cardio): 0.5000\n"
          ]
        },
        {
          "data": {
            "application/vnd.jupyter.widget-view+json": {
              "model_id": "4d6dcd0d997843b7becdf77ba78b33ce",
              "version_major": 2,
              "version_minor": 0
            },
            "text/plain": [
              "  0%|          | 0/171 [00:00<?, ?it/s]"
            ]
          },
          "metadata": {},
          "output_type": "display_data"
        },
        {
          "data": {
            "application/vnd.jupyter.widget-view+json": {
              "model_id": "f569276f45554349afc4d1c1d328d3d4",
              "version_major": 2,
              "version_minor": 0
            },
            "text/plain": [
              "  0%|          | 0/6 [00:00<?, ?it/s]"
            ]
          },
          "metadata": {},
          "output_type": "display_data"
        },
        {
          "name": "stdout",
          "output_type": "stream",
          "text": [
            "--- Epoch 2/15: ---\n",
            "Train loss: 0.9601, Train accuracy (Pleural): 0.3862, Train accuracy (Cardio): 0.3715\n",
            "Validation loss: 1.8580, Validation accuracy (Pleural): 0.5669, Validation accuracy (Cardio): 0.5237\n"
          ]
        },
        {
          "data": {
            "application/vnd.jupyter.widget-view+json": {
              "model_id": "cb70dfcf40904bb78028d00c3115067b",
              "version_major": 2,
              "version_minor": 0
            },
            "text/plain": [
              "  0%|          | 0/171 [00:00<?, ?it/s]"
            ]
          },
          "metadata": {},
          "output_type": "display_data"
        },
        {
          "data": {
            "application/vnd.jupyter.widget-view+json": {
              "model_id": "1a380ee03b374b0aa1fb259942bcabb6",
              "version_major": 2,
              "version_minor": 0
            },
            "text/plain": [
              "  0%|          | 0/6 [00:00<?, ?it/s]"
            ]
          },
          "metadata": {},
          "output_type": "display_data"
        },
        {
          "name": "stdout",
          "output_type": "stream",
          "text": [
            "--- Epoch 3/15: ---\n",
            "Train loss: 0.9032, Train accuracy (Pleural): 0.4448, Train accuracy (Cardio): 0.4340\n",
            "Validation loss: 1.6790, Validation accuracy (Pleural): 0.6308, Validation accuracy (Cardio): 0.6261\n"
          ]
        },
        {
          "data": {
            "application/vnd.jupyter.widget-view+json": {
              "model_id": "e1287323354e435f92ed6f17558f59c9",
              "version_major": 2,
              "version_minor": 0
            },
            "text/plain": [
              "  0%|          | 0/171 [00:00<?, ?it/s]"
            ]
          },
          "metadata": {},
          "output_type": "display_data"
        },
        {
          "data": {
            "application/vnd.jupyter.widget-view+json": {
              "model_id": "6dfeb100869d4e178969b7a605b5114a",
              "version_major": 2,
              "version_minor": 0
            },
            "text/plain": [
              "  0%|          | 0/6 [00:00<?, ?it/s]"
            ]
          },
          "metadata": {},
          "output_type": "display_data"
        },
        {
          "name": "stdout",
          "output_type": "stream",
          "text": [
            "--- Epoch 4/15: ---\n",
            "Train loss: 0.8766, Train accuracy (Pleural): 0.4609, Train accuracy (Cardio): 0.4500\n",
            "Validation loss: 1.5290, Validation accuracy (Pleural): 0.6468, Validation accuracy (Cardio): 0.6140\n"
          ]
        },
        {
          "data": {
            "application/vnd.jupyter.widget-view+json": {
              "model_id": "1f93cc7d73fc4d81b69ddb47e8b2b514",
              "version_major": 2,
              "version_minor": 0
            },
            "text/plain": [
              "  0%|          | 0/171 [00:00<?, ?it/s]"
            ]
          },
          "metadata": {},
          "output_type": "display_data"
        },
        {
          "data": {
            "application/vnd.jupyter.widget-view+json": {
              "model_id": "2d02cf445f114afd80b5e1b7984d2af0",
              "version_major": 2,
              "version_minor": 0
            },
            "text/plain": [
              "  0%|          | 0/6 [00:00<?, ?it/s]"
            ]
          },
          "metadata": {},
          "output_type": "display_data"
        },
        {
          "name": "stdout",
          "output_type": "stream",
          "text": [
            "--- Epoch 5/15: ---\n",
            "Train loss: 0.8468, Train accuracy (Pleural): 0.4719, Train accuracy (Cardio): 0.4618\n",
            "Validation loss: 1.4809, Validation accuracy (Pleural): 0.7173, Validation accuracy (Cardio): 0.6563\n"
          ]
        },
        {
          "data": {
            "application/vnd.jupyter.widget-view+json": {
              "model_id": "6667d28820ba4c718f0c7d91a69d2b8f",
              "version_major": 2,
              "version_minor": 0
            },
            "text/plain": [
              "  0%|          | 0/171 [00:00<?, ?it/s]"
            ]
          },
          "metadata": {},
          "output_type": "display_data"
        },
        {
          "data": {
            "application/vnd.jupyter.widget-view+json": {
              "model_id": "c3d462b59d7c4d8594e46db337c86b80",
              "version_major": 2,
              "version_minor": 0
            },
            "text/plain": [
              "  0%|          | 0/6 [00:00<?, ?it/s]"
            ]
          },
          "metadata": {},
          "output_type": "display_data"
        },
        {
          "name": "stdout",
          "output_type": "stream",
          "text": [
            "--- Epoch 6/15: ---\n",
            "Train loss: 0.8118, Train accuracy (Pleural): 0.4792, Train accuracy (Cardio): 0.4829\n",
            "Validation loss: 1.7759, Validation accuracy (Pleural): 0.5849, Validation accuracy (Cardio): 0.6005\n"
          ]
        },
        {
          "data": {
            "application/vnd.jupyter.widget-view+json": {
              "model_id": "6b5f8b1993b74a49914a532006d3e2c1",
              "version_major": 2,
              "version_minor": 0
            },
            "text/plain": [
              "  0%|          | 0/171 [00:00<?, ?it/s]"
            ]
          },
          "metadata": {},
          "output_type": "display_data"
        },
        {
          "data": {
            "application/vnd.jupyter.widget-view+json": {
              "model_id": "c04dbaa061bf473899ab031a56741260",
              "version_major": 2,
              "version_minor": 0
            },
            "text/plain": [
              "  0%|          | 0/6 [00:00<?, ?it/s]"
            ]
          },
          "metadata": {},
          "output_type": "display_data"
        },
        {
          "name": "stdout",
          "output_type": "stream",
          "text": [
            "--- Epoch 7/15: ---\n",
            "Train loss: 0.7821, Train accuracy (Pleural): 0.4873, Train accuracy (Cardio): 0.4964\n",
            "Validation loss: 1.6444, Validation accuracy (Pleural): 0.6709, Validation accuracy (Cardio): 0.6256\n"
          ]
        },
        {
          "data": {
            "application/vnd.jupyter.widget-view+json": {
              "model_id": "83bd5e83046041d3a4124bfa8f96b2dd",
              "version_major": 2,
              "version_minor": 0
            },
            "text/plain": [
              "  0%|          | 0/171 [00:00<?, ?it/s]"
            ]
          },
          "metadata": {},
          "output_type": "display_data"
        },
        {
          "data": {
            "application/vnd.jupyter.widget-view+json": {
              "model_id": "8d89a7b7b04e4c6faa7f48f076b22a06",
              "version_major": 2,
              "version_minor": 0
            },
            "text/plain": [
              "  0%|          | 0/6 [00:00<?, ?it/s]"
            ]
          },
          "metadata": {},
          "output_type": "display_data"
        },
        {
          "name": "stdout",
          "output_type": "stream",
          "text": [
            "--- Epoch 8/15: ---\n",
            "Train loss: 0.7508, Train accuracy (Pleural): 0.4980, Train accuracy (Cardio): 0.5117\n",
            "Validation loss: 1.7585, Validation accuracy (Pleural): 0.6574, Validation accuracy (Cardio): 0.6150\n"
          ]
        },
        {
          "data": {
            "application/vnd.jupyter.widget-view+json": {
              "model_id": "f2a7848a57344246b87d587a687dea4f",
              "version_major": 2,
              "version_minor": 0
            },
            "text/plain": [
              "  0%|          | 0/171 [00:00<?, ?it/s]"
            ]
          },
          "metadata": {},
          "output_type": "display_data"
        },
        {
          "data": {
            "application/vnd.jupyter.widget-view+json": {
              "model_id": "1d574d9f03184881a03aa9fd96faedcf",
              "version_major": 2,
              "version_minor": 0
            },
            "text/plain": [
              "  0%|          | 0/6 [00:00<?, ?it/s]"
            ]
          },
          "metadata": {},
          "output_type": "display_data"
        },
        {
          "name": "stdout",
          "output_type": "stream",
          "text": [
            "--- Epoch 9/15: ---\n",
            "Train loss: 0.7174, Train accuracy (Pleural): 0.5029, Train accuracy (Cardio): 0.5253\n",
            "Validation loss: 1.7229, Validation accuracy (Pleural): 0.6985, Validation accuracy (Cardio): 0.6189\n"
          ]
        },
        {
          "data": {
            "application/vnd.jupyter.widget-view+json": {
              "model_id": "168563ad70d948d381ee91cecc109c7b",
              "version_major": 2,
              "version_minor": 0
            },
            "text/plain": [
              "  0%|          | 0/171 [00:00<?, ?it/s]"
            ]
          },
          "metadata": {},
          "output_type": "display_data"
        },
        {
          "data": {
            "application/vnd.jupyter.widget-view+json": {
              "model_id": "6a74d8b29e104573acc34d1925f5674b",
              "version_major": 2,
              "version_minor": 0
            },
            "text/plain": [
              "  0%|          | 0/6 [00:00<?, ?it/s]"
            ]
          },
          "metadata": {},
          "output_type": "display_data"
        },
        {
          "name": "stdout",
          "output_type": "stream",
          "text": [
            "--- Epoch 10/15: ---\n",
            "Train loss: 0.6816, Train accuracy (Pleural): 0.5165, Train accuracy (Cardio): 0.5371\n",
            "Validation loss: 1.7364, Validation accuracy (Pleural): 0.6716, Validation accuracy (Cardio): 0.6308\n"
          ]
        },
        {
          "data": {
            "application/vnd.jupyter.widget-view+json": {
              "model_id": "9c8c966e2b904d42be2278dfdb02ff61",
              "version_major": 2,
              "version_minor": 0
            },
            "text/plain": [
              "  0%|          | 0/171 [00:00<?, ?it/s]"
            ]
          },
          "metadata": {},
          "output_type": "display_data"
        },
        {
          "data": {
            "application/vnd.jupyter.widget-view+json": {
              "model_id": "da0172a7f0be447a88f2aed78838aa7b",
              "version_major": 2,
              "version_minor": 0
            },
            "text/plain": [
              "  0%|          | 0/6 [00:00<?, ?it/s]"
            ]
          },
          "metadata": {},
          "output_type": "display_data"
        },
        {
          "name": "stdout",
          "output_type": "stream",
          "text": [
            "--- Epoch 11/15: ---\n",
            "Train loss: 0.6404, Train accuracy (Pleural): 0.5215, Train accuracy (Cardio): 0.5607\n",
            "Validation loss: 2.0465, Validation accuracy (Pleural): 0.6803, Validation accuracy (Cardio): 0.6088\n"
          ]
        },
        {
          "data": {
            "application/vnd.jupyter.widget-view+json": {
              "model_id": "fca4892d58624bafb737b482840fae35",
              "version_major": 2,
              "version_minor": 0
            },
            "text/plain": [
              "  0%|          | 0/171 [00:00<?, ?it/s]"
            ]
          },
          "metadata": {},
          "output_type": "display_data"
        },
        {
          "data": {
            "application/vnd.jupyter.widget-view+json": {
              "model_id": "ffaef8e458ba41f1ad5dae6bc115f90a",
              "version_major": 2,
              "version_minor": 0
            },
            "text/plain": [
              "  0%|          | 0/6 [00:00<?, ?it/s]"
            ]
          },
          "metadata": {},
          "output_type": "display_data"
        },
        {
          "name": "stdout",
          "output_type": "stream",
          "text": [
            "--- Epoch 12/15: ---\n",
            "Train loss: 0.5904, Train accuracy (Pleural): 0.5285, Train accuracy (Cardio): 0.5918\n",
            "Validation loss: 2.4401, Validation accuracy (Pleural): 0.6569, Validation accuracy (Cardio): 0.4190\n"
          ]
        },
        {
          "data": {
            "application/vnd.jupyter.widget-view+json": {
              "model_id": "522f3bd7d3604247bb59f759bb9ff4a7",
              "version_major": 2,
              "version_minor": 0
            },
            "text/plain": [
              "  0%|          | 0/171 [00:00<?, ?it/s]"
            ]
          },
          "metadata": {},
          "output_type": "display_data"
        },
        {
          "data": {
            "application/vnd.jupyter.widget-view+json": {
              "model_id": "585de040314f473f8b187d5cce0a4943",
              "version_major": 2,
              "version_minor": 0
            },
            "text/plain": [
              "  0%|          | 0/6 [00:00<?, ?it/s]"
            ]
          },
          "metadata": {},
          "output_type": "display_data"
        },
        {
          "name": "stdout",
          "output_type": "stream",
          "text": [
            "--- Epoch 13/15: ---\n",
            "Train loss: 0.5499, Train accuracy (Pleural): 0.5374, Train accuracy (Cardio): 0.6075\n",
            "Validation loss: 1.6937, Validation accuracy (Pleural): 0.7083, Validation accuracy (Cardio): 0.6616\n"
          ]
        },
        {
          "data": {
            "application/vnd.jupyter.widget-view+json": {
              "model_id": "ccccef6d54c14dcabb411b85a74f5116",
              "version_major": 2,
              "version_minor": 0
            },
            "text/plain": [
              "  0%|          | 0/171 [00:00<?, ?it/s]"
            ]
          },
          "metadata": {},
          "output_type": "display_data"
        },
        {
          "data": {
            "application/vnd.jupyter.widget-view+json": {
              "model_id": "b6bd108fd7d1459ab5489aa6d3b4b657",
              "version_major": 2,
              "version_minor": 0
            },
            "text/plain": [
              "  0%|          | 0/6 [00:00<?, ?it/s]"
            ]
          },
          "metadata": {},
          "output_type": "display_data"
        },
        {
          "name": "stdout",
          "output_type": "stream",
          "text": [
            "--- Epoch 14/15: ---\n",
            "Train loss: 0.5119, Train accuracy (Pleural): 0.5492, Train accuracy (Cardio): 0.6342\n",
            "Validation loss: 2.4902, Validation accuracy (Pleural): 0.6917, Validation accuracy (Cardio): 0.4273\n"
          ]
        },
        {
          "data": {
            "application/vnd.jupyter.widget-view+json": {
              "model_id": "8cad1eb9102c4be29b6d432f0d2474b5",
              "version_major": 2,
              "version_minor": 0
            },
            "text/plain": [
              "  0%|          | 0/171 [00:00<?, ?it/s]"
            ]
          },
          "metadata": {},
          "output_type": "display_data"
        },
        {
          "data": {
            "application/vnd.jupyter.widget-view+json": {
              "model_id": "668d6fcd437c43ff8b26a11b04ff07cd",
              "version_major": 2,
              "version_minor": 0
            },
            "text/plain": [
              "  0%|          | 0/6 [00:00<?, ?it/s]"
            ]
          },
          "metadata": {},
          "output_type": "display_data"
        },
        {
          "name": "stdout",
          "output_type": "stream",
          "text": [
            "--- Epoch 15/15: ---\n",
            "Train loss: 0.4658, Train accuracy (Pleural): 0.5629, Train accuracy (Cardio): 0.6588\n",
            "Validation loss: 4.3670, Validation accuracy (Pleural): 0.6108, Validation accuracy (Cardio): 0.3844\n"
          ]
        }
      ],
      "source": [
        "epochs = 15\n",
        "train(model, train_loader, valid_loader, epochs=epochs)"
      ]
    },
    {
      "cell_type": "markdown",
      "metadata": {
        "id": "IZmg6BlqYfQy"
      },
      "source": [
        "### Second iteration - Convolutional neural network (CNN) with Skip Connection"
      ]
    },
    {
      "cell_type": "markdown",
      "metadata": {
        "id": "0e2MF5Cumhk_"
      },
      "source": [
        "#### Model"
      ]
    },
    {
      "cell_type": "code",
      "execution_count": 26,
      "metadata": {},
      "outputs": [],
      "source": [
        "class SkipBlock(nn.Module):\n",
        "    def __init__(self, in_channels: int, hidden_channels: int, out_channels: int, kernel_size: int, stride: int, padding: int, pool_size: int = 2):\n",
        "        super(SkipBlock, self).__init__()\n",
        "\n",
        "        # Conv Layers + Skip Connections\n",
        "        self.conv1 = ConvolutionBlock(in_channels, hidden_channels, kernel_size, stride, padding, pool_size)\n",
        "        self.conv2 = ConvolutionBlock(hidden_channels, out_channels, kernel_size, stride, padding, pool_size)\n",
        "\n",
        "        # TODO: Try out 2 different skip connection implementation\n",
        "        # self.skip_connection = nn.Sequential(nn.Conv2d(channels[0], channels[2], kernel_size=1, stride=2*self.stride, padding=self.padding),\n",
        "        #                                       nn.AvgPool2d(self.pool_size, self.pool_size))\n",
        "        \n",
        "        self.skip_connection = nn.Sequential(nn.Conv2d(in_channels, out_channels, kernel_size=1, stride=stride, padding=padding),\n",
        "                                              nn.AvgPool2d(2*pool_size, 2*pool_size)\n",
        "                                              )\n",
        "        \n",
        "    \n",
        "    def forward(self, x):\n",
        "        x1 = self.conv1(x)\n",
        "        out = self.conv2(x1)\n",
        "\n",
        "        skip = self.skip_connection(x)\n",
        "        out += skip\n",
        "        return out"
      ]
    },
    {
      "cell_type": "code",
      "execution_count": 27,
      "metadata": {
        "colab": {
          "base_uri": "https://localhost:8080/"
        },
        "id": "oFCVqBv20DPv",
        "outputId": "46b20ca1-4d20-4da8-b770-532e9c772df8"
      },
      "outputs": [],
      "source": [
        "# We will be using Convolutional Neural Network\n",
        "class ConvolutionalNNv2(nn.Module):\n",
        "    def __init__(self, channels: tuple[int], img_size: tuple[int], hidden_size: tuple[int], output_size: int, dropout_rate: int = 0.2):\n",
        "        super(ConvolutionalNNv2, self).__init__()\n",
        "        \n",
        "        if len(channels) % 2 != 1:\n",
        "            raise Exception(\"len(channels) must be an odd number!\")\n",
        "        elif channels[0] != 3:\n",
        "            raise Exception(\"first element in channels must match the input channel size!\")\n",
        "\n",
        "        # Hyperparameters for Convolutional Layers\n",
        "        self.kernel_size = 3\n",
        "        self.stride = 1\n",
        "        self.padding = 1\n",
        "        self.pool_size = 2\n",
        "\n",
        "        # Input size of Image\n",
        "        self.input_height, self.input_width = img_size\n",
        "\n",
        "        # Calculate Input Size of Classifier\n",
        "        for i in range(len(channels) - 1):\n",
        "            self.input_height = math.floor((self.input_height + 2 * self.padding - self.kernel_size)/ self.stride + 1) // self.pool_size\n",
        "            self.input_width =  math.floor((self.input_width  + 2 * self.padding - self.kernel_size)/ self.stride + 1) // self.pool_size\n",
        "            \n",
        "        self.classifier_size = channels[-1] * self.input_height * self.input_width\n",
        "\n",
        "\n",
        "        # Conv Layers + Skip Connections\n",
        "        self.skip_layers = nn.Sequential(*[SkipBlock(channels[i], channels[i+1], channels[i+2], self.kernel_size, self.stride, self.padding, self.pool_size) for i in range(0, len(channels)-2, 2)])\n",
        "\n",
        "        # Dropout Layer\n",
        "        self.dropout = nn.Dropout(dropout_rate)\n",
        "\n",
        "        # Classifier Layers\n",
        "        self.classifier1 = ClassifierBlock(self.classifier_size, hidden_size, output_size, dropout_rate)\n",
        "        self.classifier2 = ClassifierBlock(self.classifier_size, hidden_size, output_size, dropout_rate)\n",
        "        \n",
        "\n",
        "    def forward(self,x):\n",
        "        # SkipBlock layers\n",
        "        x1 = self.skip_layers(x)\n",
        "\n",
        "        # Flatten output of convolutions\n",
        "        x2 = x1.view(x1.size(0), -1)\n",
        "        # print(x.shape)\n",
        "        x3 = self.dropout(x2)\n",
        "\n",
        "        # Classifier layer\n",
        "        x4 = self.classifier1(x3)\n",
        "        x5 = self.classifier2(x3)\n",
        "        \n",
        "        return x4, x5"
      ]
    },
    {
      "cell_type": "code",
      "execution_count": 28,
      "metadata": {
        "colab": {
          "base_uri": "https://localhost:8080/"
        },
        "id": "NQHVpTCYuESe",
        "outputId": "6c4c392b-f93a-4c8d-a580-111e074fd083"
      },
      "outputs": [
        {
          "name": "stdout",
          "output_type": "stream",
          "text": [
            "ConvolutionalNNv2(\n",
            "  (skip_layers): Sequential(\n",
            "    (0): SkipBlock(\n",
            "      (conv1): ConvolutionBlock(\n",
            "        (conv): Conv2d(3, 8, kernel_size=(3, 3), stride=(1, 1), padding=(1, 1))\n",
            "        (bn): BatchNorm2d(8, eps=1e-05, momentum=0.1, affine=True, track_running_stats=True)\n",
            "        (activation): ReLU()\n",
            "        (pooling): MaxPool2d(kernel_size=2, stride=2, padding=0, dilation=1, ceil_mode=False)\n",
            "      )\n",
            "      (conv2): ConvolutionBlock(\n",
            "        (conv): Conv2d(8, 16, kernel_size=(3, 3), stride=(1, 1), padding=(1, 1))\n",
            "        (bn): BatchNorm2d(16, eps=1e-05, momentum=0.1, affine=True, track_running_stats=True)\n",
            "        (activation): ReLU()\n",
            "        (pooling): MaxPool2d(kernel_size=2, stride=2, padding=0, dilation=1, ceil_mode=False)\n",
            "      )\n",
            "      (skip_connection): Sequential(\n",
            "        (0): Conv2d(3, 16, kernel_size=(1, 1), stride=(1, 1), padding=(1, 1))\n",
            "        (1): AvgPool2d(kernel_size=4, stride=4, padding=0)\n",
            "      )\n",
            "    )\n",
            "    (1): SkipBlock(\n",
            "      (conv1): ConvolutionBlock(\n",
            "        (conv): Conv2d(16, 32, kernel_size=(3, 3), stride=(1, 1), padding=(1, 1))\n",
            "        (bn): BatchNorm2d(32, eps=1e-05, momentum=0.1, affine=True, track_running_stats=True)\n",
            "        (activation): ReLU()\n",
            "        (pooling): MaxPool2d(kernel_size=2, stride=2, padding=0, dilation=1, ceil_mode=False)\n",
            "      )\n",
            "      (conv2): ConvolutionBlock(\n",
            "        (conv): Conv2d(32, 64, kernel_size=(3, 3), stride=(1, 1), padding=(1, 1))\n",
            "        (bn): BatchNorm2d(64, eps=1e-05, momentum=0.1, affine=True, track_running_stats=True)\n",
            "        (activation): ReLU()\n",
            "        (pooling): MaxPool2d(kernel_size=2, stride=2, padding=0, dilation=1, ceil_mode=False)\n",
            "      )\n",
            "      (skip_connection): Sequential(\n",
            "        (0): Conv2d(16, 64, kernel_size=(1, 1), stride=(1, 1), padding=(1, 1))\n",
            "        (1): AvgPool2d(kernel_size=4, stride=4, padding=0)\n",
            "      )\n",
            "    )\n",
            "    (2): SkipBlock(\n",
            "      (conv1): ConvolutionBlock(\n",
            "        (conv): Conv2d(64, 128, kernel_size=(3, 3), stride=(1, 1), padding=(1, 1))\n",
            "        (bn): BatchNorm2d(128, eps=1e-05, momentum=0.1, affine=True, track_running_stats=True)\n",
            "        (activation): ReLU()\n",
            "        (pooling): MaxPool2d(kernel_size=2, stride=2, padding=0, dilation=1, ceil_mode=False)\n",
            "      )\n",
            "      (conv2): ConvolutionBlock(\n",
            "        (conv): Conv2d(128, 256, kernel_size=(3, 3), stride=(1, 1), padding=(1, 1))\n",
            "        (bn): BatchNorm2d(256, eps=1e-05, momentum=0.1, affine=True, track_running_stats=True)\n",
            "        (activation): ReLU()\n",
            "        (pooling): MaxPool2d(kernel_size=2, stride=2, padding=0, dilation=1, ceil_mode=False)\n",
            "      )\n",
            "      (skip_connection): Sequential(\n",
            "        (0): Conv2d(64, 256, kernel_size=(1, 1), stride=(1, 1), padding=(1, 1))\n",
            "        (1): AvgPool2d(kernel_size=4, stride=4, padding=0)\n",
            "      )\n",
            "    )\n",
            "  )\n",
            "  (dropout): Dropout(p=0.2, inplace=False)\n",
            "  (classifier1): ClassifierBlock(\n",
            "    (inputs): FCBlock(\n",
            "      (fc): Linear(in_features=4096, out_features=2048, bias=True)\n",
            "      (activation): ReLU()\n",
            "      (dropout): Dropout(p=0.2, inplace=False)\n",
            "    )\n",
            "    (layers): Sequential(\n",
            "      (0): FCBlock(\n",
            "        (fc): Linear(in_features=2048, out_features=256, bias=True)\n",
            "        (activation): ReLU()\n",
            "        (dropout): Dropout(p=0.2, inplace=False)\n",
            "      )\n",
            "    )\n",
            "    (linear): Linear(in_features=256, out_features=3, bias=True)\n",
            "  )\n",
            "  (classifier2): ClassifierBlock(\n",
            "    (inputs): FCBlock(\n",
            "      (fc): Linear(in_features=4096, out_features=2048, bias=True)\n",
            "      (activation): ReLU()\n",
            "      (dropout): Dropout(p=0.2, inplace=False)\n",
            "    )\n",
            "    (layers): Sequential(\n",
            "      (0): FCBlock(\n",
            "        (fc): Linear(in_features=2048, out_features=256, bias=True)\n",
            "        (activation): ReLU()\n",
            "        (dropout): Dropout(p=0.2, inplace=False)\n",
            "      )\n",
            "    )\n",
            "    (linear): Linear(in_features=256, out_features=3, bias=True)\n",
            "  )\n",
            ")\n"
          ]
        }
      ],
      "source": [
        "# Create Model\n",
        "# model = torchvision.models.resnet18(weights=False).to(device) # to check if trainer works\n",
        "\n",
        "channels = (3, 8, 16, 32, 64, 128, 256)\n",
        "input_size = (256, 256)\n",
        "hidden_size = (2048, 256) \n",
        "output_size = 3\n",
        "dropout_rate = 0.2\n",
        "\n",
        "model = ConvolutionalNNv2(channels, input_size, hidden_size, output_size, dropout_rate).to(device)\n",
        "print(model)"
      ]
    },
    {
      "cell_type": "code",
      "execution_count": 29,
      "metadata": {},
      "outputs": [
        {
          "name": "stdout",
          "output_type": "stream",
          "text": [
            "torch.Size([128, 3, 256, 256])\n",
            "torch.Size([128]) torch.Size([128])\n"
          ]
        }
      ],
      "source": [
        "for inputs, outputs in train_loader:\n",
        "    print(inputs.shape)\n",
        "    print(outputs[0].shape, outputs[1].shape)\n",
        "    break"
      ]
    },
    {
      "cell_type": "code",
      "execution_count": 30,
      "metadata": {
        "colab": {
          "background_save": true,
          "base_uri": "https://localhost:8080/",
          "height": 229,
          "referenced_widgets": [
            "fb544a88378041849b1c08cbad750204",
            "e7528d776b9a4c9892f9b19e9ad8fcea",
            "0d7ce28b69e54d41b3dcfa90a1613476",
            "44cb95a01d434b3e9750b506b8fe1f86",
            "2381557a08ca4a8cab33c2a3c4b9b33e",
            "31a03c4c24914c4e8e1063cc9a15c659",
            "795bd78c12b94c91a33eccf059547c63",
            "2142713587324615964bfd65249f4e9c",
            "820189d75bc64521a5249457239c68e2",
            "9ef643fd19844c2591a66c1359090e0e",
            "07778699f8594b068e5eb9a35a41d687",
            "050f62f2119d4cbfac7c05397c9ddcf8",
            "44b46e76600b440e9c1fd9957486bdc8",
            "e69cbe9861c14dc18d23b4567ea9f8f6",
            "6d0e15a8fb6a44ffad74ac6d9a8a5000",
            "9d4cbbe3dd914999b57d0978d1123e9f",
            "f851d7e16ac547478c984a933ccba92c",
            "b362bb321bb24565805c2248540d860e",
            "e73c57a462584b8796266f37f812edf8",
            "eaf89a4abefd461db5a0dc224f3d38a0",
            "9dd54bbadd8a42bbbbe852d2e8e37807",
            "b8fa2132dcbd4a9bbe219ab32aee238f",
            "daca74a067bb43cc8da939d714b8cec8",
            "d55ea51a88de4a2b97705191b2960baa",
            "09d1dd25370e476184687cae21d39b8e",
            "97d23194a23246548f5519cc95fcd497",
            "4f412c57fa024219ba2045cb665b2b93",
            "b6fbc62706904eb5975596d8cb6d7d9b",
            "b9fd7380df0e4825abb772a36741438f",
            "68754f56ef3a4d1f9df7a86980647aec",
            "c795725feafb42dd86ad60c739d9c7a0",
            "a18be04379524889a55dd47cd446a1fc",
            "3bfa8fca0a3c422082b7451234a4291e",
            "2ef6b6dcc7194706918a451103d5bafe",
            "36954340daf24afc84156d59336f0890",
            "bca09bc03dfd4fc2b9a24c4a1aeb4a39",
            "d47871df2bc14578b5289c8577fdaa2f",
            "87f3dc46d1844cef84b9fdd241719804",
            "e0b399e049c24fec8e5b37e5ffb77dd5",
            "9e244ff2eccd4f6081ba127c9a1b4166",
            "9f38ca56c76e40cd898c03345c22d7ed",
            "64c49ef2f8684a2a933da28be81e4926",
            "a47b50d4e41d41e48fc9df8bf8702cb0",
            "c1b375f354d9499998510aa4a13628d0",
            "38f2d9101d6440d799a53a2c83525437",
            "3084b6c7f4d64aaa8a5bf4444e9351e3",
            "13435f5cc32f43c3b61defbe0b5f30b7",
            "6b2fb6ea805b4a0f81a64f3fe7e45c98",
            "9359718318954a9db70b9411425ae91b",
            "d46cd84434c348f88541c7d81441629e",
            "488c7b70f6b24c318fc124e41bf6508e",
            "070cdad56b4a4574b3464c560dcfb028",
            "4c955e059b7448c292a41e375941deca",
            "1e56613d5e3a44cea58d07ffd98af64b",
            "5bd4e266e6ab4d309f4d9e7cdbb6243a",
            "5805c755458440ae82487b31a355148c"
          ]
        },
        "id": "au8Bd688uAOR",
        "outputId": "82aa2967-9894-492a-a9e1-69121791b56a"
      },
      "outputs": [
        {
          "data": {
            "application/vnd.jupyter.widget-view+json": {
              "model_id": "b2e7edd5b755409b958f9089a415d614",
              "version_major": 2,
              "version_minor": 0
            },
            "text/plain": [
              "  0%|          | 0/15 [00:00<?, ?it/s]"
            ]
          },
          "metadata": {},
          "output_type": "display_data"
        },
        {
          "data": {
            "application/vnd.jupyter.widget-view+json": {
              "model_id": "e3dd8ab535c8416e9f5dadc188964781",
              "version_major": 2,
              "version_minor": 0
            },
            "text/plain": [
              "  0%|          | 0/171 [00:00<?, ?it/s]"
            ]
          },
          "metadata": {},
          "output_type": "display_data"
        },
        {
          "data": {
            "application/vnd.jupyter.widget-view+json": {
              "model_id": "ecbe1e778ed6415f98799eefb28a22d2",
              "version_major": 2,
              "version_minor": 0
            },
            "text/plain": [
              "  0%|          | 0/6 [00:00<?, ?it/s]"
            ]
          },
          "metadata": {},
          "output_type": "display_data"
        },
        {
          "name": "stdout",
          "output_type": "stream",
          "text": [
            "--- Epoch 1/15: ---\n",
            "Train loss: 1.0765, Train accuracy (Pleural): 0.3772, Train accuracy (Cardio): 0.3542\n",
            "Validation loss: 1.9667, Validation accuracy (Pleural): 0.5359, Validation accuracy (Cardio): 0.5120\n"
          ]
        },
        {
          "data": {
            "application/vnd.jupyter.widget-view+json": {
              "model_id": "cc0cb3cef9954486aebc038d94d1b9a7",
              "version_major": 2,
              "version_minor": 0
            },
            "text/plain": [
              "  0%|          | 0/171 [00:00<?, ?it/s]"
            ]
          },
          "metadata": {},
          "output_type": "display_data"
        },
        {
          "data": {
            "application/vnd.jupyter.widget-view+json": {
              "model_id": "211622ed3f7f407b96eb59ae85548876",
              "version_major": 2,
              "version_minor": 0
            },
            "text/plain": [
              "  0%|          | 0/6 [00:00<?, ?it/s]"
            ]
          },
          "metadata": {},
          "output_type": "display_data"
        },
        {
          "name": "stdout",
          "output_type": "stream",
          "text": [
            "--- Epoch 2/15: ---\n",
            "Train loss: 0.9235, Train accuracy (Pleural): 0.4288, Train accuracy (Cardio): 0.4146\n",
            "Validation loss: 1.6148, Validation accuracy (Pleural): 0.6303, Validation accuracy (Cardio): 0.6123\n"
          ]
        },
        {
          "data": {
            "application/vnd.jupyter.widget-view+json": {
              "model_id": "0e316ae88af94bc8b39b0342b9996ae6",
              "version_major": 2,
              "version_minor": 0
            },
            "text/plain": [
              "  0%|          | 0/171 [00:00<?, ?it/s]"
            ]
          },
          "metadata": {},
          "output_type": "display_data"
        },
        {
          "data": {
            "application/vnd.jupyter.widget-view+json": {
              "model_id": "f6c49225286b449fad653acaa1e035cd",
              "version_major": 2,
              "version_minor": 0
            },
            "text/plain": [
              "  0%|          | 0/6 [00:00<?, ?it/s]"
            ]
          },
          "metadata": {},
          "output_type": "display_data"
        },
        {
          "name": "stdout",
          "output_type": "stream",
          "text": [
            "--- Epoch 3/15: ---\n",
            "Train loss: 0.8734, Train accuracy (Pleural): 0.4536, Train accuracy (Cardio): 0.4434\n",
            "Validation loss: 1.8979, Validation accuracy (Pleural): 0.5998, Validation accuracy (Cardio): 0.5241\n"
          ]
        },
        {
          "data": {
            "application/vnd.jupyter.widget-view+json": {
              "model_id": "fe52be216df946eb8d96cce255babbbf",
              "version_major": 2,
              "version_minor": 0
            },
            "text/plain": [
              "  0%|          | 0/171 [00:00<?, ?it/s]"
            ]
          },
          "metadata": {},
          "output_type": "display_data"
        },
        {
          "data": {
            "application/vnd.jupyter.widget-view+json": {
              "model_id": "26bd05c7cfde4b19939c4159f6eb913f",
              "version_major": 2,
              "version_minor": 0
            },
            "text/plain": [
              "  0%|          | 0/6 [00:00<?, ?it/s]"
            ]
          },
          "metadata": {},
          "output_type": "display_data"
        },
        {
          "name": "stdout",
          "output_type": "stream",
          "text": [
            "--- Epoch 4/15: ---\n",
            "Train loss: 0.8448, Train accuracy (Pleural): 0.4699, Train accuracy (Cardio): 0.4642\n",
            "Validation loss: 1.5038, Validation accuracy (Pleural): 0.6948, Validation accuracy (Cardio): 0.6693\n"
          ]
        },
        {
          "data": {
            "application/vnd.jupyter.widget-view+json": {
              "model_id": "9f0bd9ab4e59442dbf4e0fd96cb6ef28",
              "version_major": 2,
              "version_minor": 0
            },
            "text/plain": [
              "  0%|          | 0/171 [00:00<?, ?it/s]"
            ]
          },
          "metadata": {},
          "output_type": "display_data"
        },
        {
          "data": {
            "application/vnd.jupyter.widget-view+json": {
              "model_id": "3d5b748cf33441be9f50aa9fe68167e9",
              "version_major": 2,
              "version_minor": 0
            },
            "text/plain": [
              "  0%|          | 0/6 [00:00<?, ?it/s]"
            ]
          },
          "metadata": {},
          "output_type": "display_data"
        },
        {
          "name": "stdout",
          "output_type": "stream",
          "text": [
            "--- Epoch 5/15: ---\n",
            "Train loss: 0.8113, Train accuracy (Pleural): 0.4817, Train accuracy (Cardio): 0.4744\n",
            "Validation loss: 1.5422, Validation accuracy (Pleural): 0.6565, Validation accuracy (Cardio): 0.6247\n"
          ]
        },
        {
          "data": {
            "application/vnd.jupyter.widget-view+json": {
              "model_id": "7a8bc2e0b42e4def8a8264b235b20800",
              "version_major": 2,
              "version_minor": 0
            },
            "text/plain": [
              "  0%|          | 0/171 [00:00<?, ?it/s]"
            ]
          },
          "metadata": {},
          "output_type": "display_data"
        },
        {
          "data": {
            "application/vnd.jupyter.widget-view+json": {
              "model_id": "d7f506cb0b2c4496be6fc644c3ca383d",
              "version_major": 2,
              "version_minor": 0
            },
            "text/plain": [
              "  0%|          | 0/6 [00:00<?, ?it/s]"
            ]
          },
          "metadata": {},
          "output_type": "display_data"
        },
        {
          "name": "stdout",
          "output_type": "stream",
          "text": [
            "--- Epoch 6/15: ---\n",
            "Train loss: 0.7734, Train accuracy (Pleural): 0.4905, Train accuracy (Cardio): 0.5001\n",
            "Validation loss: 2.3570, Validation accuracy (Pleural): 0.5664, Validation accuracy (Cardio): 0.5449\n"
          ]
        },
        {
          "data": {
            "application/vnd.jupyter.widget-view+json": {
              "model_id": "d6b81576bf904b87999d43c9b6e34189",
              "version_major": 2,
              "version_minor": 0
            },
            "text/plain": [
              "  0%|          | 0/171 [00:00<?, ?it/s]"
            ]
          },
          "metadata": {},
          "output_type": "display_data"
        },
        {
          "data": {
            "application/vnd.jupyter.widget-view+json": {
              "model_id": "c1d71c20939d400289a7be1d7e1f3029",
              "version_major": 2,
              "version_minor": 0
            },
            "text/plain": [
              "  0%|          | 0/6 [00:00<?, ?it/s]"
            ]
          },
          "metadata": {},
          "output_type": "display_data"
        },
        {
          "name": "stdout",
          "output_type": "stream",
          "text": [
            "--- Epoch 7/15: ---\n",
            "Train loss: 0.7366, Train accuracy (Pleural): 0.4974, Train accuracy (Cardio): 0.5169\n",
            "Validation loss: 1.6443, Validation accuracy (Pleural): 0.6523, Validation accuracy (Cardio): 0.6577\n"
          ]
        },
        {
          "data": {
            "application/vnd.jupyter.widget-view+json": {
              "model_id": "38f3416e474b4e319ed18e66e6545f8d",
              "version_major": 2,
              "version_minor": 0
            },
            "text/plain": [
              "  0%|          | 0/171 [00:00<?, ?it/s]"
            ]
          },
          "metadata": {},
          "output_type": "display_data"
        },
        {
          "data": {
            "application/vnd.jupyter.widget-view+json": {
              "model_id": "c2f544195b01473b977ee4dfbc970472",
              "version_major": 2,
              "version_minor": 0
            },
            "text/plain": [
              "  0%|          | 0/6 [00:00<?, ?it/s]"
            ]
          },
          "metadata": {},
          "output_type": "display_data"
        },
        {
          "name": "stdout",
          "output_type": "stream",
          "text": [
            "--- Epoch 8/15: ---\n",
            "Train loss: 0.6925, Train accuracy (Pleural): 0.5076, Train accuracy (Cardio): 0.5410\n",
            "Validation loss: 2.2276, Validation accuracy (Pleural): 0.6511, Validation accuracy (Cardio): 0.3794\n"
          ]
        },
        {
          "data": {
            "application/vnd.jupyter.widget-view+json": {
              "model_id": "274fd1d0c6c54871b979af9b0392a063",
              "version_major": 2,
              "version_minor": 0
            },
            "text/plain": [
              "  0%|          | 0/171 [00:00<?, ?it/s]"
            ]
          },
          "metadata": {},
          "output_type": "display_data"
        },
        {
          "data": {
            "application/vnd.jupyter.widget-view+json": {
              "model_id": "247cd5bab77648ed93bf984a7327ff41",
              "version_major": 2,
              "version_minor": 0
            },
            "text/plain": [
              "  0%|          | 0/6 [00:00<?, ?it/s]"
            ]
          },
          "metadata": {},
          "output_type": "display_data"
        },
        {
          "name": "stdout",
          "output_type": "stream",
          "text": [
            "--- Epoch 9/15: ---\n",
            "Train loss: 0.6312, Train accuracy (Pleural): 0.5216, Train accuracy (Cardio): 0.5801\n",
            "Validation loss: 2.9961, Validation accuracy (Pleural): 0.6510, Validation accuracy (Cardio): 0.3803\n"
          ]
        },
        {
          "data": {
            "application/vnd.jupyter.widget-view+json": {
              "model_id": "589bcac3f02340d5a84dd8f384621a8c",
              "version_major": 2,
              "version_minor": 0
            },
            "text/plain": [
              "  0%|          | 0/171 [00:00<?, ?it/s]"
            ]
          },
          "metadata": {},
          "output_type": "display_data"
        },
        {
          "data": {
            "application/vnd.jupyter.widget-view+json": {
              "model_id": "5fdc581d601a4d7bace93ee081024003",
              "version_major": 2,
              "version_minor": 0
            },
            "text/plain": [
              "  0%|          | 0/6 [00:00<?, ?it/s]"
            ]
          },
          "metadata": {},
          "output_type": "display_data"
        },
        {
          "name": "stdout",
          "output_type": "stream",
          "text": [
            "--- Epoch 10/15: ---\n",
            "Train loss: 0.5844, Train accuracy (Pleural): 0.5349, Train accuracy (Cardio): 0.6057\n",
            "Validation loss: 3.0990, Validation accuracy (Pleural): 0.5691, Validation accuracy (Cardio): 0.3675\n"
          ]
        },
        {
          "data": {
            "application/vnd.jupyter.widget-view+json": {
              "model_id": "05c0456f79534fe1b3ed5c3c187cf6c5",
              "version_major": 2,
              "version_minor": 0
            },
            "text/plain": [
              "  0%|          | 0/171 [00:00<?, ?it/s]"
            ]
          },
          "metadata": {},
          "output_type": "display_data"
        },
        {
          "data": {
            "application/vnd.jupyter.widget-view+json": {
              "model_id": "18ebd565e3c8490bbd765c2c8c46196a",
              "version_major": 2,
              "version_minor": 0
            },
            "text/plain": [
              "  0%|          | 0/6 [00:00<?, ?it/s]"
            ]
          },
          "metadata": {},
          "output_type": "display_data"
        },
        {
          "name": "stdout",
          "output_type": "stream",
          "text": [
            "--- Epoch 11/15: ---\n",
            "Train loss: 0.5234, Train accuracy (Pleural): 0.5513, Train accuracy (Cardio): 0.6615\n",
            "Validation loss: 3.0270, Validation accuracy (Pleural): 0.6381, Validation accuracy (Cardio): 0.3586\n"
          ]
        },
        {
          "data": {
            "application/vnd.jupyter.widget-view+json": {
              "model_id": "10d762396982426b8227ad86ef101874",
              "version_major": 2,
              "version_minor": 0
            },
            "text/plain": [
              "  0%|          | 0/171 [00:00<?, ?it/s]"
            ]
          },
          "metadata": {},
          "output_type": "display_data"
        },
        {
          "data": {
            "application/vnd.jupyter.widget-view+json": {
              "model_id": "d29161e19cde448ba3e4cfe8942d6eb2",
              "version_major": 2,
              "version_minor": 0
            },
            "text/plain": [
              "  0%|          | 0/6 [00:00<?, ?it/s]"
            ]
          },
          "metadata": {},
          "output_type": "display_data"
        },
        {
          "name": "stdout",
          "output_type": "stream",
          "text": [
            "--- Epoch 12/15: ---\n",
            "Train loss: 0.4461, Train accuracy (Pleural): 0.5681, Train accuracy (Cardio): 0.7205\n",
            "Validation loss: 2.6950, Validation accuracy (Pleural): 0.6885, Validation accuracy (Cardio): 0.3992\n"
          ]
        },
        {
          "data": {
            "application/vnd.jupyter.widget-view+json": {
              "model_id": "5755bd9a8b8144fd928eb3b62eb6b413",
              "version_major": 2,
              "version_minor": 0
            },
            "text/plain": [
              "  0%|          | 0/171 [00:00<?, ?it/s]"
            ]
          },
          "metadata": {},
          "output_type": "display_data"
        },
        {
          "data": {
            "application/vnd.jupyter.widget-view+json": {
              "model_id": "e5c20436733042ac8221eddd24481700",
              "version_major": 2,
              "version_minor": 0
            },
            "text/plain": [
              "  0%|          | 0/6 [00:00<?, ?it/s]"
            ]
          },
          "metadata": {},
          "output_type": "display_data"
        },
        {
          "name": "stdout",
          "output_type": "stream",
          "text": [
            "--- Epoch 13/15: ---\n",
            "Train loss: 0.3960, Train accuracy (Pleural): 0.5854, Train accuracy (Cardio): 0.7732\n",
            "Validation loss: 2.5123, Validation accuracy (Pleural): 0.6457, Validation accuracy (Cardio): 0.3647\n"
          ]
        },
        {
          "data": {
            "application/vnd.jupyter.widget-view+json": {
              "model_id": "ebbdf2537ee2468ca40cc8c6d9f3d28c",
              "version_major": 2,
              "version_minor": 0
            },
            "text/plain": [
              "  0%|          | 0/171 [00:00<?, ?it/s]"
            ]
          },
          "metadata": {},
          "output_type": "display_data"
        },
        {
          "data": {
            "application/vnd.jupyter.widget-view+json": {
              "model_id": "79e884b780fc4238b2bb5e6e47f9da38",
              "version_major": 2,
              "version_minor": 0
            },
            "text/plain": [
              "  0%|          | 0/6 [00:00<?, ?it/s]"
            ]
          },
          "metadata": {},
          "output_type": "display_data"
        },
        {
          "name": "stdout",
          "output_type": "stream",
          "text": [
            "--- Epoch 14/15: ---\n",
            "Train loss: 0.3582, Train accuracy (Pleural): 0.6034, Train accuracy (Cardio): 0.7973\n",
            "Validation loss: 3.4419, Validation accuracy (Pleural): 0.4355, Validation accuracy (Cardio): 0.3859\n"
          ]
        },
        {
          "data": {
            "application/vnd.jupyter.widget-view+json": {
              "model_id": "a02b93f145ea40a0bef9afa65fc517fe",
              "version_major": 2,
              "version_minor": 0
            },
            "text/plain": [
              "  0%|          | 0/171 [00:00<?, ?it/s]"
            ]
          },
          "metadata": {},
          "output_type": "display_data"
        },
        {
          "data": {
            "application/vnd.jupyter.widget-view+json": {
              "model_id": "bcf7c8778adb43a591cc6a94b85b52b7",
              "version_major": 2,
              "version_minor": 0
            },
            "text/plain": [
              "  0%|          | 0/6 [00:00<?, ?it/s]"
            ]
          },
          "metadata": {},
          "output_type": "display_data"
        },
        {
          "name": "stdout",
          "output_type": "stream",
          "text": [
            "--- Epoch 15/15: ---\n",
            "Train loss: 0.3074, Train accuracy (Pleural): 0.6328, Train accuracy (Cardio): 0.8400\n",
            "Validation loss: 3.0237, Validation accuracy (Pleural): 0.4357, Validation accuracy (Cardio): 0.3641\n"
          ]
        }
      ],
      "source": [
        "epochs = 15\n",
        "train(model, train_loader, valid_loader, epochs=epochs)\n",
        "#torch.save(model.state_dict(), 'weights.pt')"
      ]
    },
    {
      "cell_type": "code",
      "execution_count": 31,
      "metadata": {},
      "outputs": [],
      "source": [
        "class ResidualBlock(nn.Module):\n",
        "    def __init__(self, in_channels, out_channels, kernel_size, stride, padding):\n",
        "        super(ResidualBlock, self).__init__()\n",
        "        self.conv1 = nn.Conv2d(in_channels, out_channels, kernel_size, stride, padding)\n",
        "        self.bn1 = nn.BatchNorm2d(out_channels)\n",
        "        self.conv2 = nn.Conv2d(out_channels, out_channels, kernel_size, stride, padding)\n",
        "        self.bn2 = nn.BatchNorm2d(out_channels)\n",
        "        self.activation = nn.ReLU()\n",
        "    \n",
        "    def forward(self, x):\n",
        "        residual = x\n",
        "        out = self.conv1(x)\n",
        "        out = self.bn1(out)\n",
        "        out = self.activation(out)\n",
        "        out = self.conv2(out)\n",
        "        out = self.bn2(out)\n",
        "        out += residual\n",
        "        out = self.activation(out)\n",
        "        return out"
      ]
    },
    {
      "cell_type": "code",
      "execution_count": 32,
      "metadata": {},
      "outputs": [],
      "source": [
        "class InceptionBlock(nn.Module):\n",
        "    def __init__(self, in_channels, out_channels):\n",
        "        super(InceptionBlock, self).__init__()\n",
        "        self.conv1 = nn.Conv2d(in_channels, out_channels, kernel_size=1)\n",
        "        self.conv2 = nn.Conv2d(in_channels, out_channels, kernel_size=3, padding=1)\n",
        "        self.conv3 = nn.Conv2d(in_channels, out_channels, kernel_size=5, padding=2)\n",
        "        self.conv4 = nn.Conv2d(in_channels, out_channels, kernel_size=1)\n",
        "\n",
        "    def forward(self, x):\n",
        "        out1 = self.conv1(x)\n",
        "        out2 = self.conv2(x)\n",
        "        out3 = self.conv3(x)\n",
        "        out4 = self.conv4(x)\n",
        "        out = torch.cat([out1, out2, out3, out4], 1)\n",
        "        return out"
      ]
    },
    {
      "cell_type": "code",
      "execution_count": null,
      "metadata": {},
      "outputs": [],
      "source": []
    },
    {
      "cell_type": "markdown",
      "metadata": {},
      "source": [
        "### Testing"
      ]
    },
    {
      "cell_type": "markdown",
      "metadata": {
        "id": "iI5olU_kZFMt"
      },
      "source": [
        "## Observations"
      ]
    },
    {
      "cell_type": "markdown",
      "metadata": {
        "id": "cWoXsxGDZSzV"
      },
      "source": [
        "**TODO** Discuss whether its right for us to pluck all our evaluation and training together and discuss it here or break up the code without any descriptions\n"
      ]
    }
  ],
  "metadata": {
    "accelerator": "GPU",
    "colab": {
      "gpuType": "T4",
      "machine_shape": "hm",
      "provenance": []
    },
    "kernelspec": {
      "display_name": "Python 3",
      "name": "python3"
    },
    "language_info": {
      "codemirror_mode": {
        "name": "ipython",
        "version": 3
      },
      "file_extension": ".py",
      "mimetype": "text/x-python",
      "name": "python",
      "nbconvert_exporter": "python",
      "pygments_lexer": "ipython3",
      "version": "3.10.11"
    },
    "widgets": {
      "application/vnd.jupyter.widget-state+json": {
        "050f62f2119d4cbfac7c05397c9ddcf8": {
          "model_module": "@jupyter-widgets/controls",
          "model_module_version": "1.5.0",
          "model_name": "HBoxModel",
          "state": {
            "_dom_classes": [],
            "_model_module": "@jupyter-widgets/controls",
            "_model_module_version": "1.5.0",
            "_model_name": "HBoxModel",
            "_view_count": null,
            "_view_module": "@jupyter-widgets/controls",
            "_view_module_version": "1.5.0",
            "_view_name": "HBoxView",
            "box_style": "",
            "children": [
              "IPY_MODEL_44b46e76600b440e9c1fd9957486bdc8",
              "IPY_MODEL_e69cbe9861c14dc18d23b4567ea9f8f6",
              "IPY_MODEL_6d0e15a8fb6a44ffad74ac6d9a8a5000"
            ],
            "layout": "IPY_MODEL_9d4cbbe3dd914999b57d0978d1123e9f"
          }
        },
        "0554ff0c95914306b4c057b05c6219ba": {
          "model_module": "@jupyter-widgets/base",
          "model_module_version": "1.2.0",
          "model_name": "LayoutModel",
          "state": {
            "_model_module": "@jupyter-widgets/base",
            "_model_module_version": "1.2.0",
            "_model_name": "LayoutModel",
            "_view_count": null,
            "_view_module": "@jupyter-widgets/base",
            "_view_module_version": "1.2.0",
            "_view_name": "LayoutView",
            "align_content": null,
            "align_items": null,
            "align_self": null,
            "border": null,
            "bottom": null,
            "display": null,
            "flex": null,
            "flex_flow": null,
            "grid_area": null,
            "grid_auto_columns": null,
            "grid_auto_flow": null,
            "grid_auto_rows": null,
            "grid_column": null,
            "grid_gap": null,
            "grid_row": null,
            "grid_template_areas": null,
            "grid_template_columns": null,
            "grid_template_rows": null,
            "height": null,
            "justify_content": null,
            "justify_items": null,
            "left": null,
            "margin": null,
            "max_height": null,
            "max_width": null,
            "min_height": null,
            "min_width": null,
            "object_fit": null,
            "object_position": null,
            "order": null,
            "overflow": null,
            "overflow_x": null,
            "overflow_y": null,
            "padding": null,
            "right": null,
            "top": null,
            "visibility": null,
            "width": null
          }
        },
        "070cdad56b4a4574b3464c560dcfb028": {
          "model_module": "@jupyter-widgets/base",
          "model_module_version": "1.2.0",
          "model_name": "LayoutModel",
          "state": {
            "_model_module": "@jupyter-widgets/base",
            "_model_module_version": "1.2.0",
            "_model_name": "LayoutModel",
            "_view_count": null,
            "_view_module": "@jupyter-widgets/base",
            "_view_module_version": "1.2.0",
            "_view_name": "LayoutView",
            "align_content": null,
            "align_items": null,
            "align_self": null,
            "border": null,
            "bottom": null,
            "display": null,
            "flex": null,
            "flex_flow": null,
            "grid_area": null,
            "grid_auto_columns": null,
            "grid_auto_flow": null,
            "grid_auto_rows": null,
            "grid_column": null,
            "grid_gap": null,
            "grid_row": null,
            "grid_template_areas": null,
            "grid_template_columns": null,
            "grid_template_rows": null,
            "height": null,
            "justify_content": null,
            "justify_items": null,
            "left": null,
            "margin": null,
            "max_height": null,
            "max_width": null,
            "min_height": null,
            "min_width": null,
            "object_fit": null,
            "object_position": null,
            "order": null,
            "overflow": null,
            "overflow_x": null,
            "overflow_y": null,
            "padding": null,
            "right": null,
            "top": null,
            "visibility": null,
            "width": null
          }
        },
        "07778699f8594b068e5eb9a35a41d687": {
          "model_module": "@jupyter-widgets/controls",
          "model_module_version": "1.5.0",
          "model_name": "DescriptionStyleModel",
          "state": {
            "_model_module": "@jupyter-widgets/controls",
            "_model_module_version": "1.5.0",
            "_model_name": "DescriptionStyleModel",
            "_view_count": null,
            "_view_module": "@jupyter-widgets/base",
            "_view_module_version": "1.2.0",
            "_view_name": "StyleView",
            "description_width": ""
          }
        },
        "09d1dd25370e476184687cae21d39b8e": {
          "model_module": "@jupyter-widgets/controls",
          "model_module_version": "1.5.0",
          "model_name": "FloatProgressModel",
          "state": {
            "_dom_classes": [],
            "_model_module": "@jupyter-widgets/controls",
            "_model_module_version": "1.5.0",
            "_model_name": "FloatProgressModel",
            "_view_count": null,
            "_view_module": "@jupyter-widgets/controls",
            "_view_module_version": "1.5.0",
            "_view_name": "ProgressView",
            "bar_style": "success",
            "description": "",
            "description_tooltip": null,
            "layout": "IPY_MODEL_68754f56ef3a4d1f9df7a86980647aec",
            "max": 79,
            "min": 0,
            "orientation": "horizontal",
            "style": "IPY_MODEL_c795725feafb42dd86ad60c739d9c7a0",
            "value": 79
          }
        },
        "0d7ce28b69e54d41b3dcfa90a1613476": {
          "model_module": "@jupyter-widgets/controls",
          "model_module_version": "1.5.0",
          "model_name": "FloatProgressModel",
          "state": {
            "_dom_classes": [],
            "_model_module": "@jupyter-widgets/controls",
            "_model_module_version": "1.5.0",
            "_model_name": "FloatProgressModel",
            "_view_count": null,
            "_view_module": "@jupyter-widgets/controls",
            "_view_module_version": "1.5.0",
            "_view_name": "ProgressView",
            "bar_style": "",
            "description": "",
            "description_tooltip": null,
            "layout": "IPY_MODEL_2142713587324615964bfd65249f4e9c",
            "max": 5,
            "min": 0,
            "orientation": "horizontal",
            "style": "IPY_MODEL_820189d75bc64521a5249457239c68e2",
            "value": 3
          }
        },
        "0f067b7b5487497e9c1669173226c355": {
          "model_module": "@jupyter-widgets/base",
          "model_module_version": "1.2.0",
          "model_name": "LayoutModel",
          "state": {
            "_model_module": "@jupyter-widgets/base",
            "_model_module_version": "1.2.0",
            "_model_name": "LayoutModel",
            "_view_count": null,
            "_view_module": "@jupyter-widgets/base",
            "_view_module_version": "1.2.0",
            "_view_name": "LayoutView",
            "align_content": null,
            "align_items": null,
            "align_self": null,
            "border": null,
            "bottom": null,
            "display": null,
            "flex": null,
            "flex_flow": null,
            "grid_area": null,
            "grid_auto_columns": null,
            "grid_auto_flow": null,
            "grid_auto_rows": null,
            "grid_column": null,
            "grid_gap": null,
            "grid_row": null,
            "grid_template_areas": null,
            "grid_template_columns": null,
            "grid_template_rows": null,
            "height": null,
            "justify_content": null,
            "justify_items": null,
            "left": null,
            "margin": null,
            "max_height": null,
            "max_width": null,
            "min_height": null,
            "min_width": null,
            "object_fit": null,
            "object_position": null,
            "order": null,
            "overflow": null,
            "overflow_x": null,
            "overflow_y": null,
            "padding": null,
            "right": null,
            "top": null,
            "visibility": null,
            "width": null
          }
        },
        "125eccfc4d0041428960ac7356b5bdf1": {
          "model_module": "@jupyter-widgets/base",
          "model_module_version": "1.2.0",
          "model_name": "LayoutModel",
          "state": {
            "_model_module": "@jupyter-widgets/base",
            "_model_module_version": "1.2.0",
            "_model_name": "LayoutModel",
            "_view_count": null,
            "_view_module": "@jupyter-widgets/base",
            "_view_module_version": "1.2.0",
            "_view_name": "LayoutView",
            "align_content": null,
            "align_items": null,
            "align_self": null,
            "border": null,
            "bottom": null,
            "display": null,
            "flex": null,
            "flex_flow": null,
            "grid_area": null,
            "grid_auto_columns": null,
            "grid_auto_flow": null,
            "grid_auto_rows": null,
            "grid_column": null,
            "grid_gap": null,
            "grid_row": null,
            "grid_template_areas": null,
            "grid_template_columns": null,
            "grid_template_rows": null,
            "height": null,
            "justify_content": null,
            "justify_items": null,
            "left": null,
            "margin": null,
            "max_height": null,
            "max_width": null,
            "min_height": null,
            "min_width": null,
            "object_fit": null,
            "object_position": null,
            "order": null,
            "overflow": null,
            "overflow_x": null,
            "overflow_y": null,
            "padding": null,
            "right": null,
            "top": null,
            "visibility": null,
            "width": null
          }
        },
        "13435f5cc32f43c3b61defbe0b5f30b7": {
          "model_module": "@jupyter-widgets/controls",
          "model_module_version": "1.5.0",
          "model_name": "FloatProgressModel",
          "state": {
            "_dom_classes": [],
            "_model_module": "@jupyter-widgets/controls",
            "_model_module_version": "1.5.0",
            "_model_name": "FloatProgressModel",
            "_view_count": null,
            "_view_module": "@jupyter-widgets/controls",
            "_view_module_version": "1.5.0",
            "_view_name": "ProgressView",
            "bar_style": "",
            "description": "",
            "description_tooltip": null,
            "layout": "IPY_MODEL_070cdad56b4a4574b3464c560dcfb028",
            "max": 79,
            "min": 0,
            "orientation": "horizontal",
            "style": "IPY_MODEL_4c955e059b7448c292a41e375941deca",
            "value": 0
          }
        },
        "1678d723a94d48299204b56e5c3132ff": {
          "model_module": "@jupyter-widgets/controls",
          "model_module_version": "1.5.0",
          "model_name": "HBoxModel",
          "state": {
            "_dom_classes": [],
            "_model_module": "@jupyter-widgets/controls",
            "_model_module_version": "1.5.0",
            "_model_name": "HBoxModel",
            "_view_count": null,
            "_view_module": "@jupyter-widgets/controls",
            "_view_module_version": "1.5.0",
            "_view_name": "HBoxView",
            "box_style": "",
            "children": [
              "IPY_MODEL_3996254a4c5d4df69b2d6e4377e1a038",
              "IPY_MODEL_d8c040bc16254c5faf9def297e2e5f24",
              "IPY_MODEL_64b2109b39324c0ab925b91addff2a71"
            ],
            "layout": "IPY_MODEL_e15bb89d801645b49ea96a04848ad69f"
          }
        },
        "1b7e08af493846a1a8080f6c7f4491e1": {
          "model_module": "@jupyter-widgets/controls",
          "model_module_version": "1.5.0",
          "model_name": "ProgressStyleModel",
          "state": {
            "_model_module": "@jupyter-widgets/controls",
            "_model_module_version": "1.5.0",
            "_model_name": "ProgressStyleModel",
            "_view_count": null,
            "_view_module": "@jupyter-widgets/base",
            "_view_module_version": "1.2.0",
            "_view_name": "StyleView",
            "bar_color": null,
            "description_width": ""
          }
        },
        "1d46d706399d484b9ec23ae639209e11": {
          "model_module": "@jupyter-widgets/controls",
          "model_module_version": "1.5.0",
          "model_name": "DescriptionStyleModel",
          "state": {
            "_model_module": "@jupyter-widgets/controls",
            "_model_module_version": "1.5.0",
            "_model_name": "DescriptionStyleModel",
            "_view_count": null,
            "_view_module": "@jupyter-widgets/base",
            "_view_module_version": "1.2.0",
            "_view_name": "StyleView",
            "description_width": ""
          }
        },
        "1e56613d5e3a44cea58d07ffd98af64b": {
          "model_module": "@jupyter-widgets/base",
          "model_module_version": "1.2.0",
          "model_name": "LayoutModel",
          "state": {
            "_model_module": "@jupyter-widgets/base",
            "_model_module_version": "1.2.0",
            "_model_name": "LayoutModel",
            "_view_count": null,
            "_view_module": "@jupyter-widgets/base",
            "_view_module_version": "1.2.0",
            "_view_name": "LayoutView",
            "align_content": null,
            "align_items": null,
            "align_self": null,
            "border": null,
            "bottom": null,
            "display": null,
            "flex": null,
            "flex_flow": null,
            "grid_area": null,
            "grid_auto_columns": null,
            "grid_auto_flow": null,
            "grid_auto_rows": null,
            "grid_column": null,
            "grid_gap": null,
            "grid_row": null,
            "grid_template_areas": null,
            "grid_template_columns": null,
            "grid_template_rows": null,
            "height": null,
            "justify_content": null,
            "justify_items": null,
            "left": null,
            "margin": null,
            "max_height": null,
            "max_width": null,
            "min_height": null,
            "min_width": null,
            "object_fit": null,
            "object_position": null,
            "order": null,
            "overflow": null,
            "overflow_x": null,
            "overflow_y": null,
            "padding": null,
            "right": null,
            "top": null,
            "visibility": null,
            "width": null
          }
        },
        "1f1741f8714347f4bb454aa9bcd8e638": {
          "model_module": "@jupyter-widgets/controls",
          "model_module_version": "1.5.0",
          "model_name": "DescriptionStyleModel",
          "state": {
            "_model_module": "@jupyter-widgets/controls",
            "_model_module_version": "1.5.0",
            "_model_name": "DescriptionStyleModel",
            "_view_count": null,
            "_view_module": "@jupyter-widgets/base",
            "_view_module_version": "1.2.0",
            "_view_name": "StyleView",
            "description_width": ""
          }
        },
        "2142713587324615964bfd65249f4e9c": {
          "model_module": "@jupyter-widgets/base",
          "model_module_version": "1.2.0",
          "model_name": "LayoutModel",
          "state": {
            "_model_module": "@jupyter-widgets/base",
            "_model_module_version": "1.2.0",
            "_model_name": "LayoutModel",
            "_view_count": null,
            "_view_module": "@jupyter-widgets/base",
            "_view_module_version": "1.2.0",
            "_view_name": "LayoutView",
            "align_content": null,
            "align_items": null,
            "align_self": null,
            "border": null,
            "bottom": null,
            "display": null,
            "flex": null,
            "flex_flow": null,
            "grid_area": null,
            "grid_auto_columns": null,
            "grid_auto_flow": null,
            "grid_auto_rows": null,
            "grid_column": null,
            "grid_gap": null,
            "grid_row": null,
            "grid_template_areas": null,
            "grid_template_columns": null,
            "grid_template_rows": null,
            "height": null,
            "justify_content": null,
            "justify_items": null,
            "left": null,
            "margin": null,
            "max_height": null,
            "max_width": null,
            "min_height": null,
            "min_width": null,
            "object_fit": null,
            "object_position": null,
            "order": null,
            "overflow": null,
            "overflow_x": null,
            "overflow_y": null,
            "padding": null,
            "right": null,
            "top": null,
            "visibility": null,
            "width": null
          }
        },
        "2381557a08ca4a8cab33c2a3c4b9b33e": {
          "model_module": "@jupyter-widgets/base",
          "model_module_version": "1.2.0",
          "model_name": "LayoutModel",
          "state": {
            "_model_module": "@jupyter-widgets/base",
            "_model_module_version": "1.2.0",
            "_model_name": "LayoutModel",
            "_view_count": null,
            "_view_module": "@jupyter-widgets/base",
            "_view_module_version": "1.2.0",
            "_view_name": "LayoutView",
            "align_content": null,
            "align_items": null,
            "align_self": null,
            "border": null,
            "bottom": null,
            "display": null,
            "flex": null,
            "flex_flow": null,
            "grid_area": null,
            "grid_auto_columns": null,
            "grid_auto_flow": null,
            "grid_auto_rows": null,
            "grid_column": null,
            "grid_gap": null,
            "grid_row": null,
            "grid_template_areas": null,
            "grid_template_columns": null,
            "grid_template_rows": null,
            "height": null,
            "justify_content": null,
            "justify_items": null,
            "left": null,
            "margin": null,
            "max_height": null,
            "max_width": null,
            "min_height": null,
            "min_width": null,
            "object_fit": null,
            "object_position": null,
            "order": null,
            "overflow": null,
            "overflow_x": null,
            "overflow_y": null,
            "padding": null,
            "right": null,
            "top": null,
            "visibility": null,
            "width": null
          }
        },
        "23eb4cac34b6461a8ba5de82485a029a": {
          "model_module": "@jupyter-widgets/controls",
          "model_module_version": "1.5.0",
          "model_name": "HTMLModel",
          "state": {
            "_dom_classes": [],
            "_model_module": "@jupyter-widgets/controls",
            "_model_module_version": "1.5.0",
            "_model_name": "HTMLModel",
            "_view_count": null,
            "_view_module": "@jupyter-widgets/controls",
            "_view_module_version": "1.5.0",
            "_view_name": "HTMLView",
            "description": "",
            "description_tooltip": null,
            "layout": "IPY_MODEL_9c87b3eff1c14919b933057352156ee9",
            "placeholder": "​",
            "style": "IPY_MODEL_6b07cfd0a126431cb0d1b78f7bafda5d",
            "value": " 79/79 [12:17&lt;00:00,  7.08s/it]"
          }
        },
        "25da24138d7a495b9c1e8c0088d044d9": {
          "model_module": "@jupyter-widgets/controls",
          "model_module_version": "1.5.0",
          "model_name": "HTMLModel",
          "state": {
            "_dom_classes": [],
            "_model_module": "@jupyter-widgets/controls",
            "_model_module_version": "1.5.0",
            "_model_name": "HTMLModel",
            "_view_count": null,
            "_view_module": "@jupyter-widgets/controls",
            "_view_module_version": "1.5.0",
            "_view_name": "HTMLView",
            "description": "",
            "description_tooltip": null,
            "layout": "IPY_MODEL_b0e4d3068bd94bcbab5583d275a1f218",
            "placeholder": "​",
            "style": "IPY_MODEL_d82c392c9d054d2585d74248cd7b41e8",
            "value": "100%"
          }
        },
        "278d93e3979c4c8783ab30924d923752": {
          "model_module": "@jupyter-widgets/controls",
          "model_module_version": "1.5.0",
          "model_name": "ProgressStyleModel",
          "state": {
            "_model_module": "@jupyter-widgets/controls",
            "_model_module_version": "1.5.0",
            "_model_name": "ProgressStyleModel",
            "_view_count": null,
            "_view_module": "@jupyter-widgets/base",
            "_view_module_version": "1.2.0",
            "_view_name": "StyleView",
            "bar_color": null,
            "description_width": ""
          }
        },
        "2a4ec493b6cb43e4b3b2bf334b360429": {
          "model_module": "@jupyter-widgets/base",
          "model_module_version": "1.2.0",
          "model_name": "LayoutModel",
          "state": {
            "_model_module": "@jupyter-widgets/base",
            "_model_module_version": "1.2.0",
            "_model_name": "LayoutModel",
            "_view_count": null,
            "_view_module": "@jupyter-widgets/base",
            "_view_module_version": "1.2.0",
            "_view_name": "LayoutView",
            "align_content": null,
            "align_items": null,
            "align_self": null,
            "border": null,
            "bottom": null,
            "display": null,
            "flex": null,
            "flex_flow": null,
            "grid_area": null,
            "grid_auto_columns": null,
            "grid_auto_flow": null,
            "grid_auto_rows": null,
            "grid_column": null,
            "grid_gap": null,
            "grid_row": null,
            "grid_template_areas": null,
            "grid_template_columns": null,
            "grid_template_rows": null,
            "height": null,
            "justify_content": null,
            "justify_items": null,
            "left": null,
            "margin": null,
            "max_height": null,
            "max_width": null,
            "min_height": null,
            "min_width": null,
            "object_fit": null,
            "object_position": null,
            "order": null,
            "overflow": null,
            "overflow_x": null,
            "overflow_y": null,
            "padding": null,
            "right": null,
            "top": null,
            "visibility": null,
            "width": null
          }
        },
        "2ef6b6dcc7194706918a451103d5bafe": {
          "model_module": "@jupyter-widgets/controls",
          "model_module_version": "1.5.0",
          "model_name": "HBoxModel",
          "state": {
            "_dom_classes": [],
            "_model_module": "@jupyter-widgets/controls",
            "_model_module_version": "1.5.0",
            "_model_name": "HBoxModel",
            "_view_count": null,
            "_view_module": "@jupyter-widgets/controls",
            "_view_module_version": "1.5.0",
            "_view_name": "HBoxView",
            "box_style": "",
            "children": [
              "IPY_MODEL_36954340daf24afc84156d59336f0890",
              "IPY_MODEL_bca09bc03dfd4fc2b9a24c4a1aeb4a39",
              "IPY_MODEL_d47871df2bc14578b5289c8577fdaa2f"
            ],
            "layout": "IPY_MODEL_87f3dc46d1844cef84b9fdd241719804"
          }
        },
        "3084b6c7f4d64aaa8a5bf4444e9351e3": {
          "model_module": "@jupyter-widgets/controls",
          "model_module_version": "1.5.0",
          "model_name": "HTMLModel",
          "state": {
            "_dom_classes": [],
            "_model_module": "@jupyter-widgets/controls",
            "_model_module_version": "1.5.0",
            "_model_name": "HTMLModel",
            "_view_count": null,
            "_view_module": "@jupyter-widgets/controls",
            "_view_module_version": "1.5.0",
            "_view_name": "HTMLView",
            "description": "",
            "description_tooltip": null,
            "layout": "IPY_MODEL_d46cd84434c348f88541c7d81441629e",
            "placeholder": "​",
            "style": "IPY_MODEL_488c7b70f6b24c318fc124e41bf6508e",
            "value": "  0%"
          }
        },
        "31a03c4c24914c4e8e1063cc9a15c659": {
          "model_module": "@jupyter-widgets/base",
          "model_module_version": "1.2.0",
          "model_name": "LayoutModel",
          "state": {
            "_model_module": "@jupyter-widgets/base",
            "_model_module_version": "1.2.0",
            "_model_name": "LayoutModel",
            "_view_count": null,
            "_view_module": "@jupyter-widgets/base",
            "_view_module_version": "1.2.0",
            "_view_name": "LayoutView",
            "align_content": null,
            "align_items": null,
            "align_self": null,
            "border": null,
            "bottom": null,
            "display": null,
            "flex": null,
            "flex_flow": null,
            "grid_area": null,
            "grid_auto_columns": null,
            "grid_auto_flow": null,
            "grid_auto_rows": null,
            "grid_column": null,
            "grid_gap": null,
            "grid_row": null,
            "grid_template_areas": null,
            "grid_template_columns": null,
            "grid_template_rows": null,
            "height": null,
            "justify_content": null,
            "justify_items": null,
            "left": null,
            "margin": null,
            "max_height": null,
            "max_width": null,
            "min_height": null,
            "min_width": null,
            "object_fit": null,
            "object_position": null,
            "order": null,
            "overflow": null,
            "overflow_x": null,
            "overflow_y": null,
            "padding": null,
            "right": null,
            "top": null,
            "visibility": null,
            "width": null
          }
        },
        "355e976c80e04492a66e9061255cc132": {
          "model_module": "@jupyter-widgets/controls",
          "model_module_version": "1.5.0",
          "model_name": "DescriptionStyleModel",
          "state": {
            "_model_module": "@jupyter-widgets/controls",
            "_model_module_version": "1.5.0",
            "_model_name": "DescriptionStyleModel",
            "_view_count": null,
            "_view_module": "@jupyter-widgets/base",
            "_view_module_version": "1.2.0",
            "_view_name": "StyleView",
            "description_width": ""
          }
        },
        "36954340daf24afc84156d59336f0890": {
          "model_module": "@jupyter-widgets/controls",
          "model_module_version": "1.5.0",
          "model_name": "HTMLModel",
          "state": {
            "_dom_classes": [],
            "_model_module": "@jupyter-widgets/controls",
            "_model_module_version": "1.5.0",
            "_model_name": "HTMLModel",
            "_view_count": null,
            "_view_module": "@jupyter-widgets/controls",
            "_view_module_version": "1.5.0",
            "_view_name": "HTMLView",
            "description": "",
            "description_tooltip": null,
            "layout": "IPY_MODEL_e0b399e049c24fec8e5b37e5ffb77dd5",
            "placeholder": "​",
            "style": "IPY_MODEL_9e244ff2eccd4f6081ba127c9a1b4166",
            "value": "100%"
          }
        },
        "37789c4b910b4b4e937b0c71ad7569f4": {
          "model_module": "@jupyter-widgets/controls",
          "model_module_version": "1.5.0",
          "model_name": "ProgressStyleModel",
          "state": {
            "_model_module": "@jupyter-widgets/controls",
            "_model_module_version": "1.5.0",
            "_model_name": "ProgressStyleModel",
            "_view_count": null,
            "_view_module": "@jupyter-widgets/base",
            "_view_module_version": "1.2.0",
            "_view_name": "StyleView",
            "bar_color": null,
            "description_width": ""
          }
        },
        "38f2d9101d6440d799a53a2c83525437": {
          "model_module": "@jupyter-widgets/controls",
          "model_module_version": "1.5.0",
          "model_name": "HBoxModel",
          "state": {
            "_dom_classes": [],
            "_model_module": "@jupyter-widgets/controls",
            "_model_module_version": "1.5.0",
            "_model_name": "HBoxModel",
            "_view_count": null,
            "_view_module": "@jupyter-widgets/controls",
            "_view_module_version": "1.5.0",
            "_view_name": "HBoxView",
            "box_style": "",
            "children": [
              "IPY_MODEL_3084b6c7f4d64aaa8a5bf4444e9351e3",
              "IPY_MODEL_13435f5cc32f43c3b61defbe0b5f30b7",
              "IPY_MODEL_6b2fb6ea805b4a0f81a64f3fe7e45c98"
            ],
            "layout": "IPY_MODEL_9359718318954a9db70b9411425ae91b"
          }
        },
        "3996254a4c5d4df69b2d6e4377e1a038": {
          "model_module": "@jupyter-widgets/controls",
          "model_module_version": "1.5.0",
          "model_name": "HTMLModel",
          "state": {
            "_dom_classes": [],
            "_model_module": "@jupyter-widgets/controls",
            "_model_module_version": "1.5.0",
            "_model_name": "HTMLModel",
            "_view_count": null,
            "_view_module": "@jupyter-widgets/controls",
            "_view_module_version": "1.5.0",
            "_view_name": "HTMLView",
            "description": "",
            "description_tooltip": null,
            "layout": "IPY_MODEL_b78c1d2b7f2a464cba9d808d3df16df2",
            "placeholder": "​",
            "style": "IPY_MODEL_a246f8b3ceb34dc783c24acb556c84fb",
            "value": "100%"
          }
        },
        "3abf68fe0d3249709781d9f44edd1d92": {
          "model_module": "@jupyter-widgets/controls",
          "model_module_version": "1.5.0",
          "model_name": "HTMLModel",
          "state": {
            "_dom_classes": [],
            "_model_module": "@jupyter-widgets/controls",
            "_model_module_version": "1.5.0",
            "_model_name": "HTMLModel",
            "_view_count": null,
            "_view_module": "@jupyter-widgets/controls",
            "_view_module_version": "1.5.0",
            "_view_name": "HTMLView",
            "description": "",
            "description_tooltip": null,
            "layout": "IPY_MODEL_0f067b7b5487497e9c1669173226c355",
            "placeholder": "​",
            "style": "IPY_MODEL_667a9adf559a4e08aff4f08bd82ab2f1",
            "value": "100%"
          }
        },
        "3bfa8fca0a3c422082b7451234a4291e": {
          "model_module": "@jupyter-widgets/controls",
          "model_module_version": "1.5.0",
          "model_name": "DescriptionStyleModel",
          "state": {
            "_model_module": "@jupyter-widgets/controls",
            "_model_module_version": "1.5.0",
            "_model_name": "DescriptionStyleModel",
            "_view_count": null,
            "_view_module": "@jupyter-widgets/base",
            "_view_module_version": "1.2.0",
            "_view_name": "StyleView",
            "description_width": ""
          }
        },
        "3d56ada310f34e02b8ab6d3937bd864a": {
          "model_module": "@jupyter-widgets/controls",
          "model_module_version": "1.5.0",
          "model_name": "FloatProgressModel",
          "state": {
            "_dom_classes": [],
            "_model_module": "@jupyter-widgets/controls",
            "_model_module_version": "1.5.0",
            "_model_name": "FloatProgressModel",
            "_view_count": null,
            "_view_module": "@jupyter-widgets/controls",
            "_view_module_version": "1.5.0",
            "_view_name": "ProgressView",
            "bar_style": "success",
            "description": "",
            "description_tooltip": null,
            "layout": "IPY_MODEL_c3796d4983a5435ba7e6e73d5ebac050",
            "max": 5,
            "min": 0,
            "orientation": "horizontal",
            "style": "IPY_MODEL_1b7e08af493846a1a8080f6c7f4491e1",
            "value": 5
          }
        },
        "3e801d9babf54ddab89c04eb7ba40ab0": {
          "model_module": "@jupyter-widgets/base",
          "model_module_version": "1.2.0",
          "model_name": "LayoutModel",
          "state": {
            "_model_module": "@jupyter-widgets/base",
            "_model_module_version": "1.2.0",
            "_model_name": "LayoutModel",
            "_view_count": null,
            "_view_module": "@jupyter-widgets/base",
            "_view_module_version": "1.2.0",
            "_view_name": "LayoutView",
            "align_content": null,
            "align_items": null,
            "align_self": null,
            "border": null,
            "bottom": null,
            "display": null,
            "flex": null,
            "flex_flow": null,
            "grid_area": null,
            "grid_auto_columns": null,
            "grid_auto_flow": null,
            "grid_auto_rows": null,
            "grid_column": null,
            "grid_gap": null,
            "grid_row": null,
            "grid_template_areas": null,
            "grid_template_columns": null,
            "grid_template_rows": null,
            "height": null,
            "justify_content": null,
            "justify_items": null,
            "left": null,
            "margin": null,
            "max_height": null,
            "max_width": null,
            "min_height": null,
            "min_width": null,
            "object_fit": null,
            "object_position": null,
            "order": null,
            "overflow": null,
            "overflow_x": null,
            "overflow_y": null,
            "padding": null,
            "right": null,
            "top": null,
            "visibility": null,
            "width": null
          }
        },
        "40b516eab20e46099e69a6d9204c490d": {
          "model_module": "@jupyter-widgets/controls",
          "model_module_version": "1.5.0",
          "model_name": "HTMLModel",
          "state": {
            "_dom_classes": [],
            "_model_module": "@jupyter-widgets/controls",
            "_model_module_version": "1.5.0",
            "_model_name": "HTMLModel",
            "_view_count": null,
            "_view_module": "@jupyter-widgets/controls",
            "_view_module_version": "1.5.0",
            "_view_name": "HTMLView",
            "description": "",
            "description_tooltip": null,
            "layout": "IPY_MODEL_a5d99e0ad7c14cea98d4552bb5387f4f",
            "placeholder": "​",
            "style": "IPY_MODEL_bae7d7e636a64145ae3091b93a330a0c",
            "value": " 79/79 [12:20&lt;00:00,  8.07s/it]"
          }
        },
        "44b46e76600b440e9c1fd9957486bdc8": {
          "model_module": "@jupyter-widgets/controls",
          "model_module_version": "1.5.0",
          "model_name": "HTMLModel",
          "state": {
            "_dom_classes": [],
            "_model_module": "@jupyter-widgets/controls",
            "_model_module_version": "1.5.0",
            "_model_name": "HTMLModel",
            "_view_count": null,
            "_view_module": "@jupyter-widgets/controls",
            "_view_module_version": "1.5.0",
            "_view_name": "HTMLView",
            "description": "",
            "description_tooltip": null,
            "layout": "IPY_MODEL_f851d7e16ac547478c984a933ccba92c",
            "placeholder": "​",
            "style": "IPY_MODEL_b362bb321bb24565805c2248540d860e",
            "value": "100%"
          }
        },
        "44cb95a01d434b3e9750b506b8fe1f86": {
          "model_module": "@jupyter-widgets/controls",
          "model_module_version": "1.5.0",
          "model_name": "HTMLModel",
          "state": {
            "_dom_classes": [],
            "_model_module": "@jupyter-widgets/controls",
            "_model_module_version": "1.5.0",
            "_model_name": "HTMLModel",
            "_view_count": null,
            "_view_module": "@jupyter-widgets/controls",
            "_view_module_version": "1.5.0",
            "_view_name": "HTMLView",
            "description": "",
            "description_tooltip": null,
            "layout": "IPY_MODEL_9ef643fd19844c2591a66c1359090e0e",
            "placeholder": "​",
            "style": "IPY_MODEL_07778699f8594b068e5eb9a35a41d687",
            "value": " 3/5 [1:29:08&lt;58:43, 1761.61s/it]"
          }
        },
        "44ecff57fb7541d98499f52508140e0d": {
          "model_module": "@jupyter-widgets/controls",
          "model_module_version": "1.5.0",
          "model_name": "FloatProgressModel",
          "state": {
            "_dom_classes": [],
            "_model_module": "@jupyter-widgets/controls",
            "_model_module_version": "1.5.0",
            "_model_name": "FloatProgressModel",
            "_view_count": null,
            "_view_module": "@jupyter-widgets/controls",
            "_view_module_version": "1.5.0",
            "_view_name": "ProgressView",
            "bar_style": "success",
            "description": "",
            "description_tooltip": null,
            "layout": "IPY_MODEL_970e2e8fd6694fa2a7e8a3c1b0ad766d",
            "max": 79,
            "min": 0,
            "orientation": "horizontal",
            "style": "IPY_MODEL_e9b62c3fa8bf4a85865bf1f20f31c72c",
            "value": 79
          }
        },
        "467764eb82f44974ac0275fb3ea994d2": {
          "model_module": "@jupyter-widgets/controls",
          "model_module_version": "1.5.0",
          "model_name": "HTMLModel",
          "state": {
            "_dom_classes": [],
            "_model_module": "@jupyter-widgets/controls",
            "_model_module_version": "1.5.0",
            "_model_name": "HTMLModel",
            "_view_count": null,
            "_view_module": "@jupyter-widgets/controls",
            "_view_module_version": "1.5.0",
            "_view_name": "HTMLView",
            "description": "",
            "description_tooltip": null,
            "layout": "IPY_MODEL_ba10b81c6015468e9c6d50258ce8117d",
            "placeholder": "​",
            "style": "IPY_MODEL_1f1741f8714347f4bb454aa9bcd8e638",
            "value": "100%"
          }
        },
        "488c7b70f6b24c318fc124e41bf6508e": {
          "model_module": "@jupyter-widgets/controls",
          "model_module_version": "1.5.0",
          "model_name": "DescriptionStyleModel",
          "state": {
            "_model_module": "@jupyter-widgets/controls",
            "_model_module_version": "1.5.0",
            "_model_name": "DescriptionStyleModel",
            "_view_count": null,
            "_view_module": "@jupyter-widgets/base",
            "_view_module_version": "1.2.0",
            "_view_name": "StyleView",
            "description_width": ""
          }
        },
        "4c955e059b7448c292a41e375941deca": {
          "model_module": "@jupyter-widgets/controls",
          "model_module_version": "1.5.0",
          "model_name": "ProgressStyleModel",
          "state": {
            "_model_module": "@jupyter-widgets/controls",
            "_model_module_version": "1.5.0",
            "_model_name": "ProgressStyleModel",
            "_view_count": null,
            "_view_module": "@jupyter-widgets/base",
            "_view_module_version": "1.2.0",
            "_view_name": "StyleView",
            "bar_color": null,
            "description_width": ""
          }
        },
        "4f412c57fa024219ba2045cb665b2b93": {
          "model_module": "@jupyter-widgets/base",
          "model_module_version": "1.2.0",
          "model_name": "LayoutModel",
          "state": {
            "_model_module": "@jupyter-widgets/base",
            "_model_module_version": "1.2.0",
            "_model_name": "LayoutModel",
            "_view_count": null,
            "_view_module": "@jupyter-widgets/base",
            "_view_module_version": "1.2.0",
            "_view_name": "LayoutView",
            "align_content": null,
            "align_items": null,
            "align_self": null,
            "border": null,
            "bottom": null,
            "display": null,
            "flex": null,
            "flex_flow": null,
            "grid_area": null,
            "grid_auto_columns": null,
            "grid_auto_flow": null,
            "grid_auto_rows": null,
            "grid_column": null,
            "grid_gap": null,
            "grid_row": null,
            "grid_template_areas": null,
            "grid_template_columns": null,
            "grid_template_rows": null,
            "height": null,
            "justify_content": null,
            "justify_items": null,
            "left": null,
            "margin": null,
            "max_height": null,
            "max_width": null,
            "min_height": null,
            "min_width": null,
            "object_fit": null,
            "object_position": null,
            "order": null,
            "overflow": null,
            "overflow_x": null,
            "overflow_y": null,
            "padding": null,
            "right": null,
            "top": null,
            "visibility": null,
            "width": null
          }
        },
        "50cb214642e2402581fbf1f8a0faedf1": {
          "model_module": "@jupyter-widgets/controls",
          "model_module_version": "1.5.0",
          "model_name": "HBoxModel",
          "state": {
            "_dom_classes": [],
            "_model_module": "@jupyter-widgets/controls",
            "_model_module_version": "1.5.0",
            "_model_name": "HBoxModel",
            "_view_count": null,
            "_view_module": "@jupyter-widgets/controls",
            "_view_module_version": "1.5.0",
            "_view_name": "HBoxView",
            "box_style": "",
            "children": [
              "IPY_MODEL_f2b34f514d6c45cf9b53eeb0f1c268bd",
              "IPY_MODEL_44ecff57fb7541d98499f52508140e0d",
              "IPY_MODEL_d2834b806cc14e8685effe3b8292971c"
            ],
            "layout": "IPY_MODEL_f67dcbef959d4cadb91a9d1419b8f32f"
          }
        },
        "5628f42f431245d2bf17e1c1782860c4": {
          "model_module": "@jupyter-widgets/controls",
          "model_module_version": "1.5.0",
          "model_name": "DescriptionStyleModel",
          "state": {
            "_model_module": "@jupyter-widgets/controls",
            "_model_module_version": "1.5.0",
            "_model_name": "DescriptionStyleModel",
            "_view_count": null,
            "_view_module": "@jupyter-widgets/base",
            "_view_module_version": "1.2.0",
            "_view_name": "StyleView",
            "description_width": ""
          }
        },
        "5bd4e266e6ab4d309f4d9e7cdbb6243a": {
          "model_module": "@jupyter-widgets/controls",
          "model_module_version": "1.5.0",
          "model_name": "DescriptionStyleModel",
          "state": {
            "_model_module": "@jupyter-widgets/controls",
            "_model_module_version": "1.5.0",
            "_model_name": "DescriptionStyleModel",
            "_view_count": null,
            "_view_module": "@jupyter-widgets/base",
            "_view_module_version": "1.2.0",
            "_view_name": "StyleView",
            "description_width": ""
          }
        },
        "5c306febdd5344b582a54deae1be9fb9": {
          "model_module": "@jupyter-widgets/controls",
          "model_module_version": "1.5.0",
          "model_name": "HTMLModel",
          "state": {
            "_dom_classes": [],
            "_model_module": "@jupyter-widgets/controls",
            "_model_module_version": "1.5.0",
            "_model_name": "HTMLModel",
            "_view_count": null,
            "_view_module": "@jupyter-widgets/controls",
            "_view_module_version": "1.5.0",
            "_view_name": "HTMLView",
            "description": "",
            "description_tooltip": null,
            "layout": "IPY_MODEL_e1e0a07d8acc4c7b98c884503c01dec1",
            "placeholder": "​",
            "style": "IPY_MODEL_5628f42f431245d2bf17e1c1782860c4",
            "value": " 5/5 [1:02:15&lt;00:00, 746.82s/it]"
          }
        },
        "64b2109b39324c0ab925b91addff2a71": {
          "model_module": "@jupyter-widgets/controls",
          "model_module_version": "1.5.0",
          "model_name": "HTMLModel",
          "state": {
            "_dom_classes": [],
            "_model_module": "@jupyter-widgets/controls",
            "_model_module_version": "1.5.0",
            "_model_name": "HTMLModel",
            "_view_count": null,
            "_view_module": "@jupyter-widgets/controls",
            "_view_module_version": "1.5.0",
            "_view_name": "HTMLView",
            "description": "",
            "description_tooltip": null,
            "layout": "IPY_MODEL_6a5d4b5ba0dd49ab8d2001d668efe8ae",
            "placeholder": "​",
            "style": "IPY_MODEL_355e976c80e04492a66e9061255cc132",
            "value": " 79/79 [12:43&lt;00:00,  7.42s/it]"
          }
        },
        "64c49ef2f8684a2a933da28be81e4926": {
          "model_module": "@jupyter-widgets/controls",
          "model_module_version": "1.5.0",
          "model_name": "ProgressStyleModel",
          "state": {
            "_model_module": "@jupyter-widgets/controls",
            "_model_module_version": "1.5.0",
            "_model_name": "ProgressStyleModel",
            "_view_count": null,
            "_view_module": "@jupyter-widgets/base",
            "_view_module_version": "1.2.0",
            "_view_name": "StyleView",
            "bar_color": null,
            "description_width": ""
          }
        },
        "667a9adf559a4e08aff4f08bd82ab2f1": {
          "model_module": "@jupyter-widgets/controls",
          "model_module_version": "1.5.0",
          "model_name": "DescriptionStyleModel",
          "state": {
            "_model_module": "@jupyter-widgets/controls",
            "_model_module_version": "1.5.0",
            "_model_name": "DescriptionStyleModel",
            "_view_count": null,
            "_view_module": "@jupyter-widgets/base",
            "_view_module_version": "1.2.0",
            "_view_name": "StyleView",
            "description_width": ""
          }
        },
        "68754f56ef3a4d1f9df7a86980647aec": {
          "model_module": "@jupyter-widgets/base",
          "model_module_version": "1.2.0",
          "model_name": "LayoutModel",
          "state": {
            "_model_module": "@jupyter-widgets/base",
            "_model_module_version": "1.2.0",
            "_model_name": "LayoutModel",
            "_view_count": null,
            "_view_module": "@jupyter-widgets/base",
            "_view_module_version": "1.2.0",
            "_view_name": "LayoutView",
            "align_content": null,
            "align_items": null,
            "align_self": null,
            "border": null,
            "bottom": null,
            "display": null,
            "flex": null,
            "flex_flow": null,
            "grid_area": null,
            "grid_auto_columns": null,
            "grid_auto_flow": null,
            "grid_auto_rows": null,
            "grid_column": null,
            "grid_gap": null,
            "grid_row": null,
            "grid_template_areas": null,
            "grid_template_columns": null,
            "grid_template_rows": null,
            "height": null,
            "justify_content": null,
            "justify_items": null,
            "left": null,
            "margin": null,
            "max_height": null,
            "max_width": null,
            "min_height": null,
            "min_width": null,
            "object_fit": null,
            "object_position": null,
            "order": null,
            "overflow": null,
            "overflow_x": null,
            "overflow_y": null,
            "padding": null,
            "right": null,
            "top": null,
            "visibility": null,
            "width": null
          }
        },
        "6a5d4b5ba0dd49ab8d2001d668efe8ae": {
          "model_module": "@jupyter-widgets/base",
          "model_module_version": "1.2.0",
          "model_name": "LayoutModel",
          "state": {
            "_model_module": "@jupyter-widgets/base",
            "_model_module_version": "1.2.0",
            "_model_name": "LayoutModel",
            "_view_count": null,
            "_view_module": "@jupyter-widgets/base",
            "_view_module_version": "1.2.0",
            "_view_name": "LayoutView",
            "align_content": null,
            "align_items": null,
            "align_self": null,
            "border": null,
            "bottom": null,
            "display": null,
            "flex": null,
            "flex_flow": null,
            "grid_area": null,
            "grid_auto_columns": null,
            "grid_auto_flow": null,
            "grid_auto_rows": null,
            "grid_column": null,
            "grid_gap": null,
            "grid_row": null,
            "grid_template_areas": null,
            "grid_template_columns": null,
            "grid_template_rows": null,
            "height": null,
            "justify_content": null,
            "justify_items": null,
            "left": null,
            "margin": null,
            "max_height": null,
            "max_width": null,
            "min_height": null,
            "min_width": null,
            "object_fit": null,
            "object_position": null,
            "order": null,
            "overflow": null,
            "overflow_x": null,
            "overflow_y": null,
            "padding": null,
            "right": null,
            "top": null,
            "visibility": null,
            "width": null
          }
        },
        "6b07cfd0a126431cb0d1b78f7bafda5d": {
          "model_module": "@jupyter-widgets/controls",
          "model_module_version": "1.5.0",
          "model_name": "DescriptionStyleModel",
          "state": {
            "_model_module": "@jupyter-widgets/controls",
            "_model_module_version": "1.5.0",
            "_model_name": "DescriptionStyleModel",
            "_view_count": null,
            "_view_module": "@jupyter-widgets/base",
            "_view_module_version": "1.2.0",
            "_view_name": "StyleView",
            "description_width": ""
          }
        },
        "6b2fb6ea805b4a0f81a64f3fe7e45c98": {
          "model_module": "@jupyter-widgets/controls",
          "model_module_version": "1.5.0",
          "model_name": "HTMLModel",
          "state": {
            "_dom_classes": [],
            "_model_module": "@jupyter-widgets/controls",
            "_model_module_version": "1.5.0",
            "_model_name": "HTMLModel",
            "_view_count": null,
            "_view_module": "@jupyter-widgets/controls",
            "_view_module_version": "1.5.0",
            "_view_name": "HTMLView",
            "description": "",
            "description_tooltip": null,
            "layout": "IPY_MODEL_1e56613d5e3a44cea58d07ffd98af64b",
            "placeholder": "​",
            "style": "IPY_MODEL_5bd4e266e6ab4d309f4d9e7cdbb6243a",
            "value": " 0/79 [00:00&lt;?, ?it/s]"
          }
        },
        "6d0e15a8fb6a44ffad74ac6d9a8a5000": {
          "model_module": "@jupyter-widgets/controls",
          "model_module_version": "1.5.0",
          "model_name": "HTMLModel",
          "state": {
            "_dom_classes": [],
            "_model_module": "@jupyter-widgets/controls",
            "_model_module_version": "1.5.0",
            "_model_name": "HTMLModel",
            "_view_count": null,
            "_view_module": "@jupyter-widgets/controls",
            "_view_module_version": "1.5.0",
            "_view_name": "HTMLView",
            "description": "",
            "description_tooltip": null,
            "layout": "IPY_MODEL_9dd54bbadd8a42bbbbe852d2e8e37807",
            "placeholder": "​",
            "style": "IPY_MODEL_b8fa2132dcbd4a9bbe219ab32aee238f",
            "value": " 79/79 [30:31&lt;00:00, 18.96s/it]"
          }
        },
        "6e9757a9aa09478085b76bd73702e352": {
          "model_module": "@jupyter-widgets/controls",
          "model_module_version": "1.5.0",
          "model_name": "DescriptionStyleModel",
          "state": {
            "_model_module": "@jupyter-widgets/controls",
            "_model_module_version": "1.5.0",
            "_model_name": "DescriptionStyleModel",
            "_view_count": null,
            "_view_module": "@jupyter-widgets/base",
            "_view_module_version": "1.2.0",
            "_view_name": "StyleView",
            "description_width": ""
          }
        },
        "7244bbafcf6e45fbb3ca021a72b05541": {
          "model_module": "@jupyter-widgets/controls",
          "model_module_version": "1.5.0",
          "model_name": "ProgressStyleModel",
          "state": {
            "_model_module": "@jupyter-widgets/controls",
            "_model_module_version": "1.5.0",
            "_model_name": "ProgressStyleModel",
            "_view_count": null,
            "_view_module": "@jupyter-widgets/base",
            "_view_module_version": "1.2.0",
            "_view_name": "StyleView",
            "bar_color": null,
            "description_width": ""
          }
        },
        "726d3cc2806141acaa380e21117d04d0": {
          "model_module": "@jupyter-widgets/controls",
          "model_module_version": "1.5.0",
          "model_name": "FloatProgressModel",
          "state": {
            "_dom_classes": [],
            "_model_module": "@jupyter-widgets/controls",
            "_model_module_version": "1.5.0",
            "_model_name": "FloatProgressModel",
            "_view_count": null,
            "_view_module": "@jupyter-widgets/controls",
            "_view_module_version": "1.5.0",
            "_view_name": "ProgressView",
            "bar_style": "success",
            "description": "",
            "description_tooltip": null,
            "layout": "IPY_MODEL_77ad9dad250a4ef0b9b01dcfe220d5f5",
            "max": 79,
            "min": 0,
            "orientation": "horizontal",
            "style": "IPY_MODEL_7244bbafcf6e45fbb3ca021a72b05541",
            "value": 79
          }
        },
        "77ad9dad250a4ef0b9b01dcfe220d5f5": {
          "model_module": "@jupyter-widgets/base",
          "model_module_version": "1.2.0",
          "model_name": "LayoutModel",
          "state": {
            "_model_module": "@jupyter-widgets/base",
            "_model_module_version": "1.2.0",
            "_model_name": "LayoutModel",
            "_view_count": null,
            "_view_module": "@jupyter-widgets/base",
            "_view_module_version": "1.2.0",
            "_view_name": "LayoutView",
            "align_content": null,
            "align_items": null,
            "align_self": null,
            "border": null,
            "bottom": null,
            "display": null,
            "flex": null,
            "flex_flow": null,
            "grid_area": null,
            "grid_auto_columns": null,
            "grid_auto_flow": null,
            "grid_auto_rows": null,
            "grid_column": null,
            "grid_gap": null,
            "grid_row": null,
            "grid_template_areas": null,
            "grid_template_columns": null,
            "grid_template_rows": null,
            "height": null,
            "justify_content": null,
            "justify_items": null,
            "left": null,
            "margin": null,
            "max_height": null,
            "max_width": null,
            "min_height": null,
            "min_width": null,
            "object_fit": null,
            "object_position": null,
            "order": null,
            "overflow": null,
            "overflow_x": null,
            "overflow_y": null,
            "padding": null,
            "right": null,
            "top": null,
            "visibility": null,
            "width": null
          }
        },
        "795bd78c12b94c91a33eccf059547c63": {
          "model_module": "@jupyter-widgets/controls",
          "model_module_version": "1.5.0",
          "model_name": "DescriptionStyleModel",
          "state": {
            "_model_module": "@jupyter-widgets/controls",
            "_model_module_version": "1.5.0",
            "_model_name": "DescriptionStyleModel",
            "_view_count": null,
            "_view_module": "@jupyter-widgets/base",
            "_view_module_version": "1.2.0",
            "_view_name": "StyleView",
            "description_width": ""
          }
        },
        "7aa3b16622db40fb8eed1e7289903c37": {
          "model_module": "@jupyter-widgets/base",
          "model_module_version": "1.2.0",
          "model_name": "LayoutModel",
          "state": {
            "_model_module": "@jupyter-widgets/base",
            "_model_module_version": "1.2.0",
            "_model_name": "LayoutModel",
            "_view_count": null,
            "_view_module": "@jupyter-widgets/base",
            "_view_module_version": "1.2.0",
            "_view_name": "LayoutView",
            "align_content": null,
            "align_items": null,
            "align_self": null,
            "border": null,
            "bottom": null,
            "display": null,
            "flex": null,
            "flex_flow": null,
            "grid_area": null,
            "grid_auto_columns": null,
            "grid_auto_flow": null,
            "grid_auto_rows": null,
            "grid_column": null,
            "grid_gap": null,
            "grid_row": null,
            "grid_template_areas": null,
            "grid_template_columns": null,
            "grid_template_rows": null,
            "height": null,
            "justify_content": null,
            "justify_items": null,
            "left": null,
            "margin": null,
            "max_height": null,
            "max_width": null,
            "min_height": null,
            "min_width": null,
            "object_fit": null,
            "object_position": null,
            "order": null,
            "overflow": null,
            "overflow_x": null,
            "overflow_y": null,
            "padding": null,
            "right": null,
            "top": null,
            "visibility": null,
            "width": null
          }
        },
        "820189d75bc64521a5249457239c68e2": {
          "model_module": "@jupyter-widgets/controls",
          "model_module_version": "1.5.0",
          "model_name": "ProgressStyleModel",
          "state": {
            "_model_module": "@jupyter-widgets/controls",
            "_model_module_version": "1.5.0",
            "_model_name": "ProgressStyleModel",
            "_view_count": null,
            "_view_module": "@jupyter-widgets/base",
            "_view_module_version": "1.2.0",
            "_view_name": "StyleView",
            "bar_color": null,
            "description_width": ""
          }
        },
        "87f3dc46d1844cef84b9fdd241719804": {
          "model_module": "@jupyter-widgets/base",
          "model_module_version": "1.2.0",
          "model_name": "LayoutModel",
          "state": {
            "_model_module": "@jupyter-widgets/base",
            "_model_module_version": "1.2.0",
            "_model_name": "LayoutModel",
            "_view_count": null,
            "_view_module": "@jupyter-widgets/base",
            "_view_module_version": "1.2.0",
            "_view_name": "LayoutView",
            "align_content": null,
            "align_items": null,
            "align_self": null,
            "border": null,
            "bottom": null,
            "display": null,
            "flex": null,
            "flex_flow": null,
            "grid_area": null,
            "grid_auto_columns": null,
            "grid_auto_flow": null,
            "grid_auto_rows": null,
            "grid_column": null,
            "grid_gap": null,
            "grid_row": null,
            "grid_template_areas": null,
            "grid_template_columns": null,
            "grid_template_rows": null,
            "height": null,
            "justify_content": null,
            "justify_items": null,
            "left": null,
            "margin": null,
            "max_height": null,
            "max_width": null,
            "min_height": null,
            "min_width": null,
            "object_fit": null,
            "object_position": null,
            "order": null,
            "overflow": null,
            "overflow_x": null,
            "overflow_y": null,
            "padding": null,
            "right": null,
            "top": null,
            "visibility": null,
            "width": null
          }
        },
        "8a1ab816183440e8808bc38e43b0b730": {
          "model_module": "@jupyter-widgets/base",
          "model_module_version": "1.2.0",
          "model_name": "LayoutModel",
          "state": {
            "_model_module": "@jupyter-widgets/base",
            "_model_module_version": "1.2.0",
            "_model_name": "LayoutModel",
            "_view_count": null,
            "_view_module": "@jupyter-widgets/base",
            "_view_module_version": "1.2.0",
            "_view_name": "LayoutView",
            "align_content": null,
            "align_items": null,
            "align_self": null,
            "border": null,
            "bottom": null,
            "display": null,
            "flex": null,
            "flex_flow": null,
            "grid_area": null,
            "grid_auto_columns": null,
            "grid_auto_flow": null,
            "grid_auto_rows": null,
            "grid_column": null,
            "grid_gap": null,
            "grid_row": null,
            "grid_template_areas": null,
            "grid_template_columns": null,
            "grid_template_rows": null,
            "height": null,
            "justify_content": null,
            "justify_items": null,
            "left": null,
            "margin": null,
            "max_height": null,
            "max_width": null,
            "min_height": null,
            "min_width": null,
            "object_fit": null,
            "object_position": null,
            "order": null,
            "overflow": null,
            "overflow_x": null,
            "overflow_y": null,
            "padding": null,
            "right": null,
            "top": null,
            "visibility": null,
            "width": null
          }
        },
        "8ada89f52e3a41e096adf40aa2f09f13": {
          "model_module": "@jupyter-widgets/controls",
          "model_module_version": "1.5.0",
          "model_name": "DescriptionStyleModel",
          "state": {
            "_model_module": "@jupyter-widgets/controls",
            "_model_module_version": "1.5.0",
            "_model_name": "DescriptionStyleModel",
            "_view_count": null,
            "_view_module": "@jupyter-widgets/base",
            "_view_module_version": "1.2.0",
            "_view_name": "StyleView",
            "description_width": ""
          }
        },
        "8fc8457b35d94bf68d5a23ffc4a8cd72": {
          "model_module": "@jupyter-widgets/controls",
          "model_module_version": "1.5.0",
          "model_name": "FloatProgressModel",
          "state": {
            "_dom_classes": [],
            "_model_module": "@jupyter-widgets/controls",
            "_model_module_version": "1.5.0",
            "_model_name": "FloatProgressModel",
            "_view_count": null,
            "_view_module": "@jupyter-widgets/controls",
            "_view_module_version": "1.5.0",
            "_view_name": "ProgressView",
            "bar_style": "success",
            "description": "",
            "description_tooltip": null,
            "layout": "IPY_MODEL_d295b64d09794e49834d41814bad6a37",
            "max": 79,
            "min": 0,
            "orientation": "horizontal",
            "style": "IPY_MODEL_37789c4b910b4b4e937b0c71ad7569f4",
            "value": 79
          }
        },
        "9359718318954a9db70b9411425ae91b": {
          "model_module": "@jupyter-widgets/base",
          "model_module_version": "1.2.0",
          "model_name": "LayoutModel",
          "state": {
            "_model_module": "@jupyter-widgets/base",
            "_model_module_version": "1.2.0",
            "_model_name": "LayoutModel",
            "_view_count": null,
            "_view_module": "@jupyter-widgets/base",
            "_view_module_version": "1.2.0",
            "_view_name": "LayoutView",
            "align_content": null,
            "align_items": null,
            "align_self": null,
            "border": null,
            "bottom": null,
            "display": null,
            "flex": null,
            "flex_flow": null,
            "grid_area": null,
            "grid_auto_columns": null,
            "grid_auto_flow": null,
            "grid_auto_rows": null,
            "grid_column": null,
            "grid_gap": null,
            "grid_row": null,
            "grid_template_areas": null,
            "grid_template_columns": null,
            "grid_template_rows": null,
            "height": null,
            "justify_content": null,
            "justify_items": null,
            "left": null,
            "margin": null,
            "max_height": null,
            "max_width": null,
            "min_height": null,
            "min_width": null,
            "object_fit": null,
            "object_position": null,
            "order": null,
            "overflow": null,
            "overflow_x": null,
            "overflow_y": null,
            "padding": null,
            "right": null,
            "top": null,
            "visibility": null,
            "width": null
          }
        },
        "94a716363301402e874af8b22626d3c4": {
          "model_module": "@jupyter-widgets/base",
          "model_module_version": "1.2.0",
          "model_name": "LayoutModel",
          "state": {
            "_model_module": "@jupyter-widgets/base",
            "_model_module_version": "1.2.0",
            "_model_name": "LayoutModel",
            "_view_count": null,
            "_view_module": "@jupyter-widgets/base",
            "_view_module_version": "1.2.0",
            "_view_name": "LayoutView",
            "align_content": null,
            "align_items": null,
            "align_self": null,
            "border": null,
            "bottom": null,
            "display": null,
            "flex": null,
            "flex_flow": null,
            "grid_area": null,
            "grid_auto_columns": null,
            "grid_auto_flow": null,
            "grid_auto_rows": null,
            "grid_column": null,
            "grid_gap": null,
            "grid_row": null,
            "grid_template_areas": null,
            "grid_template_columns": null,
            "grid_template_rows": null,
            "height": null,
            "justify_content": null,
            "justify_items": null,
            "left": null,
            "margin": null,
            "max_height": null,
            "max_width": null,
            "min_height": null,
            "min_width": null,
            "object_fit": null,
            "object_position": null,
            "order": null,
            "overflow": null,
            "overflow_x": null,
            "overflow_y": null,
            "padding": null,
            "right": null,
            "top": null,
            "visibility": null,
            "width": null
          }
        },
        "95b5bed4262c4be081cc731c610a8f67": {
          "model_module": "@jupyter-widgets/controls",
          "model_module_version": "1.5.0",
          "model_name": "FloatProgressModel",
          "state": {
            "_dom_classes": [],
            "_model_module": "@jupyter-widgets/controls",
            "_model_module_version": "1.5.0",
            "_model_name": "FloatProgressModel",
            "_view_count": null,
            "_view_module": "@jupyter-widgets/controls",
            "_view_module_version": "1.5.0",
            "_view_name": "ProgressView",
            "bar_style": "success",
            "description": "",
            "description_tooltip": null,
            "layout": "IPY_MODEL_125eccfc4d0041428960ac7356b5bdf1",
            "max": 79,
            "min": 0,
            "orientation": "horizontal",
            "style": "IPY_MODEL_c6f8e9bed2474a919184301692a4fdeb",
            "value": 79
          }
        },
        "970e2e8fd6694fa2a7e8a3c1b0ad766d": {
          "model_module": "@jupyter-widgets/base",
          "model_module_version": "1.2.0",
          "model_name": "LayoutModel",
          "state": {
            "_model_module": "@jupyter-widgets/base",
            "_model_module_version": "1.2.0",
            "_model_name": "LayoutModel",
            "_view_count": null,
            "_view_module": "@jupyter-widgets/base",
            "_view_module_version": "1.2.0",
            "_view_name": "LayoutView",
            "align_content": null,
            "align_items": null,
            "align_self": null,
            "border": null,
            "bottom": null,
            "display": null,
            "flex": null,
            "flex_flow": null,
            "grid_area": null,
            "grid_auto_columns": null,
            "grid_auto_flow": null,
            "grid_auto_rows": null,
            "grid_column": null,
            "grid_gap": null,
            "grid_row": null,
            "grid_template_areas": null,
            "grid_template_columns": null,
            "grid_template_rows": null,
            "height": null,
            "justify_content": null,
            "justify_items": null,
            "left": null,
            "margin": null,
            "max_height": null,
            "max_width": null,
            "min_height": null,
            "min_width": null,
            "object_fit": null,
            "object_position": null,
            "order": null,
            "overflow": null,
            "overflow_x": null,
            "overflow_y": null,
            "padding": null,
            "right": null,
            "top": null,
            "visibility": null,
            "width": null
          }
        },
        "97969f9a7d64440dbfcd495e17f41873": {
          "model_module": "@jupyter-widgets/controls",
          "model_module_version": "1.5.0",
          "model_name": "HBoxModel",
          "state": {
            "_dom_classes": [],
            "_model_module": "@jupyter-widgets/controls",
            "_model_module_version": "1.5.0",
            "_model_name": "HBoxModel",
            "_view_count": null,
            "_view_module": "@jupyter-widgets/controls",
            "_view_module_version": "1.5.0",
            "_view_name": "HBoxView",
            "box_style": "",
            "children": [
              "IPY_MODEL_ac9f63dd936c4f4683aed52e74943ea0",
              "IPY_MODEL_95b5bed4262c4be081cc731c610a8f67",
              "IPY_MODEL_40b516eab20e46099e69a6d9204c490d"
            ],
            "layout": "IPY_MODEL_0554ff0c95914306b4c057b05c6219ba"
          }
        },
        "97d23194a23246548f5519cc95fcd497": {
          "model_module": "@jupyter-widgets/controls",
          "model_module_version": "1.5.0",
          "model_name": "HTMLModel",
          "state": {
            "_dom_classes": [],
            "_model_module": "@jupyter-widgets/controls",
            "_model_module_version": "1.5.0",
            "_model_name": "HTMLModel",
            "_view_count": null,
            "_view_module": "@jupyter-widgets/controls",
            "_view_module_version": "1.5.0",
            "_view_name": "HTMLView",
            "description": "",
            "description_tooltip": null,
            "layout": "IPY_MODEL_a18be04379524889a55dd47cd446a1fc",
            "placeholder": "​",
            "style": "IPY_MODEL_3bfa8fca0a3c422082b7451234a4291e",
            "value": " 79/79 [30:54&lt;00:00, 18.39s/it]"
          }
        },
        "9c39ae88fa0f414eb523bcf9e63f3b78": {
          "model_module": "@jupyter-widgets/base",
          "model_module_version": "1.2.0",
          "model_name": "LayoutModel",
          "state": {
            "_model_module": "@jupyter-widgets/base",
            "_model_module_version": "1.2.0",
            "_model_name": "LayoutModel",
            "_view_count": null,
            "_view_module": "@jupyter-widgets/base",
            "_view_module_version": "1.2.0",
            "_view_name": "LayoutView",
            "align_content": null,
            "align_items": null,
            "align_self": null,
            "border": null,
            "bottom": null,
            "display": null,
            "flex": null,
            "flex_flow": null,
            "grid_area": null,
            "grid_auto_columns": null,
            "grid_auto_flow": null,
            "grid_auto_rows": null,
            "grid_column": null,
            "grid_gap": null,
            "grid_row": null,
            "grid_template_areas": null,
            "grid_template_columns": null,
            "grid_template_rows": null,
            "height": null,
            "justify_content": null,
            "justify_items": null,
            "left": null,
            "margin": null,
            "max_height": null,
            "max_width": null,
            "min_height": null,
            "min_width": null,
            "object_fit": null,
            "object_position": null,
            "order": null,
            "overflow": null,
            "overflow_x": null,
            "overflow_y": null,
            "padding": null,
            "right": null,
            "top": null,
            "visibility": null,
            "width": null
          }
        },
        "9c87b3eff1c14919b933057352156ee9": {
          "model_module": "@jupyter-widgets/base",
          "model_module_version": "1.2.0",
          "model_name": "LayoutModel",
          "state": {
            "_model_module": "@jupyter-widgets/base",
            "_model_module_version": "1.2.0",
            "_model_name": "LayoutModel",
            "_view_count": null,
            "_view_module": "@jupyter-widgets/base",
            "_view_module_version": "1.2.0",
            "_view_name": "LayoutView",
            "align_content": null,
            "align_items": null,
            "align_self": null,
            "border": null,
            "bottom": null,
            "display": null,
            "flex": null,
            "flex_flow": null,
            "grid_area": null,
            "grid_auto_columns": null,
            "grid_auto_flow": null,
            "grid_auto_rows": null,
            "grid_column": null,
            "grid_gap": null,
            "grid_row": null,
            "grid_template_areas": null,
            "grid_template_columns": null,
            "grid_template_rows": null,
            "height": null,
            "justify_content": null,
            "justify_items": null,
            "left": null,
            "margin": null,
            "max_height": null,
            "max_width": null,
            "min_height": null,
            "min_width": null,
            "object_fit": null,
            "object_position": null,
            "order": null,
            "overflow": null,
            "overflow_x": null,
            "overflow_y": null,
            "padding": null,
            "right": null,
            "top": null,
            "visibility": null,
            "width": null
          }
        },
        "9d4cbbe3dd914999b57d0978d1123e9f": {
          "model_module": "@jupyter-widgets/base",
          "model_module_version": "1.2.0",
          "model_name": "LayoutModel",
          "state": {
            "_model_module": "@jupyter-widgets/base",
            "_model_module_version": "1.2.0",
            "_model_name": "LayoutModel",
            "_view_count": null,
            "_view_module": "@jupyter-widgets/base",
            "_view_module_version": "1.2.0",
            "_view_name": "LayoutView",
            "align_content": null,
            "align_items": null,
            "align_self": null,
            "border": null,
            "bottom": null,
            "display": null,
            "flex": null,
            "flex_flow": null,
            "grid_area": null,
            "grid_auto_columns": null,
            "grid_auto_flow": null,
            "grid_auto_rows": null,
            "grid_column": null,
            "grid_gap": null,
            "grid_row": null,
            "grid_template_areas": null,
            "grid_template_columns": null,
            "grid_template_rows": null,
            "height": null,
            "justify_content": null,
            "justify_items": null,
            "left": null,
            "margin": null,
            "max_height": null,
            "max_width": null,
            "min_height": null,
            "min_width": null,
            "object_fit": null,
            "object_position": null,
            "order": null,
            "overflow": null,
            "overflow_x": null,
            "overflow_y": null,
            "padding": null,
            "right": null,
            "top": null,
            "visibility": null,
            "width": null
          }
        },
        "9dd54bbadd8a42bbbbe852d2e8e37807": {
          "model_module": "@jupyter-widgets/base",
          "model_module_version": "1.2.0",
          "model_name": "LayoutModel",
          "state": {
            "_model_module": "@jupyter-widgets/base",
            "_model_module_version": "1.2.0",
            "_model_name": "LayoutModel",
            "_view_count": null,
            "_view_module": "@jupyter-widgets/base",
            "_view_module_version": "1.2.0",
            "_view_name": "LayoutView",
            "align_content": null,
            "align_items": null,
            "align_self": null,
            "border": null,
            "bottom": null,
            "display": null,
            "flex": null,
            "flex_flow": null,
            "grid_area": null,
            "grid_auto_columns": null,
            "grid_auto_flow": null,
            "grid_auto_rows": null,
            "grid_column": null,
            "grid_gap": null,
            "grid_row": null,
            "grid_template_areas": null,
            "grid_template_columns": null,
            "grid_template_rows": null,
            "height": null,
            "justify_content": null,
            "justify_items": null,
            "left": null,
            "margin": null,
            "max_height": null,
            "max_width": null,
            "min_height": null,
            "min_width": null,
            "object_fit": null,
            "object_position": null,
            "order": null,
            "overflow": null,
            "overflow_x": null,
            "overflow_y": null,
            "padding": null,
            "right": null,
            "top": null,
            "visibility": null,
            "width": null
          }
        },
        "9e244ff2eccd4f6081ba127c9a1b4166": {
          "model_module": "@jupyter-widgets/controls",
          "model_module_version": "1.5.0",
          "model_name": "DescriptionStyleModel",
          "state": {
            "_model_module": "@jupyter-widgets/controls",
            "_model_module_version": "1.5.0",
            "_model_name": "DescriptionStyleModel",
            "_view_count": null,
            "_view_module": "@jupyter-widgets/base",
            "_view_module_version": "1.2.0",
            "_view_name": "StyleView",
            "description_width": ""
          }
        },
        "9ef643fd19844c2591a66c1359090e0e": {
          "model_module": "@jupyter-widgets/base",
          "model_module_version": "1.2.0",
          "model_name": "LayoutModel",
          "state": {
            "_model_module": "@jupyter-widgets/base",
            "_model_module_version": "1.2.0",
            "_model_name": "LayoutModel",
            "_view_count": null,
            "_view_module": "@jupyter-widgets/base",
            "_view_module_version": "1.2.0",
            "_view_name": "LayoutView",
            "align_content": null,
            "align_items": null,
            "align_self": null,
            "border": null,
            "bottom": null,
            "display": null,
            "flex": null,
            "flex_flow": null,
            "grid_area": null,
            "grid_auto_columns": null,
            "grid_auto_flow": null,
            "grid_auto_rows": null,
            "grid_column": null,
            "grid_gap": null,
            "grid_row": null,
            "grid_template_areas": null,
            "grid_template_columns": null,
            "grid_template_rows": null,
            "height": null,
            "justify_content": null,
            "justify_items": null,
            "left": null,
            "margin": null,
            "max_height": null,
            "max_width": null,
            "min_height": null,
            "min_width": null,
            "object_fit": null,
            "object_position": null,
            "order": null,
            "overflow": null,
            "overflow_x": null,
            "overflow_y": null,
            "padding": null,
            "right": null,
            "top": null,
            "visibility": null,
            "width": null
          }
        },
        "9f38ca56c76e40cd898c03345c22d7ed": {
          "model_module": "@jupyter-widgets/base",
          "model_module_version": "1.2.0",
          "model_name": "LayoutModel",
          "state": {
            "_model_module": "@jupyter-widgets/base",
            "_model_module_version": "1.2.0",
            "_model_name": "LayoutModel",
            "_view_count": null,
            "_view_module": "@jupyter-widgets/base",
            "_view_module_version": "1.2.0",
            "_view_name": "LayoutView",
            "align_content": null,
            "align_items": null,
            "align_self": null,
            "border": null,
            "bottom": null,
            "display": null,
            "flex": null,
            "flex_flow": null,
            "grid_area": null,
            "grid_auto_columns": null,
            "grid_auto_flow": null,
            "grid_auto_rows": null,
            "grid_column": null,
            "grid_gap": null,
            "grid_row": null,
            "grid_template_areas": null,
            "grid_template_columns": null,
            "grid_template_rows": null,
            "height": null,
            "justify_content": null,
            "justify_items": null,
            "left": null,
            "margin": null,
            "max_height": null,
            "max_width": null,
            "min_height": null,
            "min_width": null,
            "object_fit": null,
            "object_position": null,
            "order": null,
            "overflow": null,
            "overflow_x": null,
            "overflow_y": null,
            "padding": null,
            "right": null,
            "top": null,
            "visibility": null,
            "width": null
          }
        },
        "a18be04379524889a55dd47cd446a1fc": {
          "model_module": "@jupyter-widgets/base",
          "model_module_version": "1.2.0",
          "model_name": "LayoutModel",
          "state": {
            "_model_module": "@jupyter-widgets/base",
            "_model_module_version": "1.2.0",
            "_model_name": "LayoutModel",
            "_view_count": null,
            "_view_module": "@jupyter-widgets/base",
            "_view_module_version": "1.2.0",
            "_view_name": "LayoutView",
            "align_content": null,
            "align_items": null,
            "align_self": null,
            "border": null,
            "bottom": null,
            "display": null,
            "flex": null,
            "flex_flow": null,
            "grid_area": null,
            "grid_auto_columns": null,
            "grid_auto_flow": null,
            "grid_auto_rows": null,
            "grid_column": null,
            "grid_gap": null,
            "grid_row": null,
            "grid_template_areas": null,
            "grid_template_columns": null,
            "grid_template_rows": null,
            "height": null,
            "justify_content": null,
            "justify_items": null,
            "left": null,
            "margin": null,
            "max_height": null,
            "max_width": null,
            "min_height": null,
            "min_width": null,
            "object_fit": null,
            "object_position": null,
            "order": null,
            "overflow": null,
            "overflow_x": null,
            "overflow_y": null,
            "padding": null,
            "right": null,
            "top": null,
            "visibility": null,
            "width": null
          }
        },
        "a246f8b3ceb34dc783c24acb556c84fb": {
          "model_module": "@jupyter-widgets/controls",
          "model_module_version": "1.5.0",
          "model_name": "DescriptionStyleModel",
          "state": {
            "_model_module": "@jupyter-widgets/controls",
            "_model_module_version": "1.5.0",
            "_model_name": "DescriptionStyleModel",
            "_view_count": null,
            "_view_module": "@jupyter-widgets/base",
            "_view_module_version": "1.2.0",
            "_view_name": "StyleView",
            "description_width": ""
          }
        },
        "a47b50d4e41d41e48fc9df8bf8702cb0": {
          "model_module": "@jupyter-widgets/base",
          "model_module_version": "1.2.0",
          "model_name": "LayoutModel",
          "state": {
            "_model_module": "@jupyter-widgets/base",
            "_model_module_version": "1.2.0",
            "_model_name": "LayoutModel",
            "_view_count": null,
            "_view_module": "@jupyter-widgets/base",
            "_view_module_version": "1.2.0",
            "_view_name": "LayoutView",
            "align_content": null,
            "align_items": null,
            "align_self": null,
            "border": null,
            "bottom": null,
            "display": null,
            "flex": null,
            "flex_flow": null,
            "grid_area": null,
            "grid_auto_columns": null,
            "grid_auto_flow": null,
            "grid_auto_rows": null,
            "grid_column": null,
            "grid_gap": null,
            "grid_row": null,
            "grid_template_areas": null,
            "grid_template_columns": null,
            "grid_template_rows": null,
            "height": null,
            "justify_content": null,
            "justify_items": null,
            "left": null,
            "margin": null,
            "max_height": null,
            "max_width": null,
            "min_height": null,
            "min_width": null,
            "object_fit": null,
            "object_position": null,
            "order": null,
            "overflow": null,
            "overflow_x": null,
            "overflow_y": null,
            "padding": null,
            "right": null,
            "top": null,
            "visibility": null,
            "width": null
          }
        },
        "a57ac0e371d64f4fab1ce190300be15e": {
          "model_module": "@jupyter-widgets/controls",
          "model_module_version": "1.5.0",
          "model_name": "HBoxModel",
          "state": {
            "_dom_classes": [],
            "_model_module": "@jupyter-widgets/controls",
            "_model_module_version": "1.5.0",
            "_model_name": "HBoxModel",
            "_view_count": null,
            "_view_module": "@jupyter-widgets/controls",
            "_view_module_version": "1.5.0",
            "_view_name": "HBoxView",
            "box_style": "",
            "children": [
              "IPY_MODEL_25da24138d7a495b9c1e8c0088d044d9",
              "IPY_MODEL_3d56ada310f34e02b8ab6d3937bd864a",
              "IPY_MODEL_5c306febdd5344b582a54deae1be9fb9"
            ],
            "layout": "IPY_MODEL_2a4ec493b6cb43e4b3b2bf334b360429"
          }
        },
        "a5d99e0ad7c14cea98d4552bb5387f4f": {
          "model_module": "@jupyter-widgets/base",
          "model_module_version": "1.2.0",
          "model_name": "LayoutModel",
          "state": {
            "_model_module": "@jupyter-widgets/base",
            "_model_module_version": "1.2.0",
            "_model_name": "LayoutModel",
            "_view_count": null,
            "_view_module": "@jupyter-widgets/base",
            "_view_module_version": "1.2.0",
            "_view_name": "LayoutView",
            "align_content": null,
            "align_items": null,
            "align_self": null,
            "border": null,
            "bottom": null,
            "display": null,
            "flex": null,
            "flex_flow": null,
            "grid_area": null,
            "grid_auto_columns": null,
            "grid_auto_flow": null,
            "grid_auto_rows": null,
            "grid_column": null,
            "grid_gap": null,
            "grid_row": null,
            "grid_template_areas": null,
            "grid_template_columns": null,
            "grid_template_rows": null,
            "height": null,
            "justify_content": null,
            "justify_items": null,
            "left": null,
            "margin": null,
            "max_height": null,
            "max_width": null,
            "min_height": null,
            "min_width": null,
            "object_fit": null,
            "object_position": null,
            "order": null,
            "overflow": null,
            "overflow_x": null,
            "overflow_y": null,
            "padding": null,
            "right": null,
            "top": null,
            "visibility": null,
            "width": null
          }
        },
        "a7a54c79cc7e4bdfb301ae129cfb2df6": {
          "model_module": "@jupyter-widgets/base",
          "model_module_version": "1.2.0",
          "model_name": "LayoutModel",
          "state": {
            "_model_module": "@jupyter-widgets/base",
            "_model_module_version": "1.2.0",
            "_model_name": "LayoutModel",
            "_view_count": null,
            "_view_module": "@jupyter-widgets/base",
            "_view_module_version": "1.2.0",
            "_view_name": "LayoutView",
            "align_content": null,
            "align_items": null,
            "align_self": null,
            "border": null,
            "bottom": null,
            "display": null,
            "flex": null,
            "flex_flow": null,
            "grid_area": null,
            "grid_auto_columns": null,
            "grid_auto_flow": null,
            "grid_auto_rows": null,
            "grid_column": null,
            "grid_gap": null,
            "grid_row": null,
            "grid_template_areas": null,
            "grid_template_columns": null,
            "grid_template_rows": null,
            "height": null,
            "justify_content": null,
            "justify_items": null,
            "left": null,
            "margin": null,
            "max_height": null,
            "max_width": null,
            "min_height": null,
            "min_width": null,
            "object_fit": null,
            "object_position": null,
            "order": null,
            "overflow": null,
            "overflow_x": null,
            "overflow_y": null,
            "padding": null,
            "right": null,
            "top": null,
            "visibility": null,
            "width": null
          }
        },
        "abfafa08c5264ee0a5a1427f54959e8e": {
          "model_module": "@jupyter-widgets/controls",
          "model_module_version": "1.5.0",
          "model_name": "HTMLModel",
          "state": {
            "_dom_classes": [],
            "_model_module": "@jupyter-widgets/controls",
            "_model_module_version": "1.5.0",
            "_model_name": "HTMLModel",
            "_view_count": null,
            "_view_module": "@jupyter-widgets/controls",
            "_view_module_version": "1.5.0",
            "_view_name": "HTMLView",
            "description": "",
            "description_tooltip": null,
            "layout": "IPY_MODEL_8a1ab816183440e8808bc38e43b0b730",
            "placeholder": "​",
            "style": "IPY_MODEL_6e9757a9aa09478085b76bd73702e352",
            "value": " 79/79 [12:18&lt;00:00,  7.89s/it]"
          }
        },
        "ac9f63dd936c4f4683aed52e74943ea0": {
          "model_module": "@jupyter-widgets/controls",
          "model_module_version": "1.5.0",
          "model_name": "HTMLModel",
          "state": {
            "_dom_classes": [],
            "_model_module": "@jupyter-widgets/controls",
            "_model_module_version": "1.5.0",
            "_model_name": "HTMLModel",
            "_view_count": null,
            "_view_module": "@jupyter-widgets/controls",
            "_view_module_version": "1.5.0",
            "_view_name": "HTMLView",
            "description": "",
            "description_tooltip": null,
            "layout": "IPY_MODEL_7aa3b16622db40fb8eed1e7289903c37",
            "placeholder": "​",
            "style": "IPY_MODEL_d5fafe99e7dd42f9a131a17035037d2f",
            "value": "100%"
          }
        },
        "b0e4d3068bd94bcbab5583d275a1f218": {
          "model_module": "@jupyter-widgets/base",
          "model_module_version": "1.2.0",
          "model_name": "LayoutModel",
          "state": {
            "_model_module": "@jupyter-widgets/base",
            "_model_module_version": "1.2.0",
            "_model_name": "LayoutModel",
            "_view_count": null,
            "_view_module": "@jupyter-widgets/base",
            "_view_module_version": "1.2.0",
            "_view_name": "LayoutView",
            "align_content": null,
            "align_items": null,
            "align_self": null,
            "border": null,
            "bottom": null,
            "display": null,
            "flex": null,
            "flex_flow": null,
            "grid_area": null,
            "grid_auto_columns": null,
            "grid_auto_flow": null,
            "grid_auto_rows": null,
            "grid_column": null,
            "grid_gap": null,
            "grid_row": null,
            "grid_template_areas": null,
            "grid_template_columns": null,
            "grid_template_rows": null,
            "height": null,
            "justify_content": null,
            "justify_items": null,
            "left": null,
            "margin": null,
            "max_height": null,
            "max_width": null,
            "min_height": null,
            "min_width": null,
            "object_fit": null,
            "object_position": null,
            "order": null,
            "overflow": null,
            "overflow_x": null,
            "overflow_y": null,
            "padding": null,
            "right": null,
            "top": null,
            "visibility": null,
            "width": null
          }
        },
        "b10ecb0acbf44486ad6808a11ca556e4": {
          "model_module": "@jupyter-widgets/controls",
          "model_module_version": "1.5.0",
          "model_name": "HBoxModel",
          "state": {
            "_dom_classes": [],
            "_model_module": "@jupyter-widgets/controls",
            "_model_module_version": "1.5.0",
            "_model_name": "HBoxModel",
            "_view_count": null,
            "_view_module": "@jupyter-widgets/controls",
            "_view_module_version": "1.5.0",
            "_view_name": "HBoxView",
            "box_style": "",
            "children": [
              "IPY_MODEL_467764eb82f44974ac0275fb3ea994d2",
              "IPY_MODEL_726d3cc2806141acaa380e21117d04d0",
              "IPY_MODEL_abfafa08c5264ee0a5a1427f54959e8e"
            ],
            "layout": "IPY_MODEL_a7a54c79cc7e4bdfb301ae129cfb2df6"
          }
        },
        "b362bb321bb24565805c2248540d860e": {
          "model_module": "@jupyter-widgets/controls",
          "model_module_version": "1.5.0",
          "model_name": "DescriptionStyleModel",
          "state": {
            "_model_module": "@jupyter-widgets/controls",
            "_model_module_version": "1.5.0",
            "_model_name": "DescriptionStyleModel",
            "_view_count": null,
            "_view_module": "@jupyter-widgets/base",
            "_view_module_version": "1.2.0",
            "_view_name": "StyleView",
            "description_width": ""
          }
        },
        "b510515213ed4f23b4f2eef562c63057": {
          "model_module": "@jupyter-widgets/base",
          "model_module_version": "1.2.0",
          "model_name": "LayoutModel",
          "state": {
            "_model_module": "@jupyter-widgets/base",
            "_model_module_version": "1.2.0",
            "_model_name": "LayoutModel",
            "_view_count": null,
            "_view_module": "@jupyter-widgets/base",
            "_view_module_version": "1.2.0",
            "_view_name": "LayoutView",
            "align_content": null,
            "align_items": null,
            "align_self": null,
            "border": null,
            "bottom": null,
            "display": null,
            "flex": null,
            "flex_flow": null,
            "grid_area": null,
            "grid_auto_columns": null,
            "grid_auto_flow": null,
            "grid_auto_rows": null,
            "grid_column": null,
            "grid_gap": null,
            "grid_row": null,
            "grid_template_areas": null,
            "grid_template_columns": null,
            "grid_template_rows": null,
            "height": null,
            "justify_content": null,
            "justify_items": null,
            "left": null,
            "margin": null,
            "max_height": null,
            "max_width": null,
            "min_height": null,
            "min_width": null,
            "object_fit": null,
            "object_position": null,
            "order": null,
            "overflow": null,
            "overflow_x": null,
            "overflow_y": null,
            "padding": null,
            "right": null,
            "top": null,
            "visibility": null,
            "width": null
          }
        },
        "b6fbc62706904eb5975596d8cb6d7d9b": {
          "model_module": "@jupyter-widgets/base",
          "model_module_version": "1.2.0",
          "model_name": "LayoutModel",
          "state": {
            "_model_module": "@jupyter-widgets/base",
            "_model_module_version": "1.2.0",
            "_model_name": "LayoutModel",
            "_view_count": null,
            "_view_module": "@jupyter-widgets/base",
            "_view_module_version": "1.2.0",
            "_view_name": "LayoutView",
            "align_content": null,
            "align_items": null,
            "align_self": null,
            "border": null,
            "bottom": null,
            "display": null,
            "flex": null,
            "flex_flow": null,
            "grid_area": null,
            "grid_auto_columns": null,
            "grid_auto_flow": null,
            "grid_auto_rows": null,
            "grid_column": null,
            "grid_gap": null,
            "grid_row": null,
            "grid_template_areas": null,
            "grid_template_columns": null,
            "grid_template_rows": null,
            "height": null,
            "justify_content": null,
            "justify_items": null,
            "left": null,
            "margin": null,
            "max_height": null,
            "max_width": null,
            "min_height": null,
            "min_width": null,
            "object_fit": null,
            "object_position": null,
            "order": null,
            "overflow": null,
            "overflow_x": null,
            "overflow_y": null,
            "padding": null,
            "right": null,
            "top": null,
            "visibility": null,
            "width": null
          }
        },
        "b78c1d2b7f2a464cba9d808d3df16df2": {
          "model_module": "@jupyter-widgets/base",
          "model_module_version": "1.2.0",
          "model_name": "LayoutModel",
          "state": {
            "_model_module": "@jupyter-widgets/base",
            "_model_module_version": "1.2.0",
            "_model_name": "LayoutModel",
            "_view_count": null,
            "_view_module": "@jupyter-widgets/base",
            "_view_module_version": "1.2.0",
            "_view_name": "LayoutView",
            "align_content": null,
            "align_items": null,
            "align_self": null,
            "border": null,
            "bottom": null,
            "display": null,
            "flex": null,
            "flex_flow": null,
            "grid_area": null,
            "grid_auto_columns": null,
            "grid_auto_flow": null,
            "grid_auto_rows": null,
            "grid_column": null,
            "grid_gap": null,
            "grid_row": null,
            "grid_template_areas": null,
            "grid_template_columns": null,
            "grid_template_rows": null,
            "height": null,
            "justify_content": null,
            "justify_items": null,
            "left": null,
            "margin": null,
            "max_height": null,
            "max_width": null,
            "min_height": null,
            "min_width": null,
            "object_fit": null,
            "object_position": null,
            "order": null,
            "overflow": null,
            "overflow_x": null,
            "overflow_y": null,
            "padding": null,
            "right": null,
            "top": null,
            "visibility": null,
            "width": null
          }
        },
        "b8fa2132dcbd4a9bbe219ab32aee238f": {
          "model_module": "@jupyter-widgets/controls",
          "model_module_version": "1.5.0",
          "model_name": "DescriptionStyleModel",
          "state": {
            "_model_module": "@jupyter-widgets/controls",
            "_model_module_version": "1.5.0",
            "_model_name": "DescriptionStyleModel",
            "_view_count": null,
            "_view_module": "@jupyter-widgets/base",
            "_view_module_version": "1.2.0",
            "_view_name": "StyleView",
            "description_width": ""
          }
        },
        "b9fd7380df0e4825abb772a36741438f": {
          "model_module": "@jupyter-widgets/controls",
          "model_module_version": "1.5.0",
          "model_name": "DescriptionStyleModel",
          "state": {
            "_model_module": "@jupyter-widgets/controls",
            "_model_module_version": "1.5.0",
            "_model_name": "DescriptionStyleModel",
            "_view_count": null,
            "_view_module": "@jupyter-widgets/base",
            "_view_module_version": "1.2.0",
            "_view_name": "StyleView",
            "description_width": ""
          }
        },
        "ba10b81c6015468e9c6d50258ce8117d": {
          "model_module": "@jupyter-widgets/base",
          "model_module_version": "1.2.0",
          "model_name": "LayoutModel",
          "state": {
            "_model_module": "@jupyter-widgets/base",
            "_model_module_version": "1.2.0",
            "_model_name": "LayoutModel",
            "_view_count": null,
            "_view_module": "@jupyter-widgets/base",
            "_view_module_version": "1.2.0",
            "_view_name": "LayoutView",
            "align_content": null,
            "align_items": null,
            "align_self": null,
            "border": null,
            "bottom": null,
            "display": null,
            "flex": null,
            "flex_flow": null,
            "grid_area": null,
            "grid_auto_columns": null,
            "grid_auto_flow": null,
            "grid_auto_rows": null,
            "grid_column": null,
            "grid_gap": null,
            "grid_row": null,
            "grid_template_areas": null,
            "grid_template_columns": null,
            "grid_template_rows": null,
            "height": null,
            "justify_content": null,
            "justify_items": null,
            "left": null,
            "margin": null,
            "max_height": null,
            "max_width": null,
            "min_height": null,
            "min_width": null,
            "object_fit": null,
            "object_position": null,
            "order": null,
            "overflow": null,
            "overflow_x": null,
            "overflow_y": null,
            "padding": null,
            "right": null,
            "top": null,
            "visibility": null,
            "width": null
          }
        },
        "bae7d7e636a64145ae3091b93a330a0c": {
          "model_module": "@jupyter-widgets/controls",
          "model_module_version": "1.5.0",
          "model_name": "DescriptionStyleModel",
          "state": {
            "_model_module": "@jupyter-widgets/controls",
            "_model_module_version": "1.5.0",
            "_model_name": "DescriptionStyleModel",
            "_view_count": null,
            "_view_module": "@jupyter-widgets/base",
            "_view_module_version": "1.2.0",
            "_view_name": "StyleView",
            "description_width": ""
          }
        },
        "bca09bc03dfd4fc2b9a24c4a1aeb4a39": {
          "model_module": "@jupyter-widgets/controls",
          "model_module_version": "1.5.0",
          "model_name": "FloatProgressModel",
          "state": {
            "_dom_classes": [],
            "_model_module": "@jupyter-widgets/controls",
            "_model_module_version": "1.5.0",
            "_model_name": "FloatProgressModel",
            "_view_count": null,
            "_view_module": "@jupyter-widgets/controls",
            "_view_module_version": "1.5.0",
            "_view_name": "ProgressView",
            "bar_style": "success",
            "description": "",
            "description_tooltip": null,
            "layout": "IPY_MODEL_9f38ca56c76e40cd898c03345c22d7ed",
            "max": 79,
            "min": 0,
            "orientation": "horizontal",
            "style": "IPY_MODEL_64c49ef2f8684a2a933da28be81e4926",
            "value": 79
          }
        },
        "c1b375f354d9499998510aa4a13628d0": {
          "model_module": "@jupyter-widgets/controls",
          "model_module_version": "1.5.0",
          "model_name": "DescriptionStyleModel",
          "state": {
            "_model_module": "@jupyter-widgets/controls",
            "_model_module_version": "1.5.0",
            "_model_name": "DescriptionStyleModel",
            "_view_count": null,
            "_view_module": "@jupyter-widgets/base",
            "_view_module_version": "1.2.0",
            "_view_name": "StyleView",
            "description_width": ""
          }
        },
        "c3796d4983a5435ba7e6e73d5ebac050": {
          "model_module": "@jupyter-widgets/base",
          "model_module_version": "1.2.0",
          "model_name": "LayoutModel",
          "state": {
            "_model_module": "@jupyter-widgets/base",
            "_model_module_version": "1.2.0",
            "_model_name": "LayoutModel",
            "_view_count": null,
            "_view_module": "@jupyter-widgets/base",
            "_view_module_version": "1.2.0",
            "_view_name": "LayoutView",
            "align_content": null,
            "align_items": null,
            "align_self": null,
            "border": null,
            "bottom": null,
            "display": null,
            "flex": null,
            "flex_flow": null,
            "grid_area": null,
            "grid_auto_columns": null,
            "grid_auto_flow": null,
            "grid_auto_rows": null,
            "grid_column": null,
            "grid_gap": null,
            "grid_row": null,
            "grid_template_areas": null,
            "grid_template_columns": null,
            "grid_template_rows": null,
            "height": null,
            "justify_content": null,
            "justify_items": null,
            "left": null,
            "margin": null,
            "max_height": null,
            "max_width": null,
            "min_height": null,
            "min_width": null,
            "object_fit": null,
            "object_position": null,
            "order": null,
            "overflow": null,
            "overflow_x": null,
            "overflow_y": null,
            "padding": null,
            "right": null,
            "top": null,
            "visibility": null,
            "width": null
          }
        },
        "c6f8e9bed2474a919184301692a4fdeb": {
          "model_module": "@jupyter-widgets/controls",
          "model_module_version": "1.5.0",
          "model_name": "ProgressStyleModel",
          "state": {
            "_model_module": "@jupyter-widgets/controls",
            "_model_module_version": "1.5.0",
            "_model_name": "ProgressStyleModel",
            "_view_count": null,
            "_view_module": "@jupyter-widgets/base",
            "_view_module_version": "1.2.0",
            "_view_name": "StyleView",
            "bar_color": null,
            "description_width": ""
          }
        },
        "c795725feafb42dd86ad60c739d9c7a0": {
          "model_module": "@jupyter-widgets/controls",
          "model_module_version": "1.5.0",
          "model_name": "ProgressStyleModel",
          "state": {
            "_model_module": "@jupyter-widgets/controls",
            "_model_module_version": "1.5.0",
            "_model_name": "ProgressStyleModel",
            "_view_count": null,
            "_view_module": "@jupyter-widgets/base",
            "_view_module_version": "1.2.0",
            "_view_name": "StyleView",
            "bar_color": null,
            "description_width": ""
          }
        },
        "d2834b806cc14e8685effe3b8292971c": {
          "model_module": "@jupyter-widgets/controls",
          "model_module_version": "1.5.0",
          "model_name": "HTMLModel",
          "state": {
            "_dom_classes": [],
            "_model_module": "@jupyter-widgets/controls",
            "_model_module_version": "1.5.0",
            "_model_name": "HTMLModel",
            "_view_count": null,
            "_view_module": "@jupyter-widgets/controls",
            "_view_module_version": "1.5.0",
            "_view_name": "HTMLView",
            "description": "",
            "description_tooltip": null,
            "layout": "IPY_MODEL_94a716363301402e874af8b22626d3c4",
            "placeholder": "​",
            "style": "IPY_MODEL_8ada89f52e3a41e096adf40aa2f09f13",
            "value": " 79/79 [12:35&lt;00:00,  8.14s/it]"
          }
        },
        "d295b64d09794e49834d41814bad6a37": {
          "model_module": "@jupyter-widgets/base",
          "model_module_version": "1.2.0",
          "model_name": "LayoutModel",
          "state": {
            "_model_module": "@jupyter-widgets/base",
            "_model_module_version": "1.2.0",
            "_model_name": "LayoutModel",
            "_view_count": null,
            "_view_module": "@jupyter-widgets/base",
            "_view_module_version": "1.2.0",
            "_view_name": "LayoutView",
            "align_content": null,
            "align_items": null,
            "align_self": null,
            "border": null,
            "bottom": null,
            "display": null,
            "flex": null,
            "flex_flow": null,
            "grid_area": null,
            "grid_auto_columns": null,
            "grid_auto_flow": null,
            "grid_auto_rows": null,
            "grid_column": null,
            "grid_gap": null,
            "grid_row": null,
            "grid_template_areas": null,
            "grid_template_columns": null,
            "grid_template_rows": null,
            "height": null,
            "justify_content": null,
            "justify_items": null,
            "left": null,
            "margin": null,
            "max_height": null,
            "max_width": null,
            "min_height": null,
            "min_width": null,
            "object_fit": null,
            "object_position": null,
            "order": null,
            "overflow": null,
            "overflow_x": null,
            "overflow_y": null,
            "padding": null,
            "right": null,
            "top": null,
            "visibility": null,
            "width": null
          }
        },
        "d46cd84434c348f88541c7d81441629e": {
          "model_module": "@jupyter-widgets/base",
          "model_module_version": "1.2.0",
          "model_name": "LayoutModel",
          "state": {
            "_model_module": "@jupyter-widgets/base",
            "_model_module_version": "1.2.0",
            "_model_name": "LayoutModel",
            "_view_count": null,
            "_view_module": "@jupyter-widgets/base",
            "_view_module_version": "1.2.0",
            "_view_name": "LayoutView",
            "align_content": null,
            "align_items": null,
            "align_self": null,
            "border": null,
            "bottom": null,
            "display": null,
            "flex": null,
            "flex_flow": null,
            "grid_area": null,
            "grid_auto_columns": null,
            "grid_auto_flow": null,
            "grid_auto_rows": null,
            "grid_column": null,
            "grid_gap": null,
            "grid_row": null,
            "grid_template_areas": null,
            "grid_template_columns": null,
            "grid_template_rows": null,
            "height": null,
            "justify_content": null,
            "justify_items": null,
            "left": null,
            "margin": null,
            "max_height": null,
            "max_width": null,
            "min_height": null,
            "min_width": null,
            "object_fit": null,
            "object_position": null,
            "order": null,
            "overflow": null,
            "overflow_x": null,
            "overflow_y": null,
            "padding": null,
            "right": null,
            "top": null,
            "visibility": null,
            "width": null
          }
        },
        "d47871df2bc14578b5289c8577fdaa2f": {
          "model_module": "@jupyter-widgets/controls",
          "model_module_version": "1.5.0",
          "model_name": "HTMLModel",
          "state": {
            "_dom_classes": [],
            "_model_module": "@jupyter-widgets/controls",
            "_model_module_version": "1.5.0",
            "_model_name": "HTMLModel",
            "_view_count": null,
            "_view_module": "@jupyter-widgets/controls",
            "_view_module_version": "1.5.0",
            "_view_name": "HTMLView",
            "description": "",
            "description_tooltip": null,
            "layout": "IPY_MODEL_a47b50d4e41d41e48fc9df8bf8702cb0",
            "placeholder": "​",
            "style": "IPY_MODEL_c1b375f354d9499998510aa4a13628d0",
            "value": " 79/79 [27:42&lt;00:00, 16.53s/it]"
          }
        },
        "d55ea51a88de4a2b97705191b2960baa": {
          "model_module": "@jupyter-widgets/controls",
          "model_module_version": "1.5.0",
          "model_name": "HTMLModel",
          "state": {
            "_dom_classes": [],
            "_model_module": "@jupyter-widgets/controls",
            "_model_module_version": "1.5.0",
            "_model_name": "HTMLModel",
            "_view_count": null,
            "_view_module": "@jupyter-widgets/controls",
            "_view_module_version": "1.5.0",
            "_view_name": "HTMLView",
            "description": "",
            "description_tooltip": null,
            "layout": "IPY_MODEL_b6fbc62706904eb5975596d8cb6d7d9b",
            "placeholder": "​",
            "style": "IPY_MODEL_b9fd7380df0e4825abb772a36741438f",
            "value": "100%"
          }
        },
        "d5fafe99e7dd42f9a131a17035037d2f": {
          "model_module": "@jupyter-widgets/controls",
          "model_module_version": "1.5.0",
          "model_name": "DescriptionStyleModel",
          "state": {
            "_model_module": "@jupyter-widgets/controls",
            "_model_module_version": "1.5.0",
            "_model_name": "DescriptionStyleModel",
            "_view_count": null,
            "_view_module": "@jupyter-widgets/base",
            "_view_module_version": "1.2.0",
            "_view_name": "StyleView",
            "description_width": ""
          }
        },
        "d82c392c9d054d2585d74248cd7b41e8": {
          "model_module": "@jupyter-widgets/controls",
          "model_module_version": "1.5.0",
          "model_name": "DescriptionStyleModel",
          "state": {
            "_model_module": "@jupyter-widgets/controls",
            "_model_module_version": "1.5.0",
            "_model_name": "DescriptionStyleModel",
            "_view_count": null,
            "_view_module": "@jupyter-widgets/base",
            "_view_module_version": "1.2.0",
            "_view_name": "StyleView",
            "description_width": ""
          }
        },
        "d8c040bc16254c5faf9def297e2e5f24": {
          "model_module": "@jupyter-widgets/controls",
          "model_module_version": "1.5.0",
          "model_name": "FloatProgressModel",
          "state": {
            "_dom_classes": [],
            "_model_module": "@jupyter-widgets/controls",
            "_model_module_version": "1.5.0",
            "_model_name": "FloatProgressModel",
            "_view_count": null,
            "_view_module": "@jupyter-widgets/controls",
            "_view_module_version": "1.5.0",
            "_view_name": "ProgressView",
            "bar_style": "success",
            "description": "",
            "description_tooltip": null,
            "layout": "IPY_MODEL_3e801d9babf54ddab89c04eb7ba40ab0",
            "max": 79,
            "min": 0,
            "orientation": "horizontal",
            "style": "IPY_MODEL_278d93e3979c4c8783ab30924d923752",
            "value": 79
          }
        },
        "daca74a067bb43cc8da939d714b8cec8": {
          "model_module": "@jupyter-widgets/controls",
          "model_module_version": "1.5.0",
          "model_name": "HBoxModel",
          "state": {
            "_dom_classes": [],
            "_model_module": "@jupyter-widgets/controls",
            "_model_module_version": "1.5.0",
            "_model_name": "HBoxModel",
            "_view_count": null,
            "_view_module": "@jupyter-widgets/controls",
            "_view_module_version": "1.5.0",
            "_view_name": "HBoxView",
            "box_style": "",
            "children": [
              "IPY_MODEL_d55ea51a88de4a2b97705191b2960baa",
              "IPY_MODEL_09d1dd25370e476184687cae21d39b8e",
              "IPY_MODEL_97d23194a23246548f5519cc95fcd497"
            ],
            "layout": "IPY_MODEL_4f412c57fa024219ba2045cb665b2b93"
          }
        },
        "e0b399e049c24fec8e5b37e5ffb77dd5": {
          "model_module": "@jupyter-widgets/base",
          "model_module_version": "1.2.0",
          "model_name": "LayoutModel",
          "state": {
            "_model_module": "@jupyter-widgets/base",
            "_model_module_version": "1.2.0",
            "_model_name": "LayoutModel",
            "_view_count": null,
            "_view_module": "@jupyter-widgets/base",
            "_view_module_version": "1.2.0",
            "_view_name": "LayoutView",
            "align_content": null,
            "align_items": null,
            "align_self": null,
            "border": null,
            "bottom": null,
            "display": null,
            "flex": null,
            "flex_flow": null,
            "grid_area": null,
            "grid_auto_columns": null,
            "grid_auto_flow": null,
            "grid_auto_rows": null,
            "grid_column": null,
            "grid_gap": null,
            "grid_row": null,
            "grid_template_areas": null,
            "grid_template_columns": null,
            "grid_template_rows": null,
            "height": null,
            "justify_content": null,
            "justify_items": null,
            "left": null,
            "margin": null,
            "max_height": null,
            "max_width": null,
            "min_height": null,
            "min_width": null,
            "object_fit": null,
            "object_position": null,
            "order": null,
            "overflow": null,
            "overflow_x": null,
            "overflow_y": null,
            "padding": null,
            "right": null,
            "top": null,
            "visibility": null,
            "width": null
          }
        },
        "e15bb89d801645b49ea96a04848ad69f": {
          "model_module": "@jupyter-widgets/base",
          "model_module_version": "1.2.0",
          "model_name": "LayoutModel",
          "state": {
            "_model_module": "@jupyter-widgets/base",
            "_model_module_version": "1.2.0",
            "_model_name": "LayoutModel",
            "_view_count": null,
            "_view_module": "@jupyter-widgets/base",
            "_view_module_version": "1.2.0",
            "_view_name": "LayoutView",
            "align_content": null,
            "align_items": null,
            "align_self": null,
            "border": null,
            "bottom": null,
            "display": null,
            "flex": null,
            "flex_flow": null,
            "grid_area": null,
            "grid_auto_columns": null,
            "grid_auto_flow": null,
            "grid_auto_rows": null,
            "grid_column": null,
            "grid_gap": null,
            "grid_row": null,
            "grid_template_areas": null,
            "grid_template_columns": null,
            "grid_template_rows": null,
            "height": null,
            "justify_content": null,
            "justify_items": null,
            "left": null,
            "margin": null,
            "max_height": null,
            "max_width": null,
            "min_height": null,
            "min_width": null,
            "object_fit": null,
            "object_position": null,
            "order": null,
            "overflow": null,
            "overflow_x": null,
            "overflow_y": null,
            "padding": null,
            "right": null,
            "top": null,
            "visibility": null,
            "width": null
          }
        },
        "e1e0a07d8acc4c7b98c884503c01dec1": {
          "model_module": "@jupyter-widgets/base",
          "model_module_version": "1.2.0",
          "model_name": "LayoutModel",
          "state": {
            "_model_module": "@jupyter-widgets/base",
            "_model_module_version": "1.2.0",
            "_model_name": "LayoutModel",
            "_view_count": null,
            "_view_module": "@jupyter-widgets/base",
            "_view_module_version": "1.2.0",
            "_view_name": "LayoutView",
            "align_content": null,
            "align_items": null,
            "align_self": null,
            "border": null,
            "bottom": null,
            "display": null,
            "flex": null,
            "flex_flow": null,
            "grid_area": null,
            "grid_auto_columns": null,
            "grid_auto_flow": null,
            "grid_auto_rows": null,
            "grid_column": null,
            "grid_gap": null,
            "grid_row": null,
            "grid_template_areas": null,
            "grid_template_columns": null,
            "grid_template_rows": null,
            "height": null,
            "justify_content": null,
            "justify_items": null,
            "left": null,
            "margin": null,
            "max_height": null,
            "max_width": null,
            "min_height": null,
            "min_width": null,
            "object_fit": null,
            "object_position": null,
            "order": null,
            "overflow": null,
            "overflow_x": null,
            "overflow_y": null,
            "padding": null,
            "right": null,
            "top": null,
            "visibility": null,
            "width": null
          }
        },
        "e69cbe9861c14dc18d23b4567ea9f8f6": {
          "model_module": "@jupyter-widgets/controls",
          "model_module_version": "1.5.0",
          "model_name": "FloatProgressModel",
          "state": {
            "_dom_classes": [],
            "_model_module": "@jupyter-widgets/controls",
            "_model_module_version": "1.5.0",
            "_model_name": "FloatProgressModel",
            "_view_count": null,
            "_view_module": "@jupyter-widgets/controls",
            "_view_module_version": "1.5.0",
            "_view_name": "ProgressView",
            "bar_style": "success",
            "description": "",
            "description_tooltip": null,
            "layout": "IPY_MODEL_e73c57a462584b8796266f37f812edf8",
            "max": 79,
            "min": 0,
            "orientation": "horizontal",
            "style": "IPY_MODEL_eaf89a4abefd461db5a0dc224f3d38a0",
            "value": 79
          }
        },
        "e73c57a462584b8796266f37f812edf8": {
          "model_module": "@jupyter-widgets/base",
          "model_module_version": "1.2.0",
          "model_name": "LayoutModel",
          "state": {
            "_model_module": "@jupyter-widgets/base",
            "_model_module_version": "1.2.0",
            "_model_name": "LayoutModel",
            "_view_count": null,
            "_view_module": "@jupyter-widgets/base",
            "_view_module_version": "1.2.0",
            "_view_name": "LayoutView",
            "align_content": null,
            "align_items": null,
            "align_self": null,
            "border": null,
            "bottom": null,
            "display": null,
            "flex": null,
            "flex_flow": null,
            "grid_area": null,
            "grid_auto_columns": null,
            "grid_auto_flow": null,
            "grid_auto_rows": null,
            "grid_column": null,
            "grid_gap": null,
            "grid_row": null,
            "grid_template_areas": null,
            "grid_template_columns": null,
            "grid_template_rows": null,
            "height": null,
            "justify_content": null,
            "justify_items": null,
            "left": null,
            "margin": null,
            "max_height": null,
            "max_width": null,
            "min_height": null,
            "min_width": null,
            "object_fit": null,
            "object_position": null,
            "order": null,
            "overflow": null,
            "overflow_x": null,
            "overflow_y": null,
            "padding": null,
            "right": null,
            "top": null,
            "visibility": null,
            "width": null
          }
        },
        "e7528d776b9a4c9892f9b19e9ad8fcea": {
          "model_module": "@jupyter-widgets/controls",
          "model_module_version": "1.5.0",
          "model_name": "HTMLModel",
          "state": {
            "_dom_classes": [],
            "_model_module": "@jupyter-widgets/controls",
            "_model_module_version": "1.5.0",
            "_model_name": "HTMLModel",
            "_view_count": null,
            "_view_module": "@jupyter-widgets/controls",
            "_view_module_version": "1.5.0",
            "_view_name": "HTMLView",
            "description": "",
            "description_tooltip": null,
            "layout": "IPY_MODEL_31a03c4c24914c4e8e1063cc9a15c659",
            "placeholder": "​",
            "style": "IPY_MODEL_795bd78c12b94c91a33eccf059547c63",
            "value": " 60%"
          }
        },
        "e9b62c3fa8bf4a85865bf1f20f31c72c": {
          "model_module": "@jupyter-widgets/controls",
          "model_module_version": "1.5.0",
          "model_name": "ProgressStyleModel",
          "state": {
            "_model_module": "@jupyter-widgets/controls",
            "_model_module_version": "1.5.0",
            "_model_name": "ProgressStyleModel",
            "_view_count": null,
            "_view_module": "@jupyter-widgets/base",
            "_view_module_version": "1.2.0",
            "_view_name": "StyleView",
            "bar_color": null,
            "description_width": ""
          }
        },
        "eaf89a4abefd461db5a0dc224f3d38a0": {
          "model_module": "@jupyter-widgets/controls",
          "model_module_version": "1.5.0",
          "model_name": "ProgressStyleModel",
          "state": {
            "_model_module": "@jupyter-widgets/controls",
            "_model_module_version": "1.5.0",
            "_model_name": "ProgressStyleModel",
            "_view_count": null,
            "_view_module": "@jupyter-widgets/base",
            "_view_module_version": "1.2.0",
            "_view_name": "StyleView",
            "bar_color": null,
            "description_width": ""
          }
        },
        "f2b34f514d6c45cf9b53eeb0f1c268bd": {
          "model_module": "@jupyter-widgets/controls",
          "model_module_version": "1.5.0",
          "model_name": "HTMLModel",
          "state": {
            "_dom_classes": [],
            "_model_module": "@jupyter-widgets/controls",
            "_model_module_version": "1.5.0",
            "_model_name": "HTMLModel",
            "_view_count": null,
            "_view_module": "@jupyter-widgets/controls",
            "_view_module_version": "1.5.0",
            "_view_name": "HTMLView",
            "description": "",
            "description_tooltip": null,
            "layout": "IPY_MODEL_9c39ae88fa0f414eb523bcf9e63f3b78",
            "placeholder": "​",
            "style": "IPY_MODEL_1d46d706399d484b9ec23ae639209e11",
            "value": "100%"
          }
        },
        "f67dcbef959d4cadb91a9d1419b8f32f": {
          "model_module": "@jupyter-widgets/base",
          "model_module_version": "1.2.0",
          "model_name": "LayoutModel",
          "state": {
            "_model_module": "@jupyter-widgets/base",
            "_model_module_version": "1.2.0",
            "_model_name": "LayoutModel",
            "_view_count": null,
            "_view_module": "@jupyter-widgets/base",
            "_view_module_version": "1.2.0",
            "_view_name": "LayoutView",
            "align_content": null,
            "align_items": null,
            "align_self": null,
            "border": null,
            "bottom": null,
            "display": null,
            "flex": null,
            "flex_flow": null,
            "grid_area": null,
            "grid_auto_columns": null,
            "grid_auto_flow": null,
            "grid_auto_rows": null,
            "grid_column": null,
            "grid_gap": null,
            "grid_row": null,
            "grid_template_areas": null,
            "grid_template_columns": null,
            "grid_template_rows": null,
            "height": null,
            "justify_content": null,
            "justify_items": null,
            "left": null,
            "margin": null,
            "max_height": null,
            "max_width": null,
            "min_height": null,
            "min_width": null,
            "object_fit": null,
            "object_position": null,
            "order": null,
            "overflow": null,
            "overflow_x": null,
            "overflow_y": null,
            "padding": null,
            "right": null,
            "top": null,
            "visibility": null,
            "width": null
          }
        },
        "f851d7e16ac547478c984a933ccba92c": {
          "model_module": "@jupyter-widgets/base",
          "model_module_version": "1.2.0",
          "model_name": "LayoutModel",
          "state": {
            "_model_module": "@jupyter-widgets/base",
            "_model_module_version": "1.2.0",
            "_model_name": "LayoutModel",
            "_view_count": null,
            "_view_module": "@jupyter-widgets/base",
            "_view_module_version": "1.2.0",
            "_view_name": "LayoutView",
            "align_content": null,
            "align_items": null,
            "align_self": null,
            "border": null,
            "bottom": null,
            "display": null,
            "flex": null,
            "flex_flow": null,
            "grid_area": null,
            "grid_auto_columns": null,
            "grid_auto_flow": null,
            "grid_auto_rows": null,
            "grid_column": null,
            "grid_gap": null,
            "grid_row": null,
            "grid_template_areas": null,
            "grid_template_columns": null,
            "grid_template_rows": null,
            "height": null,
            "justify_content": null,
            "justify_items": null,
            "left": null,
            "margin": null,
            "max_height": null,
            "max_width": null,
            "min_height": null,
            "min_width": null,
            "object_fit": null,
            "object_position": null,
            "order": null,
            "overflow": null,
            "overflow_x": null,
            "overflow_y": null,
            "padding": null,
            "right": null,
            "top": null,
            "visibility": null,
            "width": null
          }
        },
        "fb544a88378041849b1c08cbad750204": {
          "model_module": "@jupyter-widgets/controls",
          "model_module_version": "1.5.0",
          "model_name": "HBoxModel",
          "state": {
            "_dom_classes": [],
            "_model_module": "@jupyter-widgets/controls",
            "_model_module_version": "1.5.0",
            "_model_name": "HBoxModel",
            "_view_count": null,
            "_view_module": "@jupyter-widgets/controls",
            "_view_module_version": "1.5.0",
            "_view_name": "HBoxView",
            "box_style": "",
            "children": [
              "IPY_MODEL_e7528d776b9a4c9892f9b19e9ad8fcea",
              "IPY_MODEL_0d7ce28b69e54d41b3dcfa90a1613476",
              "IPY_MODEL_44cb95a01d434b3e9750b506b8fe1f86"
            ],
            "layout": "IPY_MODEL_2381557a08ca4a8cab33c2a3c4b9b33e"
          }
        },
        "fb75062ea5a44a53aa3ad37f6cd71f82": {
          "model_module": "@jupyter-widgets/controls",
          "model_module_version": "1.5.0",
          "model_name": "HBoxModel",
          "state": {
            "_dom_classes": [],
            "_model_module": "@jupyter-widgets/controls",
            "_model_module_version": "1.5.0",
            "_model_name": "HBoxModel",
            "_view_count": null,
            "_view_module": "@jupyter-widgets/controls",
            "_view_module_version": "1.5.0",
            "_view_name": "HBoxView",
            "box_style": "",
            "children": [
              "IPY_MODEL_3abf68fe0d3249709781d9f44edd1d92",
              "IPY_MODEL_8fc8457b35d94bf68d5a23ffc4a8cd72",
              "IPY_MODEL_23eb4cac34b6461a8ba5de82485a029a"
            ],
            "layout": "IPY_MODEL_b510515213ed4f23b4f2eef562c63057"
          }
        }
      }
    }
  },
  "nbformat": 4,
  "nbformat_minor": 0
}
